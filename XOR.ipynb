{
 "cells": [
  {
   "cell_type": "code",
   "execution_count": 16,
   "id": "8738e552",
   "metadata": {},
   "outputs": [],
   "source": [
    "import numpy as np\n",
    "from sklearn.datasets import load_iris\n",
    "from sklearn.preprocessing import StandardScaler"
   ]
  },
  {
   "cell_type": "code",
   "execution_count": 17,
   "id": "1ec9d89a",
   "metadata": {},
   "outputs": [],
   "source": [
    "iris = load_iris()\n",
    "X = iris.data[:, :2]  \n",
    "y = iris.target\n",
    "\n",
    "y = (y == 0).astype(int).reshape(-1, 1)\n",
    "\n",
    "scaler = StandardScaler()\n",
    "X = scaler.fit_transform(X)\n",
    "\n",
    "def sigmoid(x):\n",
    "    return 1 / (1 + np.exp(-x))\n",
    "\n",
    "def sigmoid_derivative(x):\n",
    "    return x * (1 - x)\n",
    "\n",
    "def relu(x):\n",
    "    return np.maximum(0, x)\n",
    "\n",
    "def relu_derivative(x):\n",
    "    return np.where(x > 0, 1, 0)"
   ]
  },
  {
   "cell_type": "code",
   "execution_count": 18,
   "id": "9509e5b3",
   "metadata": {},
   "outputs": [],
   "source": [
    "class NeuralNetwork:\n",
    "    def __init__(self, input_size, hidden_size, output_size):\n",
    "        self.weights1 = np.random.rand(input_size, hidden_size)  \n",
    "        self.bias1 = np.random.rand(1, hidden_size)             \n",
    "        self.weights2 = np.random.rand(hidden_size, output_size) \n",
    "        self.bias2 = np.random.rand(1, output_size)            \n",
    "\n",
    "    def forward(self, X):\n",
    "        self.hidden_input = np.dot(X, self.weights1) + self.bias1\n",
    "        self.hidden_output = relu(self.hidden_input)\n",
    "        self.output_input = np.dot(self.hidden_output, self.weights2) + self.bias2\n",
    "        self.output = sigmoid(self.output_input)\n",
    "        return self.output\n",
    "\n",
    "    def backward(self, X, y, output, learning_rate):\n",
    "        error = y - output\n",
    "        d_output = error * sigmoid_derivative(output)\n",
    "\n",
    "        error_hidden = d_output.dot(self.weights2.T)\n",
    "        d_hidden = error_hidden * relu_derivative(self.hidden_output)\n",
    "\n",
    "        # Обновление весов и смещений\n",
    "        self.weights2 += self.hidden_output.T.dot(d_output) * learning_rate\n",
    "        self.bias2 += np.sum(d_output, axis=0, keepdims=True) * learning_rate\n",
    "        self.weights1 += X.T.dot(d_hidden) * learning_rate\n",
    "        self.bias1 += np.sum(d_hidden, axis=0, keepdims=True) * learning_rate\n",
    "\n",
    "    def train(self, X, y, epochs, learning_rate):\n",
    "        for epoch in range(epochs):\n",
    "            output = self.forward(X)\n",
    "            self.backward(X, y, output, learning_rate)\n",
    "            if epoch % 1000 == 0:\n",
    "                loss = np.mean(np.square(y - output))\n",
    "                print(f\"Epoch {epoch}, Loss: {loss}\")\n",
    "\n",
    "    def predict(self, X):\n",
    "        return np.round(self.forward(X))\n"
   ]
  },
  {
   "cell_type": "code",
   "execution_count": 20,
   "id": "0c2c3b9a",
   "metadata": {},
   "outputs": [
    {
     "name": "stdout",
     "output_type": "stream",
     "text": [
      "Epoch 0, Loss: 0.46257679657664225\n",
      "Epoch 1000, Loss: 0.00181672271718957\n",
      "Epoch 2000, Loss: 0.0009522819548002675\n",
      "Epoch 3000, Loss: 0.0006130959033907887\n",
      "Epoch 4000, Loss: 0.000441056471499258\n",
      "Epoch 5000, Loss: 0.0003381373778949211\n",
      "Epoch 6000, Loss: 0.00027029393844183407\n",
      "Epoch 7000, Loss: 0.00022365763195986317\n",
      "Epoch 8000, Loss: 0.00019043715905785316\n",
      "Epoch 9000, Loss: 0.00016414566958682794\n",
      "[1. 1. 1. 1. 1. 1. 1. 1. 1. 1. 1. 1. 1. 1. 1. 1. 1. 1. 1. 1. 1. 1. 1. 1.\n",
      " 1. 1. 1. 1. 1. 1. 1. 1. 1. 1. 1. 1. 1. 1. 1. 1. 1. 1. 1. 1. 1. 1. 1. 1.\n",
      " 1. 1. 0. 0. 0. 0. 0. 0. 0. 0. 0. 0. 0. 0. 0. 0. 0. 0. 0. 0. 0. 0. 0. 0.\n",
      " 0. 0. 0. 0. 0. 0. 0. 0. 0. 0. 0. 0. 0. 0. 0. 0. 0. 0. 0. 0. 0. 0. 0. 0.\n",
      " 0. 0. 0. 0. 0. 0. 0. 0. 0. 0. 0. 0. 0. 0. 0. 0. 0. 0. 0. 0. 0. 0. 0. 0.\n",
      " 0. 0. 0. 0. 0. 0. 0. 0. 0. 0. 0. 0. 0. 0. 0. 0. 0. 0. 0. 0. 0. 0. 0. 0.\n",
      " 0. 0. 0. 0. 0. 0.]\n"
     ]
    }
   ],
   "source": [
    "input_size = X.shape[1]  # Количество входных признаков\n",
    "hidden_size = 4          # Количество нейронов в скрытом слое\n",
    "output_size = 1          # Количество выходных нейронов\n",
    "\n",
    "nn = NeuralNetwork(input_size, hidden_size, output_size)\n",
    "nn.train(X, y, epochs=10000, learning_rate=0.01)\n",
    "\n",
    "predictions = nn.predict(X)\n",
    "print(predictions.flatten())"
   ]
  },
  {
   "cell_type": "code",
   "execution_count": null,
   "id": "f893f927",
   "metadata": {},
   "outputs": [],
   "source": []
  },
  {
   "cell_type": "code",
   "execution_count": null,
   "id": "a68f881a",
   "metadata": {},
   "outputs": [],
   "source": []
  }
 ],
 "metadata": {
  "kernelspec": {
   "display_name": "Python 3 (ipykernel)",
   "language": "python",
   "name": "python3"
  },
  "language_info": {
   "codemirror_mode": {
    "name": "ipython",
    "version": 3
   },
   "file_extension": ".py",
   "mimetype": "text/x-python",
   "name": "python",
   "nbconvert_exporter": "python",
   "pygments_lexer": "ipython3",
   "version": "3.11.5"
  }
 },
 "nbformat": 4,
 "nbformat_minor": 5
}
