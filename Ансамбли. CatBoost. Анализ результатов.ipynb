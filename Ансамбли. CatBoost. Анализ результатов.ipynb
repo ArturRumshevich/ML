{
 "cells": [
  {
   "cell_type": "markdown",
   "id": "9234d03d",
   "metadata": {},
   "source": [
    "# <center> Ансамбли </center>"
   ]
  },
  {
   "cell_type": "markdown",
   "id": "e4ea2dcf",
   "metadata": {},
   "source": [
    "`Дано:` \n",
    "- множество объектов обучающей выборки $X^l = (x_i, y_i)_{i=1}^{l}, x_i\\in \\mathbb{R}$, разделенных на классы $Y=\\{-1,1\\}$; \n",
    "- множество объектов тестовой выборки, классовая принадлежность которых не известна. \n",
    "- $a_t: X\\rightarrow Y, t=1,...T$ - обучаемые базовые алгоритмы."
   ]
  },
  {
   "cell_type": "markdown",
   "id": "0f73facc",
   "metadata": {},
   "source": [
    "**Алгоритм классификации имеет вид:** \n",
    "$$a_t(x)=C(b_t(x))$$\n",
    "$$a_t: X \\overset{b_t}{\\rightarrow}R\\overset{C}{\\rightarrow}Y$$\n",
    "- $b_t$ - алгоритмический оператор (вероятность принадлежности объекта к классу, расстояние объекта до разделяющей поверхности, степень уверенности классификации и т.п."
   ]
  },
  {
   "cell_type": "markdown",
   "id": "767ce032",
   "metadata": {},
   "source": [
    "*Композиция $T$ алгоритмов $a_t(x)=C(b_t(x)), t=1,...T$* называется суперпозиция алгоритмических операторов $b_t:X\\rightarrow R$, корректирующей операции $F:R^T \\rightarrow R$ и решающего правила $C:R\\rightarrow Y$."
   ]
  },
  {
   "cell_type": "markdown",
   "id": "f175035b",
   "metadata": {},
   "source": [
    "$$a(x)=C(F(b_1(x),...,b_T(X))), x \\in X$$"
   ]
  },
  {
   "cell_type": "markdown",
   "id": "d5e5415b",
   "metadata": {},
   "source": [
    "**Примеры агрегирующих функций:** \n",
    "- простое голосование\n",
    "$$F(b_1,...,b_T) = \\frac{1}{T}\\sum_{t=1}^T b_t$$\n",
    "- взвешенное голосование \n",
    "$$F(b_1,...,b_T)= \\sum_{t=1}^T \\alpha_t b_t, \\quad \\sum_{t=1}^T\\alpha_t=1, \\quad \\alpha_t  \\geq 0$$\n",
    "- смесь алгоритмов с функциями компетентности \n",
    "$$F(b_1,...,b_T)= \\sum_{t=1}^T g_t(x) b_t$$"
   ]
  },
  {
   "cell_type": "markdown",
   "id": "ed157eeb",
   "metadata": {},
   "source": [
    "**Базовые алгоритмы не являются независимыми:** \n",
    "- решают одну и ту же задачу;\n",
    "- настраиваются на один целевой вектор ($y_i$);\n",
    "- выбираются из одной и той же модели."
   ]
  },
  {
   "cell_type": "markdown",
   "id": "23742f80",
   "metadata": {},
   "source": [
    "**Способы повышения разнообразия базовых алгоритмов:** \n",
    "- обучение по различным подвыборкам; \n",
    "- обучение по различным наборам признаков; \n",
    "- обучение из разных моделей; \n",
    "- обучение по с использованием рандомизации: \n",
    "    - bagging - формирование подвыборок из обучающей выборки \"с возвращением\" (длина каждой подвыборки равна длине исходной выборки);\n",
    "    - pasting - формирование случайной обучающей подвыборки;\n",
    "    - random subspaces - формирование случайного подмножества признаков;\n",
    "    - random patches - формирование случайного подмножества и объектов, и признаков;\n",
    "    - cross-validated committees. "
   ]
  },
  {
   "cell_type": "markdown",
   "id": "f9e546c5",
   "metadata": {},
   "source": [
    "## Бустинг для задачи классификации"
   ]
  },
  {
   "cell_type": "markdown",
   "id": "4b7cbd3c",
   "metadata": {},
   "source": [
    "Предположим:\n",
    "- решающее правило фиксировано $C=sign(b)$;\n",
    "- $b_t: X \\rightarrow \\{-1,0,1\\}$, $b_t(x)=0$ отказ базового алгоритма от классификации объекта $x$."
   ]
  },
  {
   "cell_type": "markdown",
   "id": "9c0b4bf1",
   "metadata": {},
   "source": [
    "Алгоритмическая композиция имеет вид:\n",
    "$$a(x)=C(F(b_1(x),...,b_T(X)))=sign(\\sum_{t=1}^T \\alpha_t b_t(x)), x \\in X$$"
   ]
  },
  {
   "cell_type": "markdown",
   "id": "e19c7eae",
   "metadata": {},
   "source": [
    "Функционал качества композиции -- количество ошибок на выборке:\n",
    "$$Q_T = \\sum_{i=1}^l [y_i*\\sum_{t=1}^T \\alpha_t b_t(x)<0]$$"
   ]
  },
  {
   "cell_type": "markdown",
   "id": "508dc104",
   "metadata": {},
   "source": [
    "Для упращения задачи минимизации фукнционала $Q_T$ используем следующие эвристики:\n",
    "- При добавлении в композицию слагаемого $\\alpha_tb_t(x)$ оптимизируется только базовый алгоритм $b_t$ и коэффициент при нем $\\alpha_t$, а все предыдущие слагаемые $\\alpha_1b_1(x),...,\\alpha_{t-1}b_{t-1}(x)$ полагаются фиксированными.\n",
    "- Порогавая функция потерь в функционале $Q_t$ аппроксимируется (заменяется) непрерывно дифференцируемой оценкой сверху. Для adaboost используется экспоненциальная аппроксимация: $[y_ib(x_i)<0]\\leq e^{-y_ib(x_i)}$"
   ]
  },
  {
   "cell_type": "markdown",
   "id": "b6d22cef",
   "metadata": {},
   "source": [
    "Тогда функционал $Q_t$ можно оценить сверху:"
   ]
  },
  {
   "cell_type": "markdown",
   "id": "4209a1af",
   "metadata": {},
   "source": [
    "$$Q_T \\leq \\widetilde{Q_T} = \\sum_{i=1}^l exp(-y_i\\sum_{t=1}^T \\alpha_t b_t(x_i)) = \\sum_{i=1}^l exp(-y_i\\sum_{t=1}^{T-1} \\alpha_t b_t(x_i)) * exp(-y_i\\alpha_T b_T(x_i)) $$"
   ]
  },
  {
   "cell_type": "markdown",
   "id": "99c13f91",
   "metadata": {},
   "source": [
    "$exp(-y_i\\sum_{t=1}^T-1 \\alpha_t b_t(x_i))$ -- это вес $w_i$ i-го объекта."
   ]
  },
  {
   "cell_type": "markdown",
   "id": "01a4bacb",
   "metadata": {},
   "source": [
    "Нормируем все веса и получаем вектор $\\widetilde{W}^l = (\\tilde{w_1},...,\\tilde{w_l})$, где $\\tilde{w}^i = \\frac{w_i}{\\sum_{j=1}^l w_j}$."
   ]
  },
  {
   "cell_type": "markdown",
   "id": "4f8d6076",
   "metadata": {},
   "source": [
    "Определим два функционала качества:\n",
    "- суммарный вес ошибочных классификаций $N(b; \\widetilde{W}) = \\sum_{i=1}^l\\tilde{w}[b(x_i)=-y_i]$\n",
    "- суммарный вес правильных классификаций $P(b; \\widetilde{W}) = \\sum_{i=1}^l\\tilde{w}[b(x_i)=y_i]$"
   ]
  },
  {
   "cell_type": "markdown",
   "id": "1f6f6627",
   "metadata": {},
   "source": [
    "Пусть для любого нормированного вектора весов $\\widetilde{W}$ существует базовый алгоритм $b$ классифицирующий выборку хотя бы немного лучше, чем на угад: $P(b; \\widetilde{W})>N(b; \\widetilde{W})$. Тогда минимум функционала $\\widetilde{Q_T}$ достигается при: \n",
    "- $b_T = arg \\underset{b}{max}\\sqrt{P(b; \\widetilde{W})} - \\sqrt{N(b; \\widetilde{W})}$\n",
    "- $\\alpha_T = \\frac{1}{2} ln \\frac{P(b; \\widetilde{W})}{N(b; \\widetilde{W})}$"
   ]
  },
  {
   "cell_type": "markdown",
   "id": "70a1fbcb",
   "metadata": {},
   "source": [
    "**Алгоритм построения линейной комбинации классификаторов:**\n",
    "\n",
    "*Вход:* \n",
    "\n",
    "- $X^l, Y^l$ - обучающая выборка;\n",
    "- $T$ - максимальное число базовых алгоритмов;\n",
    "\n",
    "*Выход:*\n",
    "- базовые алгоритмы и их веса $\\alpha_tb_t, \\quad t=1,...,T$\n",
    "\n",
    "*Алгоритм:*\n",
    "1. инициализируем вектор весов: $w_i=1/l, \\quad i=1,..l;$\n",
    "2. для всех $t=1,...,T:$\n",
    "- Обучить базовый алгоритм на наблюдениях $x_i \\in X$, взятых с весом $w_i$;\n",
    "- Определить суммарный вес правильных классификаций $P(b; \\widetilde{W})$;\n",
    "- Оценить важность алгоритма: $\\alpha_t = \\frac{1}{2} ln \\frac{P(b; \\widetilde{W})}{N(b; \\widetilde{W})}$\n",
    "- Пересчитать все объектов: $w_i = w_i* exp(-\\alpha_t*y_i*b_t(x_i)), \\quad i=1,...,l$\n",
    "- Провести нормировку весов объектов."
   ]
  },
  {
   "cell_type": "markdown",
   "id": "1216c4d1",
   "metadata": {},
   "source": [
    "## Градиентный бустинг"
   ]
  },
  {
   "cell_type": "markdown",
   "id": "3a40905e",
   "metadata": {},
   "source": [
    "$$a_T(x)= \\sum_{t=1}^T \\alpha_t b_t(x), \\quad x\\in X, \\quad b_t:X\\rightarrow \\mathbb{R}, \\quad\\alpha_t\\in \\mathbb{R}_+$$"
   ]
  },
  {
   "cell_type": "markdown",
   "id": "7373f97e",
   "metadata": {},
   "source": [
    "**Эвристика:** обучаем $\\alpha_t, b_t$ при фиксированных прилылущих.\n",
    "\n",
    "**Критерий качества** с заданной гладкой функцией потерь $\\mathcal{L}(b,y)$:\n",
    "$$Q(\\alpha;b;X^l)=\\sum_{i=1}^l\\mathcal{L}(\\sum_{t=1}^{T-1}\\alpha_t b_t(x_i)+\\alpha b(x_i), y_i)\\rightarrow\\underset{\\alpha, b}{min}$$\n",
    "- $(a_{T-1,i})_{i=1}^l$ - вектор текущего приближения\n",
    "- $(a_{T,i})_{i=1}^l$ - вектор следующего приближения"
   ]
  },
  {
   "cell_type": "markdown",
   "id": "9c7f05f3",
   "metadata": {},
   "source": [
    "Градиентный метод минимизации $Q(F)\\rightarrow min, f\\in \\mathbb{R}^l$:\n",
    "- $a_{0,i}:=$ начальное приближение;\n",
    "- $a_{T,i}:= a_{T-1,i}-\\lambda g_i$ начальное приближение, $i=1,...,l$, где $g_i=\\mathcal{L}_f'(a_{T-1,i}, y_i)$ - компоненты вектора градиента, $\\lambda$- градиентный шаг;"
   ]
  },
  {
   "cell_type": "markdown",
   "id": "c2b29887",
   "metadata": {},
   "source": [
    "А добавление одного базового алгоритма: \n",
    "$a_{T,i}:= a_{T-1,i}-\\lambda b(x_i), \\quad i=1,...,l$"
   ]
  },
  {
   "cell_type": "markdown",
   "id": "9c537e8b",
   "metadata": {},
   "source": [
    "Тогда будем искать базовый алгоритм, который приближает вектор антиградиента."
   ]
  },
  {
   "cell_type": "markdown",
   "id": "4adb4f1f",
   "metadata": {},
   "source": [
    "**Алгоритм градиентного бустинга:**\n",
    "\n",
    "*Вход:* \n",
    "\n",
    "- $X^l, Y^l$ - обучающая выборка;\n",
    "- $T$ - максимальное число базовых алгоритмов;\n",
    "- $\\lambda$ - скорость обучения.\n",
    "\n",
    "*Выход:*\n",
    "- базовые алгоритмы и их веса $\\alpha_tb_t, \\quad t=1,...,T$\n",
    "\n",
    "*Алгоритм:*\n",
    "1. инициализируем вектор начальный значений: $a_i=1/l, \\quad i=1,..l;$\n",
    "2. для всех $t=1,...,T:$\n",
    "- Обучить базовый алгоритм, приближающий антиградиент:  \n",
    "$b_t:=arg\\underset{b\\in B}{min}\\sum_{i=1}^l(b(x_i)+\\mathcal{L}'(w_i,y_i))^2$\n",
    "- найти вес базового алгоритма $\\alpha_t$:  \n",
    "$\\alpha_t:=arg\\underset{a>0}{min}\\sum_{i=1}^l\\mathcal{L}(a_i+\\lambda b_t(x_i);y_i)$\n",
    "- обновить значения:  \n",
    "$a_i:=a_i+\\alpha_t b_t(x_i); \\quad i=1,...,l$"
   ]
  },
  {
   "cell_type": "markdown",
   "id": "f919706e",
   "metadata": {},
   "source": [
    "**Алгоритм градиентного бустинга адаптация под логарифмическую функцию потерь:**\n",
    "$$Q(w) = \\sum_{i=1}^l log_2(1+e^{-y_i*b(x_i) })\\rightarrow \\underset{w}{min}$$\n",
    "Антиградиент: \n",
    "\n",
    "$\\mathcal{L}'(b(x_i),y_i))= b(x_i)*\\sigma(-b(x_i)*y_i)$, где $\\sigma(z) = \\frac{1}{1+e^{-z}}$\n",
    "\n",
    "*Вход:* \n",
    "\n",
    "- $X^l, Y^l$ - обучающая выборка;\n",
    "- $T$ - максимальное число базовых алгоритмов;\n",
    "- $\\lambda$ - скорость обучения.\n",
    "\n",
    "*Выход:*\n",
    "- базовые алгоритмы и их веса $\\alpha_tb_t, \\quad t=1,...,T$\n",
    "\n",
    "*Алгоритм:*\n",
    "1. инициализируем вектор начальный значений: $a_i=1/l, \\quad i=1,..l;$\n",
    "2. для всех $t=1,...,T:$\n",
    "- Обучить базовый алгоритм на наблюдениях $\\mathcal{L}'(b(x_i),y_i))$;  \n",
    "- Обновить значения: \n",
    "$a_i:=a_i+\\lambda b_t(x_i); \\quad i=1,...,l$"
   ]
  },
  {
   "cell_type": "markdown",
   "id": "40eb8320",
   "metadata": {},
   "source": [
    "## Градиентный бустинг на деревьях"
   ]
  },
  {
   "cell_type": "markdown",
   "id": "ee27ae18",
   "metadata": {
    "heading_collapsed": true
   },
   "source": [
    "### XGBoost"
   ]
  },
  {
   "cell_type": "markdown",
   "id": "f1a0007c",
   "metadata": {
    "hidden": true
   },
   "source": [
    "В основе алгоритма -- градиентный бустинг. В качестве базовых алгоритмов CART (Classification and Regression Tree) с регуляризацией."
   ]
  },
  {
   "cell_type": "markdown",
   "id": "a4563b73",
   "metadata": {
    "hidden": true
   },
   "source": [
    "Дерево регрессии и классификации задается суммой: \n",
    "$$b(x,w)=\\sum_{k in K} w_k B_k(x)$$\n",
    "где: \n",
    "- $B_k(x)$ - бинарный индикатор, который показывает, попало ли наблюдение $x$ в лист $k$ или нет;\n",
    "- $w_k$ - значение ответа в листе $k$;\n",
    "- $K$ - множество листьев дерева. "
   ]
  },
  {
   "cell_type": "markdown",
   "id": "c24bb2fc",
   "metadata": {
    "hidden": true
   },
   "source": [
    "Критерий качества: \n",
    "$$Q(w) = \\sum_{i=1}^l L(a(x_i)+b(x_i, w);y_i) + \\gamma |K|+\\frac{\\lambda}{2}\\sum_{k\\in K}w_k^2 \\rightarrow \\underset{w}{min}$$\n",
    "где: \n",
    "- $a(x_i) = \\sum_{t=1}^{T-1} \\alpha_t b_t(x)$ - ранее построенная часть ансамбля."
   ]
  },
  {
   "cell_type": "markdown",
   "id": "3ac02ee8",
   "metadata": {
    "hidden": true
   },
   "source": [
    "В результате разложения функции ошибки в ряд Тейлора и вычисления частных производных можно вывести аналитические формулы для вычисления весов $w_k$: \n",
    "$$w_k = \\frac{\\sum_{i=1}^{l} g_iB_k(x_i)}{\\lambda+\\sum_{i=1}^l h_i B_k(x_i)}$$"
   ]
  },
  {
   "cell_type": "markdown",
   "id": "7b324b91",
   "metadata": {
    "hidden": true
   },
   "source": [
    "Подставив вес в исходную функцию ошибки можно вывести критерий ветвления дерева: \n",
    "$$-\\frac{1}{2}\\sum_{k \\in K} \\frac{(\\sum_{i=1}^{l} g_iB_k(x_i))^2}{\\lambda+\\sum_{i=1}^l h_i B_k(x_i)} +\\gamma|K| \\rightarrow min $$"
   ]
  },
  {
   "cell_type": "markdown",
   "id": "df295bcf",
   "metadata": {},
   "source": [
    "### CatBoost"
   ]
  },
  {
   "cell_type": "markdown",
   "id": "448d12a7",
   "metadata": {},
   "source": [
    "Статья: https://papers.nips.cc/paper_files/paper/2018/file/14491b756b3a51daac41c24863285549-Paper.pdf"
   ]
  },
  {
   "cell_type": "markdown",
   "id": "dccbd97d",
   "metadata": {},
   "source": [
    "**Мотивации создания:**\n",
    "1. Необходимо орабатывать категориальные признаки с большим количеством редких значений (полльзователи, регион, город, реклама, рекламодатель, товар, документ, автор и т.д.). \n",
    "2. Переобучения в градиентах: $g_i=L'(a_{t-1}(x_i),y_i)$ вычисляется в тех же точках $x_i$, по которым ансамбль $a_{t-1}$ обучался апроксимировать $y_i$.\n"
   ]
  },
  {
   "cell_type": "markdown",
   "id": "9289907c",
   "metadata": {},
   "source": [
    "**Изменения в схеме обучения:**\n",
    "1. Для получения несмещенных оценок градиента на объекте $x_i$ хранить и дообучать ансамбль на выборках без этого объекта.\n",
    "2. Для обучения моделей использовать случайные перестановки наблюдений.\n",
    "3. При кодировании категориальных переменных с большой градацией значений расчитываются статистики объекта $x_i$ по объектам, идущим до $x_i$ в перестановке объектов.\n",
    "4. На одном уровне в деревьях находятся одинаковые предикаты.\n",
    "5. Для каждого предиката считается функция качества разбиения, к которой добавляется случайная величина. Чем глубже дерево, тем случайная величина меньше\n",
    "6. Наращивание перебора в категориальных признаков во время построения дерева.\n"
   ]
  },
  {
   "cell_type": "markdown",
   "id": "603cc48d",
   "metadata": {},
   "source": [
    "**Особнности релизации:** \n",
    "1. Ненужно делать One-Hot encoding в качестве предобработки.\n",
    "2. Можно выводить график обучения. \n",
    "3. Есть встроенный кросс-валидатор."
   ]
  },
  {
   "cell_type": "markdown",
   "id": "a44aeb3b",
   "metadata": {},
   "source": [
    "### Более сложный пример"
   ]
  },
  {
   "cell_type": "code",
   "execution_count": 1,
   "id": "895fbdaf",
   "metadata": {},
   "outputs": [
    {
     "name": "stdout",
     "output_type": "stream",
     "text": [
      "Collecting numpy==1.26\n",
      "  Obtaining dependency information for numpy==1.26 from https://files.pythonhosted.org/packages/93/fd/3f826c6d15d3bdcf65b8031e4835c52b7d9c45add25efa2314b53850e1a2/numpy-1.26.0-cp311-cp311-win_amd64.whl.metadata\n",
      "  Downloading numpy-1.26.0-cp311-cp311-win_amd64.whl.metadata (61 kB)\n",
      "     ---------------------------------------- 0.0/61.1 kB ? eta -:--:--\n",
      "     ------ --------------------------------- 10.2/61.1 kB ? eta -:--:--\n",
      "     ------------ ------------------------- 20.5/61.1 kB 330.3 kB/s eta 0:00:01\n",
      "     ------------------------- ------------ 41.0/61.1 kB 326.8 kB/s eta 0:00:01\n",
      "     ------------------------------- ------ 51.2/61.1 kB 327.7 kB/s eta 0:00:01\n",
      "     -------------------------------------- 61.1/61.1 kB 325.9 kB/s eta 0:00:00\n",
      "Downloading numpy-1.26.0-cp311-cp311-win_amd64.whl (15.8 MB)\n",
      "   ---------------------------------------- 0.0/15.8 MB ? eta -:--:--\n",
      "   ---------------------------------------- 0.0/15.8 MB 991.0 kB/s eta 0:00:16\n",
      "   ---------------------------------------- 0.2/15.8 MB 2.1 MB/s eta 0:00:08\n",
      "    --------------------------------------- 0.3/15.8 MB 2.4 MB/s eta 0:00:07\n",
      "   - -------------------------------------- 0.5/15.8 MB 3.0 MB/s eta 0:00:06\n",
      "   - -------------------------------------- 0.5/15.8 MB 3.0 MB/s eta 0:00:06\n",
      "   -- ------------------------------------- 1.0/15.8 MB 3.9 MB/s eta 0:00:04\n",
      "   --- ------------------------------------ 1.5/15.8 MB 4.7 MB/s eta 0:00:04\n",
      "   ----- ---------------------------------- 2.0/15.8 MB 5.7 MB/s eta 0:00:03\n",
      "   ------ --------------------------------- 2.6/15.8 MB 6.4 MB/s eta 0:00:03\n",
      "   ------ --------------------------------- 2.7/15.8 MB 6.5 MB/s eta 0:00:03\n",
      "   ------ --------------------------------- 2.7/15.8 MB 6.5 MB/s eta 0:00:03\n",
      "   --------- ------------------------------ 3.9/15.8 MB 7.1 MB/s eta 0:00:02\n",
      "   ---------- ----------------------------- 4.3/15.8 MB 7.5 MB/s eta 0:00:02\n",
      "   ------------ --------------------------- 4.9/15.8 MB 7.6 MB/s eta 0:00:02\n",
      "   ------------- -------------------------- 5.2/15.8 MB 7.8 MB/s eta 0:00:02\n",
      "   -------------- ------------------------- 5.7/15.8 MB 8.0 MB/s eta 0:00:02\n",
      "   --------------- ------------------------ 6.2/15.8 MB 8.1 MB/s eta 0:00:02\n",
      "   ---------------- ----------------------- 6.3/15.8 MB 8.1 MB/s eta 0:00:02\n",
      "   ----------------- ---------------------- 6.9/15.8 MB 8.1 MB/s eta 0:00:02\n",
      "   ------------------ --------------------- 7.2/15.8 MB 8.0 MB/s eta 0:00:02\n",
      "   ------------------- -------------------- 7.7/15.8 MB 8.1 MB/s eta 0:00:02\n",
      "   -------------------- ------------------- 8.2/15.8 MB 8.2 MB/s eta 0:00:01\n",
      "   ---------------------- ----------------- 8.8/15.8 MB 8.4 MB/s eta 0:00:01\n",
      "   ----------------------- ---------------- 9.2/15.8 MB 8.5 MB/s eta 0:00:01\n",
      "   ------------------------ --------------- 9.8/15.8 MB 8.6 MB/s eta 0:00:01\n",
      "   ------------------------- -------------- 10.0/15.8 MB 8.4 MB/s eta 0:00:01\n",
      "   -------------------------- ------------- 10.6/15.8 MB 9.5 MB/s eta 0:00:01\n",
      "   ---------------------------- ----------- 11.1/15.8 MB 9.8 MB/s eta 0:00:01\n",
      "   ----------------------------- ---------- 11.7/15.8 MB 10.1 MB/s eta 0:00:01\n",
      "   ------------------------------ --------- 12.2/15.8 MB 10.1 MB/s eta 0:00:01\n",
      "   ------------------------------- -------- 12.4/15.8 MB 10.1 MB/s eta 0:00:01\n",
      "   --------------------------------- ------ 13.1/15.8 MB 10.9 MB/s eta 0:00:01\n",
      "   ---------------------------------- ----- 13.5/15.8 MB 10.2 MB/s eta 0:00:01\n",
      "   ----------------------------------- ---- 14.0/15.8 MB 9.8 MB/s eta 0:00:01\n",
      "   ------------------------------------ --- 14.5/15.8 MB 10.1 MB/s eta 0:00:01\n",
      "   -------------------------------------- - 15.1/15.8 MB 10.1 MB/s eta 0:00:01\n",
      "   ---------------------------------------  15.6/15.8 MB 10.1 MB/s eta 0:00:01\n",
      "   ---------------------------------------  15.7/15.8 MB 10.2 MB/s eta 0:00:01\n",
      "   ---------------------------------------  15.8/15.8 MB 9.8 MB/s eta 0:00:01\n",
      "   ---------------------------------------  15.8/15.8 MB 9.8 MB/s eta 0:00:01\n",
      "   ---------------------------------------- 15.8/15.8 MB 8.8 MB/s eta 0:00:00\n",
      "Installing collected packages: numpy\n",
      "  Attempting uninstall: numpy\n",
      "    Found existing installation: numpy 1.24.3\n",
      "    Uninstalling numpy-1.24.3:\n",
      "      Successfully uninstalled numpy-1.24.3\n"
     ]
    },
    {
     "name": "stderr",
     "output_type": "stream",
     "text": [
      "ERROR: Could not install packages due to an OSError: [WinError 5] Отказано в доступе: 'C:\\\\PerfLogs\\\\Lib\\\\site-packages\\\\~umpy\\\\core\\\\_multiarray_tests.cp311-win_amd64.pyd'\n",
      "Consider using the `--user` option or check the permissions.\n",
      "\n"
     ]
    }
   ],
   "source": [
    "!pip install --upgrade numpy==1.26"
   ]
  },
  {
   "cell_type": "code",
   "execution_count": 2,
   "id": "c7bd11d9",
   "metadata": {},
   "outputs": [
    {
     "name": "stdout",
     "output_type": "stream",
     "text": [
      "Collecting matplotlib==3.8\n",
      "  Obtaining dependency information for matplotlib==3.8 from https://files.pythonhosted.org/packages/40/d9/c1784db9db0d484c8e5deeafbaac0d6ed66e165c6eb4a74fb43a5fa947d9/matplotlib-3.8.0-cp311-cp311-win_amd64.whl.metadata\n",
      "  Downloading matplotlib-3.8.0-cp311-cp311-win_amd64.whl.metadata (5.9 kB)\n",
      "Requirement already satisfied: contourpy>=1.0.1 in c:\\perflogs\\lib\\site-packages (from matplotlib==3.8) (1.0.5)\n",
      "Requirement already satisfied: cycler>=0.10 in c:\\perflogs\\lib\\site-packages (from matplotlib==3.8) (0.11.0)\n",
      "Requirement already satisfied: fonttools>=4.22.0 in c:\\perflogs\\lib\\site-packages (from matplotlib==3.8) (4.25.0)\n",
      "Requirement already satisfied: kiwisolver>=1.0.1 in c:\\perflogs\\lib\\site-packages (from matplotlib==3.8) (1.4.4)\n",
      "Requirement already satisfied: numpy<2,>=1.21 in c:\\perflogs\\lib\\site-packages (from matplotlib==3.8) (1.26.0)\n",
      "Requirement already satisfied: packaging>=20.0 in c:\\perflogs\\lib\\site-packages (from matplotlib==3.8) (23.1)\n",
      "Requirement already satisfied: pillow>=6.2.0 in c:\\perflogs\\lib\\site-packages (from matplotlib==3.8) (9.4.0)\n",
      "Requirement already satisfied: pyparsing>=2.3.1 in c:\\perflogs\\lib\\site-packages (from matplotlib==3.8) (3.0.9)\n",
      "Requirement already satisfied: python-dateutil>=2.7 in c:\\perflogs\\lib\\site-packages (from matplotlib==3.8) (2.8.2)\n",
      "Requirement already satisfied: six>=1.5 in c:\\perflogs\\lib\\site-packages (from python-dateutil>=2.7->matplotlib==3.8) (1.16.0)\n",
      "Downloading matplotlib-3.8.0-cp311-cp311-win_amd64.whl (7.6 MB)\n",
      "   ---------------------------------------- 0.0/7.6 MB ? eta -:--:--\n",
      "   ---------------------------------------- 0.0/7.6 MB ? eta -:--:--\n",
      "   ---------------------------------------- 0.0/7.6 MB ? eta -:--:--\n",
      "   ---------------------------------------- 0.0/7.6 MB 217.9 kB/s eta 0:00:35\n",
      "   ---------------------------------------- 0.1/7.6 MB 416.7 kB/s eta 0:00:19\n",
      "    --------------------------------------- 0.2/7.6 MB 701.4 kB/s eta 0:00:11\n",
      "   - -------------------------------------- 0.3/7.6 MB 1.1 MB/s eta 0:00:07\n",
      "   -- ------------------------------------- 0.6/7.6 MB 1.8 MB/s eta 0:00:05\n",
      "   ---- ----------------------------------- 0.9/7.6 MB 2.4 MB/s eta 0:00:03\n",
      "   ------ --------------------------------- 1.2/7.6 MB 3.0 MB/s eta 0:00:03\n",
      "   ------- -------------------------------- 1.5/7.6 MB 3.4 MB/s eta 0:00:02\n",
      "   -------- ------------------------------- 1.6/7.6 MB 3.2 MB/s eta 0:00:02\n",
      "   --------- ------------------------------ 1.7/7.6 MB 3.3 MB/s eta 0:00:02\n",
      "   ---------- ----------------------------- 2.0/7.6 MB 3.4 MB/s eta 0:00:02\n",
      "   ----------- ---------------------------- 2.2/7.6 MB 3.4 MB/s eta 0:00:02\n",
      "   ------------- -------------------------- 2.5/7.6 MB 3.7 MB/s eta 0:00:02\n",
      "   -------------- ------------------------- 2.7/7.6 MB 3.8 MB/s eta 0:00:02\n",
      "   -------------- ------------------------- 2.7/7.6 MB 3.5 MB/s eta 0:00:02\n",
      "   --------------------- ------------------ 4.1/7.6 MB 5.1 MB/s eta 0:00:01\n",
      "   ------------------------ --------------- 4.6/7.6 MB 5.4 MB/s eta 0:00:01\n",
      "   -------------------------- ------------- 5.2/7.6 MB 5.7 MB/s eta 0:00:01\n",
      "   --------------------------- ------------ 5.2/7.6 MB 5.7 MB/s eta 0:00:01\n",
      "   ---------------------------- ----------- 5.4/7.6 MB 5.4 MB/s eta 0:00:01\n",
      "   ------------------------------- -------- 5.9/7.6 MB 5.7 MB/s eta 0:00:01\n",
      "   -------------------------------- ------- 6.2/7.6 MB 5.8 MB/s eta 0:00:01\n",
      "   -------------------------------- ------- 6.3/7.6 MB 5.6 MB/s eta 0:00:01\n",
      "   --------------------------------- ------ 6.4/7.6 MB 5.4 MB/s eta 0:00:01\n",
      "   ------------------------------------ --- 7.0/7.6 MB 5.6 MB/s eta 0:00:01\n",
      "   ------------------------------------ --- 7.0/7.6 MB 5.6 MB/s eta 0:00:01\n",
      "   ---------------------------------------  7.6/7.6 MB 5.8 MB/s eta 0:00:01\n",
      "   ---------------------------------------- 7.6/7.6 MB 5.6 MB/s eta 0:00:00\n",
      "Installing collected packages: matplotlib\n",
      "  Attempting uninstall: matplotlib\n",
      "    Found existing installation: matplotlib 3.7.2\n",
      "    Uninstalling matplotlib-3.7.2:\n",
      "      Successfully uninstalled matplotlib-3.7.2\n",
      "Successfully installed matplotlib-3.8.0\n",
      "Note: you may need to restart the kernel to use updated packages.\n"
     ]
    },
    {
     "name": "stderr",
     "output_type": "stream",
     "text": [
      "ERROR: pip's dependency resolver does not currently take into account all the packages that are installed. This behaviour is the source of the following dependency conflicts.\n",
      "pycaret 3.3.2 requires matplotlib<3.8.0, but you have matplotlib 3.8.0 which is incompatible.\n"
     ]
    }
   ],
   "source": [
    "pip install matplotlib==3.8"
   ]
  },
  {
   "cell_type": "code",
   "execution_count": 3,
   "id": "89a2b3d2-19fc-469a-a709-409a4c3c9c98",
   "metadata": {},
   "outputs": [
    {
     "data": {
      "application/vnd.jupyter.widget-view+json": {
       "model_id": "b125c43b59c74729892333a53d08ee7f",
       "version_major": 2,
       "version_minor": 0
      },
      "text/plain": [
       "HTML(value='<a>1</a>')"
      ]
     },
     "metadata": {},
     "output_type": "display_data"
    }
   ],
   "source": [
    "from IPython.display import display\n",
    "import ipywidgets as widgets\n",
    "display(widgets.HTML('<a>1</a>'))"
   ]
  },
  {
   "cell_type": "code",
   "execution_count": 4,
   "id": "ac438549-d339-45b7-b13c-f604eb675c3d",
   "metadata": {},
   "outputs": [
    {
     "name": "stdout",
     "output_type": "stream",
     "text": [
      "Requirement already satisfied: ipywidgets in c:\\perflogs\\lib\\site-packages (8.0.4)\n",
      "Collecting ipywidgets\n",
      "  Obtaining dependency information for ipywidgets from https://files.pythonhosted.org/packages/22/2d/9c0b76f2f9cc0ebede1b9371b6f317243028ed60b90705863d493bae622e/ipywidgets-8.1.5-py3-none-any.whl.metadata\n",
      "  Downloading ipywidgets-8.1.5-py3-none-any.whl.metadata (2.3 kB)\n",
      "Collecting comm>=0.1.3 (from ipywidgets)\n",
      "  Obtaining dependency information for comm>=0.1.3 from https://files.pythonhosted.org/packages/e6/75/49e5bfe642f71f272236b5b2d2691cf915a7283cc0ceda56357b61daa538/comm-0.2.2-py3-none-any.whl.metadata\n",
      "  Downloading comm-0.2.2-py3-none-any.whl.metadata (3.7 kB)\n",
      "Requirement already satisfied: ipython>=6.1.0 in c:\\perflogs\\lib\\site-packages (from ipywidgets) (8.15.0)\n",
      "Requirement already satisfied: traitlets>=4.3.1 in c:\\perflogs\\lib\\site-packages (from ipywidgets) (5.7.1)\n",
      "Collecting widgetsnbextension~=4.0.12 (from ipywidgets)\n",
      "  Obtaining dependency information for widgetsnbextension~=4.0.12 from https://files.pythonhosted.org/packages/21/02/88b65cc394961a60c43c70517066b6b679738caf78506a5da7b88ffcb643/widgetsnbextension-4.0.13-py3-none-any.whl.metadata\n",
      "  Downloading widgetsnbextension-4.0.13-py3-none-any.whl.metadata (1.6 kB)\n",
      "Collecting jupyterlab-widgets~=3.0.12 (from ipywidgets)\n",
      "  Obtaining dependency information for jupyterlab-widgets~=3.0.12 from https://files.pythonhosted.org/packages/a9/93/858e87edc634d628e5d752ba944c2833133a28fa87bb093e6832ced36a3e/jupyterlab_widgets-3.0.13-py3-none-any.whl.metadata\n",
      "  Downloading jupyterlab_widgets-3.0.13-py3-none-any.whl.metadata (4.1 kB)\n",
      "Requirement already satisfied: backcall in c:\\perflogs\\lib\\site-packages (from ipython>=6.1.0->ipywidgets) (0.2.0)\n",
      "Requirement already satisfied: decorator in c:\\perflogs\\lib\\site-packages (from ipython>=6.1.0->ipywidgets) (5.1.1)\n",
      "Requirement already satisfied: jedi>=0.16 in c:\\perflogs\\lib\\site-packages (from ipython>=6.1.0->ipywidgets) (0.18.1)\n",
      "Requirement already satisfied: matplotlib-inline in c:\\perflogs\\lib\\site-packages (from ipython>=6.1.0->ipywidgets) (0.1.6)\n",
      "Requirement already satisfied: pickleshare in c:\\perflogs\\lib\\site-packages (from ipython>=6.1.0->ipywidgets) (0.7.5)\n",
      "Requirement already satisfied: prompt-toolkit!=3.0.37,<3.1.0,>=3.0.30 in c:\\perflogs\\lib\\site-packages (from ipython>=6.1.0->ipywidgets) (3.0.36)\n",
      "Requirement already satisfied: pygments>=2.4.0 in c:\\perflogs\\lib\\site-packages (from ipython>=6.1.0->ipywidgets) (2.15.1)\n",
      "Requirement already satisfied: stack-data in c:\\perflogs\\lib\\site-packages (from ipython>=6.1.0->ipywidgets) (0.2.0)\n",
      "Requirement already satisfied: colorama in c:\\perflogs\\lib\\site-packages (from ipython>=6.1.0->ipywidgets) (0.4.6)\n",
      "Requirement already satisfied: parso<0.9.0,>=0.8.0 in c:\\perflogs\\lib\\site-packages (from jedi>=0.16->ipython>=6.1.0->ipywidgets) (0.8.3)\n",
      "Requirement already satisfied: wcwidth in c:\\perflogs\\lib\\site-packages (from prompt-toolkit!=3.0.37,<3.1.0,>=3.0.30->ipython>=6.1.0->ipywidgets) (0.2.5)\n",
      "Requirement already satisfied: executing in c:\\perflogs\\lib\\site-packages (from stack-data->ipython>=6.1.0->ipywidgets) (0.8.3)\n",
      "Requirement already satisfied: asttokens in c:\\perflogs\\lib\\site-packages (from stack-data->ipython>=6.1.0->ipywidgets) (2.0.5)\n",
      "Requirement already satisfied: pure-eval in c:\\perflogs\\lib\\site-packages (from stack-data->ipython>=6.1.0->ipywidgets) (0.2.2)\n",
      "Requirement already satisfied: six in c:\\perflogs\\lib\\site-packages (from asttokens->stack-data->ipython>=6.1.0->ipywidgets) (1.16.0)\n",
      "Downloading ipywidgets-8.1.5-py3-none-any.whl (139 kB)\n",
      "   ---------------------------------------- 0.0/139.8 kB ? eta -:--:--\n",
      "   ---------------------------------------- 0.0/139.8 kB ? eta -:--:--\n",
      "   ---------------------------------------- 0.0/139.8 kB ? eta -:--:--\n",
      "   ---------------------------------------- 0.0/139.8 kB ? eta -:--:--\n",
      "   ---------------------------------------- 0.0/139.8 kB ? eta -:--:--\n",
      "   ---------------------------------------- 0.0/139.8 kB ? eta -:--:--\n",
      "   -- ------------------------------------- 10.2/139.8 kB ? eta -:--:--\n",
      "   -- ------------------------------------- 10.2/139.8 kB ? eta -:--:--\n",
      "   -------- ------------------------------ 30.7/139.8 kB 220.2 kB/s eta 0:00:01\n",
      "   -------- ------------------------------ 30.7/139.8 kB 220.2 kB/s eta 0:00:01\n",
      "   ----------------- --------------------- 61.4/139.8 kB 273.8 kB/s eta 0:00:01\n",
      "   -------------------- ------------------ 71.7/139.8 kB 262.6 kB/s eta 0:00:01\n",
      "   ------------------------- ------------- 92.2/139.8 kB 291.5 kB/s eta 0:00:01\n",
      "   --------------------------------- ---- 122.9/139.8 kB 343.4 kB/s eta 0:00:01\n",
      "   -------------------------------------- 139.8/139.8 kB 345.4 kB/s eta 0:00:00\n",
      "Downloading comm-0.2.2-py3-none-any.whl (7.2 kB)\n",
      "Downloading jupyterlab_widgets-3.0.13-py3-none-any.whl (214 kB)\n",
      "   ---------------------------------------- 0.0/214.4 kB ? eta -:--:--\n",
      "   ----- --------------------------------- 30.7/214.4 kB 640.0 kB/s eta 0:00:01\n",
      "   ----------- --------------------------- 61.4/214.4 kB 648.1 kB/s eta 0:00:01\n",
      "   ---------------- ---------------------- 92.2/214.4 kB 744.7 kB/s eta 0:00:01\n",
      "   --------------------- ---------------- 122.9/214.4 kB 717.5 kB/s eta 0:00:01\n",
      "   --------------------------- ---------- 153.6/214.4 kB 654.6 kB/s eta 0:00:01\n",
      "   ---------------------------------- --- 194.6/214.4 kB 784.3 kB/s eta 0:00:01\n",
      "   -------------------------------------- 214.4/214.4 kB 687.4 kB/s eta 0:00:00\n",
      "Downloading widgetsnbextension-4.0.13-py3-none-any.whl (2.3 MB)\n",
      "   ---------------------------------------- 0.0/2.3 MB ? eta -:--:--\n",
      "    --------------------------------------- 0.0/2.3 MB 991.0 kB/s eta 0:00:03\n",
      "   - -------------------------------------- 0.1/2.3 MB 975.2 kB/s eta 0:00:03\n",
      "   -- ------------------------------------- 0.1/2.3 MB 1.0 MB/s eta 0:00:03\n",
      "   -- ------------------------------------- 0.2/2.3 MB 1.1 MB/s eta 0:00:03\n",
      "   --- ------------------------------------ 0.2/2.3 MB 908.0 kB/s eta 0:00:03\n",
      "   ---- ----------------------------------- 0.2/2.3 MB 901.1 kB/s eta 0:00:03\n",
      "   ---- ----------------------------------- 0.3/2.3 MB 930.9 kB/s eta 0:00:03\n",
      "   ------ --------------------------------- 0.4/2.3 MB 1.0 MB/s eta 0:00:02\n",
      "   ------ --------------------------------- 0.4/2.3 MB 995.2 kB/s eta 0:00:02\n",
      "   ------- -------------------------------- 0.4/2.3 MB 1.0 MB/s eta 0:00:02\n",
      "   -------- ------------------------------- 0.5/2.3 MB 1.0 MB/s eta 0:00:02\n",
      "   --------- ------------------------------ 0.5/2.3 MB 954.7 kB/s eta 0:00:02\n",
      "   ---------- ----------------------------- 0.6/2.3 MB 1.0 MB/s eta 0:00:02\n",
      "   ----------- ---------------------------- 0.7/2.3 MB 1.0 MB/s eta 0:00:02\n",
      "   ------------ --------------------------- 0.7/2.3 MB 1.1 MB/s eta 0:00:02\n",
      "   -------------- ------------------------- 0.8/2.3 MB 1.1 MB/s eta 0:00:02\n",
      "   --------------- ------------------------ 0.9/2.3 MB 1.2 MB/s eta 0:00:02\n",
      "   ---------------- ----------------------- 1.0/2.3 MB 1.2 MB/s eta 0:00:02\n",
      "   ------------------ --------------------- 1.1/2.3 MB 1.2 MB/s eta 0:00:02\n",
      "   ------------------- -------------------- 1.1/2.3 MB 1.3 MB/s eta 0:00:01\n",
      "   --------------------- ------------------ 1.2/2.3 MB 1.3 MB/s eta 0:00:01\n",
      "   ----------------------- ---------------- 1.4/2.3 MB 1.3 MB/s eta 0:00:01\n",
      "   ------------------------ --------------- 1.4/2.3 MB 1.4 MB/s eta 0:00:01\n",
      "   ------------------------- -------------- 1.5/2.3 MB 1.4 MB/s eta 0:00:01\n",
      "   ------------------------- -------------- 1.5/2.3 MB 1.4 MB/s eta 0:00:01\n",
      "   -------------------------- ------------- 1.5/2.3 MB 1.3 MB/s eta 0:00:01\n",
      "   ----------------------------- ---------- 1.7/2.3 MB 1.4 MB/s eta 0:00:01\n",
      "   ------------------------------ --------- 1.8/2.3 MB 1.4 MB/s eta 0:00:01\n",
      "   ------------------------------- -------- 1.9/2.3 MB 1.4 MB/s eta 0:00:01\n",
      "   -------------------------------- ------- 1.9/2.3 MB 1.4 MB/s eta 0:00:01\n",
      "   --------------------------------- ------ 2.0/2.3 MB 1.4 MB/s eta 0:00:01\n",
      "   ---------------------------------- ----- 2.0/2.3 MB 1.4 MB/s eta 0:00:01\n",
      "   ------------------------------------ --- 2.1/2.3 MB 1.4 MB/s eta 0:00:01\n",
      "   ------------------------------------- -- 2.2/2.3 MB 1.4 MB/s eta 0:00:01\n",
      "   -------------------------------------- - 2.3/2.3 MB 1.4 MB/s eta 0:00:01\n",
      "   ---------------------------------------  2.3/2.3 MB 1.4 MB/s eta 0:00:01\n",
      "   ---------------------------------------- 2.3/2.3 MB 1.4 MB/s eta 0:00:00\n",
      "Installing collected packages: widgetsnbextension, jupyterlab-widgets, comm, ipywidgets\n",
      "  Attempting uninstall: widgetsnbextension\n",
      "    Found existing installation: widgetsnbextension 4.0.5\n",
      "    Uninstalling widgetsnbextension-4.0.5:\n",
      "      Successfully uninstalled widgetsnbextension-4.0.5\n",
      "  Attempting uninstall: jupyterlab-widgets\n",
      "    Found existing installation: jupyterlab-widgets 3.0.5\n",
      "    Uninstalling jupyterlab-widgets-3.0.5:\n",
      "      Successfully uninstalled jupyterlab-widgets-3.0.5\n",
      "  Attempting uninstall: comm\n",
      "    Found existing installation: comm 0.1.2\n",
      "    Uninstalling comm-0.1.2:\n",
      "      Successfully uninstalled comm-0.1.2\n",
      "  Attempting uninstall: ipywidgets\n",
      "    Found existing installation: ipywidgets 8.0.4\n",
      "    Uninstalling ipywidgets-8.0.4:\n",
      "      Successfully uninstalled ipywidgets-8.0.4\n",
      "Successfully installed comm-0.2.2 ipywidgets-8.1.5 jupyterlab-widgets-3.0.13 widgetsnbextension-4.0.13\n",
      "Note: you may need to restart the kernel to use updated packages.\n"
     ]
    },
    {
     "name": "stderr",
     "output_type": "stream",
     "text": [
      "ERROR: pip's dependency resolver does not currently take into account all the packages that are installed. This behaviour is the source of the following dependency conflicts.\n",
      "pycaret 3.3.2 requires matplotlib<3.8.0, but you have matplotlib 3.8.0 which is incompatible.\n"
     ]
    }
   ],
   "source": [
    "pip install --upgrade ipywidgets"
   ]
  },
  {
   "cell_type": "code",
   "execution_count": 5,
   "id": "4cdb839a",
   "metadata": {},
   "outputs": [],
   "source": [
    "from sklearn.datasets import make_circles, make_classification, make_moons\n",
    "import numpy as np\n",
    "from plotly.subplots import make_subplots\n",
    "from sklearn.model_selection import train_test_split\n",
    "import pandas as pd\n",
    "from sklearn.pipeline import make_pipeline\n",
    "import plotly.express as px\n",
    "import plotly.graph_objects as go\n",
    "#from xgboost import XGBClassifier\n",
    "from sklearn.model_selection import train_test_split\n",
    "from sklearn.metrics import roc_auc_score, log_loss\n",
    "from catboost import CatBoostClassifier\n",
    "from ucimlrepo import fetch_ucirepo \n",
    "from sklearn.preprocessing import LabelEncoder\n",
    "#import matplotlib.pyplot as plt"
   ]
  },
  {
   "cell_type": "code",
   "execution_count": 6,
   "id": "00819b7d",
   "metadata": {},
   "outputs": [],
   "source": [
    "adult = fetch_ucirepo(id=2) \n",
    "X = adult.data.features \n",
    "y = adult.data.targets \n",
    "le = LabelEncoder()"
   ]
  },
  {
   "cell_type": "code",
   "execution_count": 7,
   "id": "fc39a9d6",
   "metadata": {},
   "outputs": [],
   "source": [
    "y = y.replace({'<=50K.':'<=50K', '>50K.':'>50K'})"
   ]
  },
  {
   "cell_type": "code",
   "execution_count": 8,
   "id": "b9052abf",
   "metadata": {},
   "outputs": [
    {
     "name": "stderr",
     "output_type": "stream",
     "text": [
      "C:\\Users\\Артур\\AppData\\Local\\Temp\\ipykernel_6864\\2537910290.py:1: SettingWithCopyWarning: \n",
      "A value is trying to be set on a copy of a slice from a DataFrame\n",
      "\n",
      "See the caveats in the documentation: https://pandas.pydata.org/pandas-docs/stable/user_guide/indexing.html#returning-a-view-versus-a-copy\n",
      "  X.fillna(value = 'None', inplace = True)\n"
     ]
    }
   ],
   "source": [
    "X.fillna(value = 'None', inplace = True)"
   ]
  },
  {
   "cell_type": "code",
   "execution_count": 9,
   "id": "897445dd",
   "metadata": {},
   "outputs": [
    {
     "data": {
      "text/plain": [
       "array(['workclass', 'education', 'marital-status', 'occupation',\n",
       "       'relationship', 'race', 'sex', 'native-country'], dtype=object)"
      ]
     },
     "execution_count": 9,
     "metadata": {},
     "output_type": "execute_result"
    }
   ],
   "source": [
    "cat_features = X.columns[X.dtypes == 'object'].values\n",
    "cat_features"
   ]
  },
  {
   "cell_type": "code",
   "execution_count": 10,
   "id": "466e604a",
   "metadata": {},
   "outputs": [],
   "source": [
    "X_train, X_test, y_train, y_test = train_test_split(X, y, test_size=.2)"
   ]
  },
  {
   "cell_type": "code",
   "execution_count": 11,
   "id": "be845f80",
   "metadata": {},
   "outputs": [],
   "source": [
    "bst = CatBoostClassifier(\n",
    "    iterations = 100, \n",
    "    depth = 3, \n",
    "    learning_rate = 1, \n",
    "    loss_function = 'Logloss', \n",
    "    verbose = False, \n",
    "    cat_features = cat_features,\n",
    "    custom_loss=['AUC', 'Accuracy'])"
   ]
  },
  {
   "cell_type": "code",
   "execution_count": 12,
   "id": "520b0bcc",
   "metadata": {},
   "outputs": [
    {
     "data": {
      "application/vnd.jupyter.widget-view+json": {
       "model_id": "a0321f85105f4191b2cd99167c9211b0",
       "version_major": 2,
       "version_minor": 0
      },
      "text/plain": [
       "MetricVisualizer(layout=Layout(align_self='stretch', height='500px'))"
      ]
     },
     "metadata": {},
     "output_type": "display_data"
    },
    {
     "data": {
      "text/plain": [
       "<catboost.core.CatBoostClassifier at 0x21e0117f690>"
      ]
     },
     "execution_count": 12,
     "metadata": {},
     "output_type": "execute_result"
    }
   ],
   "source": [
    "bst.fit(X_train, y_train, \n",
    "        eval_set = (X_test, y_test), \n",
    "        plot = True, \n",
    "        plot_file = '1.html')"
   ]
  },
  {
   "cell_type": "code",
   "execution_count": 13,
   "id": "5f2ebfdd-4a4d-4085-bce1-770079f30a06",
   "metadata": {},
   "outputs": [],
   "source": [
    "from sklearn.metrics import classification_report, confusion_matrix"
   ]
  },
  {
   "cell_type": "code",
   "execution_count": 14,
   "id": "9b4b208e-1eb4-4958-9cdb-bb689cdefbe0",
   "metadata": {},
   "outputs": [],
   "source": [
    "predict = bst.predict(X_test)"
   ]
  },
  {
   "cell_type": "code",
   "execution_count": 15,
   "id": "9217c5e7-3cdf-4df5-9b9d-3c3a507f6e3d",
   "metadata": {},
   "outputs": [
    {
     "name": "stdout",
     "output_type": "stream",
     "text": [
      "              precision    recall  f1-score   support\n",
      "\n",
      "       <=50K       0.90      0.94      0.92      7401\n",
      "        >50K       0.78      0.66      0.71      2368\n",
      "\n",
      "    accuracy                           0.87      9769\n",
      "   macro avg       0.84      0.80      0.82      9769\n",
      "weighted avg       0.87      0.87      0.87      9769\n",
      "\n"
     ]
    }
   ],
   "source": [
    "print(classification_report(y_test, predict))"
   ]
  },
  {
   "cell_type": "code",
   "execution_count": 16,
   "id": "82ac5925-6ba4-496a-afb6-9a45f887ffd8",
   "metadata": {},
   "outputs": [
    {
     "data": {
      "text/plain": [
       "array(['<=50K', '>50K'], dtype=object)"
      ]
     },
     "execution_count": 16,
     "metadata": {},
     "output_type": "execute_result"
    }
   ],
   "source": [
    "bst.classes_"
   ]
  },
  {
   "cell_type": "code",
   "execution_count": 17,
   "id": "43769f5e-ca0d-42fd-9302-77ca68fe6475",
   "metadata": {},
   "outputs": [
    {
     "data": {
      "text/plain": [
       "array([[6973,  428],\n",
       "       [ 813, 1555]], dtype=int64)"
      ]
     },
     "execution_count": 17,
     "metadata": {},
     "output_type": "execute_result"
    }
   ],
   "source": [
    "confusion_matrix(y_test, predict)"
   ]
  },
  {
   "cell_type": "markdown",
   "id": "f5a26c94",
   "metadata": {
    "heading_collapsed": true,
    "jp-MarkdownHeadingCollapsed": true
   },
   "source": [
    "### Кросс-валидация"
   ]
  },
  {
   "cell_type": "code",
   "execution_count": 18,
   "id": "4e57a622",
   "metadata": {
    "hidden": true
   },
   "outputs": [],
   "source": [
    "from catboost import cv, Pool"
   ]
  },
  {
   "cell_type": "code",
   "execution_count": 19,
   "id": "96063439",
   "metadata": {
    "hidden": true
   },
   "outputs": [],
   "source": [
    "params = {'loss_function':'Logloss', \n",
    "          'iterations': 150,\n",
    "          'custom_loss': 'AUC', \n",
    "          'learning_rate':0.5}"
   ]
  },
  {
   "cell_type": "code",
   "execution_count": 20,
   "id": "57d412c8",
   "metadata": {
    "hidden": true
   },
   "outputs": [
    {
     "data": {
      "application/vnd.jupyter.widget-view+json": {
       "model_id": "f5f40fd9cfd54434ab1c7fdd1bcfc4ef",
       "version_major": 2,
       "version_minor": 0
      },
      "text/plain": [
       "MetricVisualizer(layout=Layout(align_self='stretch', height='500px'))"
      ]
     },
     "metadata": {},
     "output_type": "display_data"
    },
    {
     "name": "stdout",
     "output_type": "stream",
     "text": [
      "Training on fold [0/5]\n",
      "\n",
      "bestTest = 0.2764726883\n",
      "bestIteration = 51\n",
      "\n",
      "Training on fold [1/5]\n",
      "\n",
      "bestTest = 0.2875569674\n",
      "bestIteration = 55\n",
      "\n",
      "Training on fold [2/5]\n",
      "\n",
      "bestTest = 0.273469701\n",
      "bestIteration = 71\n",
      "\n",
      "Training on fold [3/5]\n",
      "\n",
      "bestTest = 0.2811539887\n",
      "bestIteration = 62\n",
      "\n",
      "Training on fold [4/5]\n",
      "\n",
      "bestTest = 0.2802325538\n",
      "bestIteration = 71\n",
      "\n"
     ]
    }
   ],
   "source": [
    "cv_data = cv(\n",
    "    params = params, \n",
    "    pool = Pool(X_train, y_train, cat_features = cat_features),\n",
    "    fold_count = 5, \n",
    "    shuffle = True, \n",
    "    plot = True,\n",
    "    verbose = False\n",
    ")"
   ]
  },
  {
   "cell_type": "code",
   "execution_count": 21,
   "id": "346525b7",
   "metadata": {
    "hidden": true
   },
   "outputs": [
    {
     "data": {
      "text/html": [
       "<div>\n",
       "<style scoped>\n",
       "    .dataframe tbody tr th:only-of-type {\n",
       "        vertical-align: middle;\n",
       "    }\n",
       "\n",
       "    .dataframe tbody tr th {\n",
       "        vertical-align: top;\n",
       "    }\n",
       "\n",
       "    .dataframe thead th {\n",
       "        text-align: right;\n",
       "    }\n",
       "</style>\n",
       "<table border=\"1\" class=\"dataframe\">\n",
       "  <thead>\n",
       "    <tr style=\"text-align: right;\">\n",
       "      <th></th>\n",
       "      <th>iterations</th>\n",
       "      <th>test-Logloss-mean</th>\n",
       "      <th>test-Logloss-std</th>\n",
       "      <th>train-Logloss-mean</th>\n",
       "      <th>train-Logloss-std</th>\n",
       "      <th>test-AUC-mean</th>\n",
       "      <th>test-AUC-std</th>\n",
       "    </tr>\n",
       "  </thead>\n",
       "  <tbody>\n",
       "    <tr>\n",
       "      <th>0</th>\n",
       "      <td>0</td>\n",
       "      <td>0.389039</td>\n",
       "      <td>0.009155</td>\n",
       "      <td>0.388222</td>\n",
       "      <td>0.005158</td>\n",
       "      <td>0.882015</td>\n",
       "      <td>0.008844</td>\n",
       "    </tr>\n",
       "    <tr>\n",
       "      <th>1</th>\n",
       "      <td>1</td>\n",
       "      <td>0.340393</td>\n",
       "      <td>0.006441</td>\n",
       "      <td>0.339323</td>\n",
       "      <td>0.001407</td>\n",
       "      <td>0.895998</td>\n",
       "      <td>0.005868</td>\n",
       "    </tr>\n",
       "    <tr>\n",
       "      <th>2</th>\n",
       "      <td>2</td>\n",
       "      <td>0.319941</td>\n",
       "      <td>0.006411</td>\n",
       "      <td>0.318619</td>\n",
       "      <td>0.002426</td>\n",
       "      <td>0.904984</td>\n",
       "      <td>0.005248</td>\n",
       "    </tr>\n",
       "    <tr>\n",
       "      <th>3</th>\n",
       "      <td>3</td>\n",
       "      <td>0.311861</td>\n",
       "      <td>0.007315</td>\n",
       "      <td>0.310311</td>\n",
       "      <td>0.002155</td>\n",
       "      <td>0.908830</td>\n",
       "      <td>0.005027</td>\n",
       "    </tr>\n",
       "    <tr>\n",
       "      <th>4</th>\n",
       "      <td>4</td>\n",
       "      <td>0.307096</td>\n",
       "      <td>0.006264</td>\n",
       "      <td>0.305258</td>\n",
       "      <td>0.001713</td>\n",
       "      <td>0.910898</td>\n",
       "      <td>0.004212</td>\n",
       "    </tr>\n",
       "    <tr>\n",
       "      <th>...</th>\n",
       "      <td>...</td>\n",
       "      <td>...</td>\n",
       "      <td>...</td>\n",
       "      <td>...</td>\n",
       "      <td>...</td>\n",
       "      <td>...</td>\n",
       "      <td>...</td>\n",
       "    </tr>\n",
       "    <tr>\n",
       "      <th>145</th>\n",
       "      <td>145</td>\n",
       "      <td>0.285881</td>\n",
       "      <td>0.005123</td>\n",
       "      <td>0.225783</td>\n",
       "      <td>0.000978</td>\n",
       "      <td>0.924055</td>\n",
       "      <td>0.002904</td>\n",
       "    </tr>\n",
       "    <tr>\n",
       "      <th>146</th>\n",
       "      <td>146</td>\n",
       "      <td>0.285830</td>\n",
       "      <td>0.005254</td>\n",
       "      <td>0.225464</td>\n",
       "      <td>0.001087</td>\n",
       "      <td>0.924126</td>\n",
       "      <td>0.002973</td>\n",
       "    </tr>\n",
       "    <tr>\n",
       "      <th>147</th>\n",
       "      <td>147</td>\n",
       "      <td>0.285940</td>\n",
       "      <td>0.005329</td>\n",
       "      <td>0.225261</td>\n",
       "      <td>0.001048</td>\n",
       "      <td>0.924074</td>\n",
       "      <td>0.003012</td>\n",
       "    </tr>\n",
       "    <tr>\n",
       "      <th>148</th>\n",
       "      <td>148</td>\n",
       "      <td>0.286219</td>\n",
       "      <td>0.005207</td>\n",
       "      <td>0.225026</td>\n",
       "      <td>0.001081</td>\n",
       "      <td>0.923954</td>\n",
       "      <td>0.002977</td>\n",
       "    </tr>\n",
       "    <tr>\n",
       "      <th>149</th>\n",
       "      <td>149</td>\n",
       "      <td>0.286407</td>\n",
       "      <td>0.005254</td>\n",
       "      <td>0.224700</td>\n",
       "      <td>0.001078</td>\n",
       "      <td>0.923872</td>\n",
       "      <td>0.003000</td>\n",
       "    </tr>\n",
       "  </tbody>\n",
       "</table>\n",
       "<p>150 rows × 7 columns</p>\n",
       "</div>"
      ],
      "text/plain": [
       "     iterations  test-Logloss-mean  test-Logloss-std  train-Logloss-mean  \\\n",
       "0             0           0.389039          0.009155            0.388222   \n",
       "1             1           0.340393          0.006441            0.339323   \n",
       "2             2           0.319941          0.006411            0.318619   \n",
       "3             3           0.311861          0.007315            0.310311   \n",
       "4             4           0.307096          0.006264            0.305258   \n",
       "..          ...                ...               ...                 ...   \n",
       "145         145           0.285881          0.005123            0.225783   \n",
       "146         146           0.285830          0.005254            0.225464   \n",
       "147         147           0.285940          0.005329            0.225261   \n",
       "148         148           0.286219          0.005207            0.225026   \n",
       "149         149           0.286407          0.005254            0.224700   \n",
       "\n",
       "     train-Logloss-std  test-AUC-mean  test-AUC-std  \n",
       "0             0.005158       0.882015      0.008844  \n",
       "1             0.001407       0.895998      0.005868  \n",
       "2             0.002426       0.904984      0.005248  \n",
       "3             0.002155       0.908830      0.005027  \n",
       "4             0.001713       0.910898      0.004212  \n",
       "..                 ...            ...           ...  \n",
       "145           0.000978       0.924055      0.002904  \n",
       "146           0.001087       0.924126      0.002973  \n",
       "147           0.001048       0.924074      0.003012  \n",
       "148           0.001081       0.923954      0.002977  \n",
       "149           0.001078       0.923872      0.003000  \n",
       "\n",
       "[150 rows x 7 columns]"
      ]
     },
     "execution_count": 21,
     "metadata": {},
     "output_type": "execute_result"
    }
   ],
   "source": [
    "cv_data"
   ]
  },
  {
   "cell_type": "code",
   "execution_count": 22,
   "id": "dbb5422e",
   "metadata": {
    "hidden": true
   },
   "outputs": [
    {
     "name": "stdout",
     "output_type": "stream",
     "text": [
      "Лучший log-loss:0.280+/-0.006 получен на итерации 71\n"
     ]
    }
   ],
   "source": [
    "bv = cv_data['test-Logloss-mean'].min()\n",
    "bi = cv_data['test-Logloss-mean'].argmin()\n",
    "print(f'Лучший log-loss:{bv:.3f}+/-{cv_data[\"test-Logloss-std\"][bi]:.3f} получен на итерации {bi}')"
   ]
  },
  {
   "cell_type": "markdown",
   "id": "e0faa8f9",
   "metadata": {
    "heading_collapsed": true,
    "jp-MarkdownHeadingCollapsed": true
   },
   "source": [
    "### Ранняя остановка"
   ]
  },
  {
   "cell_type": "code",
   "execution_count": 23,
   "id": "7f1e8c9e",
   "metadata": {
    "hidden": true
   },
   "outputs": [],
   "source": [
    "model_2  = CatBoostClassifier(\n",
    "    iterations = 100, \n",
    "    depth = 5, \n",
    "    learning_rate = 1, \n",
    "    loss_function = 'Logloss', \n",
    "    verbose = False, \n",
    "    cat_features = cat_features,\n",
    "    custom_loss=['AUC', 'Accuracy'], \n",
    "    train_dir = 'depth_5',\n",
    "    early_stopping_rounds = 20)"
   ]
  },
  {
   "cell_type": "code",
   "execution_count": 24,
   "id": "8c9a1802",
   "metadata": {
    "hidden": true
   },
   "outputs": [
    {
     "data": {
      "application/vnd.jupyter.widget-view+json": {
       "model_id": "b16acf7dc57a4942a27e110895276980",
       "version_major": 2,
       "version_minor": 0
      },
      "text/plain": [
       "MetricVisualizer(layout=Layout(align_self='stretch', height='500px'))"
      ]
     },
     "metadata": {},
     "output_type": "display_data"
    },
    {
     "data": {
      "text/plain": [
       "<catboost.core.CatBoostClassifier at 0x21e03068b50>"
      ]
     },
     "execution_count": 24,
     "metadata": {},
     "output_type": "execute_result"
    }
   ],
   "source": [
    "model_2.fit(X_train, y_train, eval_set=(X_test, y_test), verbose=False, plot = True)"
   ]
  },
  {
   "cell_type": "code",
   "execution_count": 25,
   "id": "a0e5830a",
   "metadata": {
    "hidden": true
   },
   "outputs": [
    {
     "data": {
      "application/vnd.jupyter.widget-view+json": {
       "model_id": "f802ab09a720401a93e545ccda8e3103",
       "version_major": 2,
       "version_minor": 0
      },
      "text/plain": [
       "MetricVisualizer(layout=Layout(align_self='stretch', height='500px'))"
      ]
     },
     "metadata": {},
     "output_type": "display_data"
    },
    {
     "data": {
      "text/plain": [
       "<catboost.core.CatBoostClassifier at 0x21e01172c50>"
      ]
     },
     "execution_count": 25,
     "metadata": {},
     "output_type": "execute_result"
    }
   ],
   "source": [
    "model_3  = CatBoostClassifier(\n",
    "    iterations = 100, \n",
    "    depth = 5, \n",
    "    learning_rate = 1, \n",
    "    loss_function = 'Logloss', \n",
    "    eval_metric = 'AUC',\n",
    "    verbose = False, \n",
    "    cat_features = cat_features,\n",
    "    custom_loss=['AUC', 'Accuracy'], \n",
    "    train_dir = 'depth_5',\n",
    "    early_stopping_rounds = 20)\n",
    "\n",
    "model_3.fit(X_train, y_train, eval_set=(X_test, y_test), verbose=False, plot = True)"
   ]
  },
  {
   "cell_type": "markdown",
   "id": "d73ce57b",
   "metadata": {
    "heading_collapsed": true,
    "jp-MarkdownHeadingCollapsed": true
   },
   "source": [
    "### Выбор порога предсказания"
   ]
  },
  {
   "cell_type": "code",
   "execution_count": 26,
   "id": "623bd814",
   "metadata": {
    "hidden": true
   },
   "outputs": [],
   "source": [
    "from catboost.utils import get_roc_curve, get_fnr_curve, get_fnr_curve, select_threshold\n",
    "from sklearn.metrics import auc"
   ]
  },
  {
   "cell_type": "code",
   "execution_count": 27,
   "id": "0e264d94",
   "metadata": {
    "hidden": true
   },
   "outputs": [
    {
     "data": {
      "text/plain": [
       "0.9301354170090236"
      ]
     },
     "execution_count": 27,
     "metadata": {},
     "output_type": "execute_result"
    }
   ],
   "source": [
    "eval_pool = Pool(X_test, y_test, cat_features= cat_features)\n",
    "fpr, tpr, treshold = get_roc_curve(model_3, eval_pool)\n",
    "roc_auc = auc(fpr, tpr)\n",
    "roc_auc"
   ]
  },
  {
   "cell_type": "markdown",
   "id": "d6dd9e92",
   "metadata": {
    "heading_collapsed": true,
    "jp-MarkdownHeadingCollapsed": true
   },
   "source": [
    "### Анализ предсказаний"
   ]
  },
  {
   "cell_type": "code",
   "execution_count": 28,
   "id": "683132cb",
   "metadata": {
    "hidden": true
   },
   "outputs": [],
   "source": [
    "train_pool = Pool(X_train, y_train, cat_features= cat_features)"
   ]
  },
  {
   "cell_type": "code",
   "execution_count": 29,
   "id": "f0df93d0",
   "metadata": {
    "hidden": true
   },
   "outputs": [
    {
     "data": {
      "text/html": [
       "        <script type=\"text/javascript\">\n",
       "        window.PlotlyConfig = {MathJaxConfig: 'local'};\n",
       "        if (window.MathJax && window.MathJax.Hub && window.MathJax.Hub.Config) {window.MathJax.Hub.Config({SVG: {font: \"STIX-Web\"}});}\n",
       "        if (typeof require !== 'undefined') {\n",
       "        require.undef(\"plotly\");\n",
       "        requirejs.config({\n",
       "            paths: {\n",
       "                'plotly': ['https://cdn.plot.ly/plotly-2.32.0.min']\n",
       "            }\n",
       "        });\n",
       "        require(['plotly'], function(Plotly) {\n",
       "            window._Plotly = Plotly;\n",
       "        });\n",
       "        }\n",
       "        </script>\n",
       "        "
      ]
     },
     "metadata": {},
     "output_type": "display_data"
    },
    {
     "data": {
      "application/vnd.plotly.v1+json": {
       "config": {
        "linkText": "Export to plot.ly",
        "plotlyServerURL": "https://plot.ly",
        "showLink": false
       },
       "data": [
        {
         "mode": "lines+markers",
         "name": "Mean target",
         "type": "scatter",
         "xaxis": "x",
         "y": [
          0.2631579,
          0.22950819,
          0.20915033,
          0.22270742,
          0.22131148,
          0.19836065,
          0.17169069,
          0.22922637,
          0.25487232,
          0.25665167,
          0.2498635,
          0.2712975,
          0.3026316,
          0.22502522,
          0.25519288,
          0.22319475,
          0.22831424,
          0.2254025,
          0.21048321,
          0.20995198,
          0.25713184,
          0.23233795,
          0.19016394
         ],
         "yaxis": "y"
        },
        {
         "line": {
          "dash": "dash"
         },
         "mode": "lines+markers",
         "name": "Mean prediction on each segment of feature values",
         "type": "scatter",
         "xaxis": "x",
         "y": [
          0.26139474,
          0.22716597,
          0.2377719,
          0.21572691,
          0.20337133,
          0.21651602,
          0.17073047,
          0.23513053,
          0.2555849,
          0.25515315,
          0.25081408,
          0.2640809,
          0.28997222,
          0.2335273,
          0.2477091,
          0.2165487,
          0.23323809,
          0.22640665,
          0.20825586,
          0.21620819,
          0.25523424,
          0.22570986,
          0.19943759
         ],
         "yaxis": "y"
        },
        {
         "marker": {
          "color": "rgba(30, 150, 30, 0.4)"
         },
         "name": "Objects per bin",
         "type": "bar",
         "width": 0.8,
         "xaxis": "x",
         "y": [
          304,
          610,
          153,
          916,
          610,
          610,
          763,
          2443,
          5952,
          2443,
          5495,
          2289,
          152,
          1982,
          1685,
          457,
          1222,
          1677,
          2442,
          2291,
          2594,
          1373,
          610
         ],
         "yaxis": "y2"
        },
        {
         "line": {
          "dash": "dashdot"
         },
         "mode": "lines+markers",
         "name": "Mean prediction with substituted feature",
         "type": "scatter",
         "xaxis": "x",
         "y": [
          0.25062403245316833,
          0.23936972077868052,
          0.2055076756732838,
          0.21608999589099842,
          0.2132383201304385,
          0.20826516711023016,
          0.20645899594370662,
          0.22607284089237767,
          0.23872401541036992,
          0.24136671351959224,
          0.2406606105882003,
          0.24562740450551762,
          0.2496082237158362,
          0.23450400558931073,
          0.2520293832702468,
          0.2525396215890238,
          0.24938315873501882,
          0.24976822092540255,
          0.2339658872000817,
          0.22890522481440315,
          0.25189408445368794,
          0.2672933230151533,
          0.2467763138596456
         ],
         "yaxis": "y"
        }
       ],
       "layout": {
        "annotations": [
         {
          "align": "left",
          "showarrow": false,
          "text": "Statistics for feature",
          "x": 0,
          "xref": "paper",
          "y": 1.05,
          "yref": "paper"
         }
        ],
        "legend": {
         "bgcolor": "rgba(0,0,0,0)",
         "x": 1.07
        },
        "template": {
         "data": {
          "bar": [
           {
            "error_x": {
             "color": "#2a3f5f"
            },
            "error_y": {
             "color": "#2a3f5f"
            },
            "marker": {
             "line": {
              "color": "#E5ECF6",
              "width": 0.5
             },
             "pattern": {
              "fillmode": "overlay",
              "size": 10,
              "solidity": 0.2
             }
            },
            "type": "bar"
           }
          ],
          "barpolar": [
           {
            "marker": {
             "line": {
              "color": "#E5ECF6",
              "width": 0.5
             },
             "pattern": {
              "fillmode": "overlay",
              "size": 10,
              "solidity": 0.2
             }
            },
            "type": "barpolar"
           }
          ],
          "carpet": [
           {
            "aaxis": {
             "endlinecolor": "#2a3f5f",
             "gridcolor": "white",
             "linecolor": "white",
             "minorgridcolor": "white",
             "startlinecolor": "#2a3f5f"
            },
            "baxis": {
             "endlinecolor": "#2a3f5f",
             "gridcolor": "white",
             "linecolor": "white",
             "minorgridcolor": "white",
             "startlinecolor": "#2a3f5f"
            },
            "type": "carpet"
           }
          ],
          "choropleth": [
           {
            "colorbar": {
             "outlinewidth": 0,
             "ticks": ""
            },
            "type": "choropleth"
           }
          ],
          "contour": [
           {
            "colorbar": {
             "outlinewidth": 0,
             "ticks": ""
            },
            "colorscale": [
             [
              0,
              "#0d0887"
             ],
             [
              0.1111111111111111,
              "#46039f"
             ],
             [
              0.2222222222222222,
              "#7201a8"
             ],
             [
              0.3333333333333333,
              "#9c179e"
             ],
             [
              0.4444444444444444,
              "#bd3786"
             ],
             [
              0.5555555555555556,
              "#d8576b"
             ],
             [
              0.6666666666666666,
              "#ed7953"
             ],
             [
              0.7777777777777778,
              "#fb9f3a"
             ],
             [
              0.8888888888888888,
              "#fdca26"
             ],
             [
              1,
              "#f0f921"
             ]
            ],
            "type": "contour"
           }
          ],
          "contourcarpet": [
           {
            "colorbar": {
             "outlinewidth": 0,
             "ticks": ""
            },
            "type": "contourcarpet"
           }
          ],
          "heatmap": [
           {
            "colorbar": {
             "outlinewidth": 0,
             "ticks": ""
            },
            "colorscale": [
             [
              0,
              "#0d0887"
             ],
             [
              0.1111111111111111,
              "#46039f"
             ],
             [
              0.2222222222222222,
              "#7201a8"
             ],
             [
              0.3333333333333333,
              "#9c179e"
             ],
             [
              0.4444444444444444,
              "#bd3786"
             ],
             [
              0.5555555555555556,
              "#d8576b"
             ],
             [
              0.6666666666666666,
              "#ed7953"
             ],
             [
              0.7777777777777778,
              "#fb9f3a"
             ],
             [
              0.8888888888888888,
              "#fdca26"
             ],
             [
              1,
              "#f0f921"
             ]
            ],
            "type": "heatmap"
           }
          ],
          "heatmapgl": [
           {
            "colorbar": {
             "outlinewidth": 0,
             "ticks": ""
            },
            "colorscale": [
             [
              0,
              "#0d0887"
             ],
             [
              0.1111111111111111,
              "#46039f"
             ],
             [
              0.2222222222222222,
              "#7201a8"
             ],
             [
              0.3333333333333333,
              "#9c179e"
             ],
             [
              0.4444444444444444,
              "#bd3786"
             ],
             [
              0.5555555555555556,
              "#d8576b"
             ],
             [
              0.6666666666666666,
              "#ed7953"
             ],
             [
              0.7777777777777778,
              "#fb9f3a"
             ],
             [
              0.8888888888888888,
              "#fdca26"
             ],
             [
              1,
              "#f0f921"
             ]
            ],
            "type": "heatmapgl"
           }
          ],
          "histogram": [
           {
            "marker": {
             "pattern": {
              "fillmode": "overlay",
              "size": 10,
              "solidity": 0.2
             }
            },
            "type": "histogram"
           }
          ],
          "histogram2d": [
           {
            "colorbar": {
             "outlinewidth": 0,
             "ticks": ""
            },
            "colorscale": [
             [
              0,
              "#0d0887"
             ],
             [
              0.1111111111111111,
              "#46039f"
             ],
             [
              0.2222222222222222,
              "#7201a8"
             ],
             [
              0.3333333333333333,
              "#9c179e"
             ],
             [
              0.4444444444444444,
              "#bd3786"
             ],
             [
              0.5555555555555556,
              "#d8576b"
             ],
             [
              0.6666666666666666,
              "#ed7953"
             ],
             [
              0.7777777777777778,
              "#fb9f3a"
             ],
             [
              0.8888888888888888,
              "#fdca26"
             ],
             [
              1,
              "#f0f921"
             ]
            ],
            "type": "histogram2d"
           }
          ],
          "histogram2dcontour": [
           {
            "colorbar": {
             "outlinewidth": 0,
             "ticks": ""
            },
            "colorscale": [
             [
              0,
              "#0d0887"
             ],
             [
              0.1111111111111111,
              "#46039f"
             ],
             [
              0.2222222222222222,
              "#7201a8"
             ],
             [
              0.3333333333333333,
              "#9c179e"
             ],
             [
              0.4444444444444444,
              "#bd3786"
             ],
             [
              0.5555555555555556,
              "#d8576b"
             ],
             [
              0.6666666666666666,
              "#ed7953"
             ],
             [
              0.7777777777777778,
              "#fb9f3a"
             ],
             [
              0.8888888888888888,
              "#fdca26"
             ],
             [
              1,
              "#f0f921"
             ]
            ],
            "type": "histogram2dcontour"
           }
          ],
          "mesh3d": [
           {
            "colorbar": {
             "outlinewidth": 0,
             "ticks": ""
            },
            "type": "mesh3d"
           }
          ],
          "parcoords": [
           {
            "line": {
             "colorbar": {
              "outlinewidth": 0,
              "ticks": ""
             }
            },
            "type": "parcoords"
           }
          ],
          "pie": [
           {
            "automargin": true,
            "type": "pie"
           }
          ],
          "scatter": [
           {
            "fillpattern": {
             "fillmode": "overlay",
             "size": 10,
             "solidity": 0.2
            },
            "type": "scatter"
           }
          ],
          "scatter3d": [
           {
            "line": {
             "colorbar": {
              "outlinewidth": 0,
              "ticks": ""
             }
            },
            "marker": {
             "colorbar": {
              "outlinewidth": 0,
              "ticks": ""
             }
            },
            "type": "scatter3d"
           }
          ],
          "scattercarpet": [
           {
            "marker": {
             "colorbar": {
              "outlinewidth": 0,
              "ticks": ""
             }
            },
            "type": "scattercarpet"
           }
          ],
          "scattergeo": [
           {
            "marker": {
             "colorbar": {
              "outlinewidth": 0,
              "ticks": ""
             }
            },
            "type": "scattergeo"
           }
          ],
          "scattergl": [
           {
            "marker": {
             "colorbar": {
              "outlinewidth": 0,
              "ticks": ""
             }
            },
            "type": "scattergl"
           }
          ],
          "scattermapbox": [
           {
            "marker": {
             "colorbar": {
              "outlinewidth": 0,
              "ticks": ""
             }
            },
            "type": "scattermapbox"
           }
          ],
          "scatterpolar": [
           {
            "marker": {
             "colorbar": {
              "outlinewidth": 0,
              "ticks": ""
             }
            },
            "type": "scatterpolar"
           }
          ],
          "scatterpolargl": [
           {
            "marker": {
             "colorbar": {
              "outlinewidth": 0,
              "ticks": ""
             }
            },
            "type": "scatterpolargl"
           }
          ],
          "scatterternary": [
           {
            "marker": {
             "colorbar": {
              "outlinewidth": 0,
              "ticks": ""
             }
            },
            "type": "scatterternary"
           }
          ],
          "surface": [
           {
            "colorbar": {
             "outlinewidth": 0,
             "ticks": ""
            },
            "colorscale": [
             [
              0,
              "#0d0887"
             ],
             [
              0.1111111111111111,
              "#46039f"
             ],
             [
              0.2222222222222222,
              "#7201a8"
             ],
             [
              0.3333333333333333,
              "#9c179e"
             ],
             [
              0.4444444444444444,
              "#bd3786"
             ],
             [
              0.5555555555555556,
              "#d8576b"
             ],
             [
              0.6666666666666666,
              "#ed7953"
             ],
             [
              0.7777777777777778,
              "#fb9f3a"
             ],
             [
              0.8888888888888888,
              "#fdca26"
             ],
             [
              1,
              "#f0f921"
             ]
            ],
            "type": "surface"
           }
          ],
          "table": [
           {
            "cells": {
             "fill": {
              "color": "#EBF0F8"
             },
             "line": {
              "color": "white"
             }
            },
            "header": {
             "fill": {
              "color": "#C8D4E3"
             },
             "line": {
              "color": "white"
             }
            },
            "type": "table"
           }
          ]
         },
         "layout": {
          "annotationdefaults": {
           "arrowcolor": "#2a3f5f",
           "arrowhead": 0,
           "arrowwidth": 1
          },
          "autotypenumbers": "strict",
          "coloraxis": {
           "colorbar": {
            "outlinewidth": 0,
            "ticks": ""
           }
          },
          "colorscale": {
           "diverging": [
            [
             0,
             "#8e0152"
            ],
            [
             0.1,
             "#c51b7d"
            ],
            [
             0.2,
             "#de77ae"
            ],
            [
             0.3,
             "#f1b6da"
            ],
            [
             0.4,
             "#fde0ef"
            ],
            [
             0.5,
             "#f7f7f7"
            ],
            [
             0.6,
             "#e6f5d0"
            ],
            [
             0.7,
             "#b8e186"
            ],
            [
             0.8,
             "#7fbc41"
            ],
            [
             0.9,
             "#4d9221"
            ],
            [
             1,
             "#276419"
            ]
           ],
           "sequential": [
            [
             0,
             "#0d0887"
            ],
            [
             0.1111111111111111,
             "#46039f"
            ],
            [
             0.2222222222222222,
             "#7201a8"
            ],
            [
             0.3333333333333333,
             "#9c179e"
            ],
            [
             0.4444444444444444,
             "#bd3786"
            ],
            [
             0.5555555555555556,
             "#d8576b"
            ],
            [
             0.6666666666666666,
             "#ed7953"
            ],
            [
             0.7777777777777778,
             "#fb9f3a"
            ],
            [
             0.8888888888888888,
             "#fdca26"
            ],
            [
             1,
             "#f0f921"
            ]
           ],
           "sequentialminus": [
            [
             0,
             "#0d0887"
            ],
            [
             0.1111111111111111,
             "#46039f"
            ],
            [
             0.2222222222222222,
             "#7201a8"
            ],
            [
             0.3333333333333333,
             "#9c179e"
            ],
            [
             0.4444444444444444,
             "#bd3786"
            ],
            [
             0.5555555555555556,
             "#d8576b"
            ],
            [
             0.6666666666666666,
             "#ed7953"
            ],
            [
             0.7777777777777778,
             "#fb9f3a"
            ],
            [
             0.8888888888888888,
             "#fdca26"
            ],
            [
             1,
             "#f0f921"
            ]
           ]
          },
          "colorway": [
           "#636efa",
           "#EF553B",
           "#00cc96",
           "#ab63fa",
           "#FFA15A",
           "#19d3f3",
           "#FF6692",
           "#B6E880",
           "#FF97FF",
           "#FECB52"
          ],
          "font": {
           "color": "#2a3f5f"
          },
          "geo": {
           "bgcolor": "white",
           "lakecolor": "white",
           "landcolor": "#E5ECF6",
           "showlakes": true,
           "showland": true,
           "subunitcolor": "white"
          },
          "hoverlabel": {
           "align": "left"
          },
          "hovermode": "closest",
          "mapbox": {
           "style": "light"
          },
          "paper_bgcolor": "white",
          "plot_bgcolor": "#E5ECF6",
          "polar": {
           "angularaxis": {
            "gridcolor": "white",
            "linecolor": "white",
            "ticks": ""
           },
           "bgcolor": "#E5ECF6",
           "radialaxis": {
            "gridcolor": "white",
            "linecolor": "white",
            "ticks": ""
           }
          },
          "scene": {
           "xaxis": {
            "backgroundcolor": "#E5ECF6",
            "gridcolor": "white",
            "gridwidth": 2,
            "linecolor": "white",
            "showbackground": true,
            "ticks": "",
            "zerolinecolor": "white"
           },
           "yaxis": {
            "backgroundcolor": "#E5ECF6",
            "gridcolor": "white",
            "gridwidth": 2,
            "linecolor": "white",
            "showbackground": true,
            "ticks": "",
            "zerolinecolor": "white"
           },
           "zaxis": {
            "backgroundcolor": "#E5ECF6",
            "gridcolor": "white",
            "gridwidth": 2,
            "linecolor": "white",
            "showbackground": true,
            "ticks": "",
            "zerolinecolor": "white"
           }
          },
          "shapedefaults": {
           "line": {
            "color": "#2a3f5f"
           }
          },
          "ternary": {
           "aaxis": {
            "gridcolor": "white",
            "linecolor": "white",
            "ticks": ""
           },
           "baxis": {
            "gridcolor": "white",
            "linecolor": "white",
            "ticks": ""
           },
           "bgcolor": "#E5ECF6",
           "caxis": {
            "gridcolor": "white",
            "linecolor": "white",
            "ticks": ""
           }
          },
          "title": {
           "x": 0.05
          },
          "xaxis": {
           "automargin": true,
           "gridcolor": "white",
           "linecolor": "white",
           "ticks": "",
           "title": {
            "standoff": 15
           },
           "zerolinecolor": "white",
           "zerolinewidth": 2
          },
          "yaxis": {
           "automargin": true,
           "gridcolor": "white",
           "linecolor": "white",
           "ticks": "",
           "title": {
            "standoff": 15
           },
           "zerolinecolor": "white",
           "zerolinewidth": 2
          }
         }
        },
        "updatemenus": [
         {
          "buttons": [
           {
            "args": [
             {
              "y": [
               [
                0.2631579,
                0.22950819,
                0.20915033,
                0.22270742,
                0.22131148,
                0.19836065,
                0.17169069,
                0.22922637,
                0.25487232,
                0.25665167,
                0.2498635,
                0.2712975,
                0.3026316,
                0.22502522,
                0.25519288,
                0.22319475,
                0.22831424,
                0.2254025,
                0.21048321,
                0.20995198,
                0.25713184,
                0.23233795,
                0.19016394
               ],
               [
                0.26139474,
                0.22716597,
                0.2377719,
                0.21572691,
                0.20337133,
                0.21651602,
                0.17073047,
                0.23513053,
                0.2555849,
                0.25515315,
                0.25081408,
                0.2640809,
                0.28997222,
                0.2335273,
                0.2477091,
                0.2165487,
                0.23323809,
                0.22640665,
                0.20825586,
                0.21620819,
                0.25523424,
                0.22570986,
                0.19943759
               ],
               [
                304,
                610,
                153,
                916,
                610,
                610,
                763,
                2443,
                5952,
                2443,
                5495,
                2289,
                152,
                1982,
                1685,
                457,
                1222,
                1677,
                2442,
                2291,
                2594,
                1373,
                610
               ],
               [
                0.25062403245316833,
                0.23936972077868052,
                0.2055076756732838,
                0.21608999589099842,
                0.2132383201304385,
                0.20826516711023016,
                0.20645899594370662,
                0.22607284089237767,
                0.23872401541036992,
                0.24136671351959224,
                0.2406606105882003,
                0.24562740450551762,
                0.2496082237158362,
                0.23450400558931073,
                0.2520293832702468,
                0.2525396215890238,
                0.24938315873501882,
                0.24976822092540255,
                0.2339658872000817,
                0.22890522481440315,
                0.25189408445368794,
                0.2672933230151533,
                0.2467763138596456
               ]
              ]
             },
             {
              "xaxis": {
               "showticklabels": false,
               "tickmode": "array",
               "ticktext": [
                "(-inf, 25943.5000]",
                "(25943.5000, 31843.0000]",
                "(31843.0000, 32985.0000]",
                "(32985.0000, 40242.5000]",
                "(40242.5000, 48883.5000]",
                "(48883.5000, 55496.0000]",
                "(55496.0000, 67314.0000]",
                "(67314.0000, 97681.5000]",
                "(97681.5000, 136269.5000]",
                "(136269.5000, 152838.0000]",
                "(152838.0000, 182273.5000]",
                "(182273.5000, 192354.5000]",
                "(192354.5000, 193042.5000]",
                "(193042.5000, 202871.5000]",
                "(202871.5000, 213308.5000]",
                "(213308.5000, 216606.0000]",
                "(216606.0000, 226745.5000]",
                "(226745.5000, 242499.5000]",
                "(242499.5000, 274500.5000]",
                "(274500.5000, 314398.5000]",
                "(314398.5000, 379523.5000]",
                "(379523.5000, 472030.0000]",
                "(472030.0000, +inf)"
               ],
               "tickvals": [
                0,
                1,
                2,
                3,
                4,
                5,
                6,
                7,
                8,
                9,
                10,
                11,
                12,
                13,
                14,
                15,
                16,
                17,
                18,
                19,
                20,
                21,
                22
               ],
               "title": {
                "text": "Bins"
               }
              }
             }
            ],
            "label": "fnlwgt",
            "method": "update"
           }
          ],
          "direction": "down",
          "pad": {
           "r": 10,
           "t": 10
          },
          "showactive": true,
          "x": 0.25,
          "xanchor": "left",
          "y": 1.09,
          "yanchor": "top"
         }
        ],
        "xaxis": {
         "showticklabels": false,
         "tickmode": "array",
         "ticktext": [
          "(-inf, 25943.5000]",
          "(25943.5000, 31843.0000]",
          "(31843.0000, 32985.0000]",
          "(32985.0000, 40242.5000]",
          "(40242.5000, 48883.5000]",
          "(48883.5000, 55496.0000]",
          "(55496.0000, 67314.0000]",
          "(67314.0000, 97681.5000]",
          "(97681.5000, 136269.5000]",
          "(136269.5000, 152838.0000]",
          "(152838.0000, 182273.5000]",
          "(182273.5000, 192354.5000]",
          "(192354.5000, 193042.5000]",
          "(193042.5000, 202871.5000]",
          "(202871.5000, 213308.5000]",
          "(213308.5000, 216606.0000]",
          "(216606.0000, 226745.5000]",
          "(226745.5000, 242499.5000]",
          "(242499.5000, 274500.5000]",
          "(274500.5000, 314398.5000]",
          "(314398.5000, 379523.5000]",
          "(379523.5000, 472030.0000]",
          "(472030.0000, +inf)"
         ],
         "tickvals": [
          0,
          1,
          2,
          3,
          4,
          5,
          6,
          7,
          8,
          9,
          10,
          11,
          12,
          13,
          14,
          15,
          16,
          17,
          18,
          19,
          20,
          21,
          22
         ],
         "title": {
          "text": "Bins"
         }
        },
        "yaxis": {
         "overlaying": "y2",
         "side": "left",
         "title": {
          "text": "Prediction and target"
         }
        },
        "yaxis2": {
         "position": 1,
         "side": "right",
         "title": {
          "text": "Objects per bin"
         }
        }
       }
      },
      "text/html": [
       "<div>                            <div id=\"fef0eb2b-c0b9-40da-9065-e538883bd912\" class=\"plotly-graph-div\" style=\"height:525px; width:100%;\"></div>            <script type=\"text/javascript\">                require([\"plotly\"], function(Plotly) {                    window.PLOTLYENV=window.PLOTLYENV || {};                                    if (document.getElementById(\"fef0eb2b-c0b9-40da-9065-e538883bd912\")) {                    Plotly.newPlot(                        \"fef0eb2b-c0b9-40da-9065-e538883bd912\",                        [{\"mode\":\"lines+markers\",\"name\":\"Mean target\",\"xaxis\":\"x\",\"y\":[0.2631579,0.22950819,0.20915033,0.22270742,0.22131148,0.19836065,0.17169069,0.22922637,0.25487232,0.25665167,0.2498635,0.2712975,0.3026316,0.22502522,0.25519288,0.22319475,0.22831424,0.2254025,0.21048321,0.20995198,0.25713184,0.23233795,0.19016394],\"yaxis\":\"y\",\"type\":\"scatter\"},{\"line\":{\"dash\":\"dash\"},\"mode\":\"lines+markers\",\"name\":\"Mean prediction on each segment of feature values\",\"xaxis\":\"x\",\"y\":[0.26139474,0.22716597,0.2377719,0.21572691,0.20337133,0.21651602,0.17073047,0.23513053,0.2555849,0.25515315,0.25081408,0.2640809,0.28997222,0.2335273,0.2477091,0.2165487,0.23323809,0.22640665,0.20825586,0.21620819,0.25523424,0.22570986,0.19943759],\"yaxis\":\"y\",\"type\":\"scatter\"},{\"marker\":{\"color\":\"rgba(30, 150, 30, 0.4)\"},\"name\":\"Objects per bin\",\"width\":0.8,\"xaxis\":\"x\",\"y\":[304,610,153,916,610,610,763,2443,5952,2443,5495,2289,152,1982,1685,457,1222,1677,2442,2291,2594,1373,610],\"yaxis\":\"y2\",\"type\":\"bar\"},{\"line\":{\"dash\":\"dashdot\"},\"mode\":\"lines+markers\",\"name\":\"Mean prediction with substituted feature\",\"xaxis\":\"x\",\"y\":[0.25062403245316833,0.23936972077868052,0.2055076756732838,0.21608999589099842,0.2132383201304385,0.20826516711023016,0.20645899594370662,0.22607284089237767,0.23872401541036992,0.24136671351959224,0.2406606105882003,0.24562740450551762,0.2496082237158362,0.23450400558931073,0.2520293832702468,0.2525396215890238,0.24938315873501882,0.24976822092540255,0.2339658872000817,0.22890522481440315,0.25189408445368794,0.2672933230151533,0.2467763138596456],\"yaxis\":\"y\",\"type\":\"scatter\"}],                        {\"annotations\":[{\"align\":\"left\",\"showarrow\":false,\"text\":\"Statistics for feature\",\"x\":0,\"xref\":\"paper\",\"y\":1.05,\"yref\":\"paper\"}],\"legend\":{\"bgcolor\":\"rgba(0,0,0,0)\",\"x\":1.07},\"template\":{\"data\":{\"barpolar\":[{\"marker\":{\"line\":{\"color\":\"#E5ECF6\",\"width\":0.5},\"pattern\":{\"fillmode\":\"overlay\",\"size\":10,\"solidity\":0.2}},\"type\":\"barpolar\"}],\"bar\":[{\"error_x\":{\"color\":\"#2a3f5f\"},\"error_y\":{\"color\":\"#2a3f5f\"},\"marker\":{\"line\":{\"color\":\"#E5ECF6\",\"width\":0.5},\"pattern\":{\"fillmode\":\"overlay\",\"size\":10,\"solidity\":0.2}},\"type\":\"bar\"}],\"carpet\":[{\"aaxis\":{\"endlinecolor\":\"#2a3f5f\",\"gridcolor\":\"white\",\"linecolor\":\"white\",\"minorgridcolor\":\"white\",\"startlinecolor\":\"#2a3f5f\"},\"baxis\":{\"endlinecolor\":\"#2a3f5f\",\"gridcolor\":\"white\",\"linecolor\":\"white\",\"minorgridcolor\":\"white\",\"startlinecolor\":\"#2a3f5f\"},\"type\":\"carpet\"}],\"choropleth\":[{\"colorbar\":{\"outlinewidth\":0,\"ticks\":\"\"},\"type\":\"choropleth\"}],\"contourcarpet\":[{\"colorbar\":{\"outlinewidth\":0,\"ticks\":\"\"},\"type\":\"contourcarpet\"}],\"contour\":[{\"colorbar\":{\"outlinewidth\":0,\"ticks\":\"\"},\"colorscale\":[[0.0,\"#0d0887\"],[0.1111111111111111,\"#46039f\"],[0.2222222222222222,\"#7201a8\"],[0.3333333333333333,\"#9c179e\"],[0.4444444444444444,\"#bd3786\"],[0.5555555555555556,\"#d8576b\"],[0.6666666666666666,\"#ed7953\"],[0.7777777777777778,\"#fb9f3a\"],[0.8888888888888888,\"#fdca26\"],[1.0,\"#f0f921\"]],\"type\":\"contour\"}],\"heatmapgl\":[{\"colorbar\":{\"outlinewidth\":0,\"ticks\":\"\"},\"colorscale\":[[0.0,\"#0d0887\"],[0.1111111111111111,\"#46039f\"],[0.2222222222222222,\"#7201a8\"],[0.3333333333333333,\"#9c179e\"],[0.4444444444444444,\"#bd3786\"],[0.5555555555555556,\"#d8576b\"],[0.6666666666666666,\"#ed7953\"],[0.7777777777777778,\"#fb9f3a\"],[0.8888888888888888,\"#fdca26\"],[1.0,\"#f0f921\"]],\"type\":\"heatmapgl\"}],\"heatmap\":[{\"colorbar\":{\"outlinewidth\":0,\"ticks\":\"\"},\"colorscale\":[[0.0,\"#0d0887\"],[0.1111111111111111,\"#46039f\"],[0.2222222222222222,\"#7201a8\"],[0.3333333333333333,\"#9c179e\"],[0.4444444444444444,\"#bd3786\"],[0.5555555555555556,\"#d8576b\"],[0.6666666666666666,\"#ed7953\"],[0.7777777777777778,\"#fb9f3a\"],[0.8888888888888888,\"#fdca26\"],[1.0,\"#f0f921\"]],\"type\":\"heatmap\"}],\"histogram2dcontour\":[{\"colorbar\":{\"outlinewidth\":0,\"ticks\":\"\"},\"colorscale\":[[0.0,\"#0d0887\"],[0.1111111111111111,\"#46039f\"],[0.2222222222222222,\"#7201a8\"],[0.3333333333333333,\"#9c179e\"],[0.4444444444444444,\"#bd3786\"],[0.5555555555555556,\"#d8576b\"],[0.6666666666666666,\"#ed7953\"],[0.7777777777777778,\"#fb9f3a\"],[0.8888888888888888,\"#fdca26\"],[1.0,\"#f0f921\"]],\"type\":\"histogram2dcontour\"}],\"histogram2d\":[{\"colorbar\":{\"outlinewidth\":0,\"ticks\":\"\"},\"colorscale\":[[0.0,\"#0d0887\"],[0.1111111111111111,\"#46039f\"],[0.2222222222222222,\"#7201a8\"],[0.3333333333333333,\"#9c179e\"],[0.4444444444444444,\"#bd3786\"],[0.5555555555555556,\"#d8576b\"],[0.6666666666666666,\"#ed7953\"],[0.7777777777777778,\"#fb9f3a\"],[0.8888888888888888,\"#fdca26\"],[1.0,\"#f0f921\"]],\"type\":\"histogram2d\"}],\"histogram\":[{\"marker\":{\"pattern\":{\"fillmode\":\"overlay\",\"size\":10,\"solidity\":0.2}},\"type\":\"histogram\"}],\"mesh3d\":[{\"colorbar\":{\"outlinewidth\":0,\"ticks\":\"\"},\"type\":\"mesh3d\"}],\"parcoords\":[{\"line\":{\"colorbar\":{\"outlinewidth\":0,\"ticks\":\"\"}},\"type\":\"parcoords\"}],\"pie\":[{\"automargin\":true,\"type\":\"pie\"}],\"scatter3d\":[{\"line\":{\"colorbar\":{\"outlinewidth\":0,\"ticks\":\"\"}},\"marker\":{\"colorbar\":{\"outlinewidth\":0,\"ticks\":\"\"}},\"type\":\"scatter3d\"}],\"scattercarpet\":[{\"marker\":{\"colorbar\":{\"outlinewidth\":0,\"ticks\":\"\"}},\"type\":\"scattercarpet\"}],\"scattergeo\":[{\"marker\":{\"colorbar\":{\"outlinewidth\":0,\"ticks\":\"\"}},\"type\":\"scattergeo\"}],\"scattergl\":[{\"marker\":{\"colorbar\":{\"outlinewidth\":0,\"ticks\":\"\"}},\"type\":\"scattergl\"}],\"scattermapbox\":[{\"marker\":{\"colorbar\":{\"outlinewidth\":0,\"ticks\":\"\"}},\"type\":\"scattermapbox\"}],\"scatterpolargl\":[{\"marker\":{\"colorbar\":{\"outlinewidth\":0,\"ticks\":\"\"}},\"type\":\"scatterpolargl\"}],\"scatterpolar\":[{\"marker\":{\"colorbar\":{\"outlinewidth\":0,\"ticks\":\"\"}},\"type\":\"scatterpolar\"}],\"scatter\":[{\"fillpattern\":{\"fillmode\":\"overlay\",\"size\":10,\"solidity\":0.2},\"type\":\"scatter\"}],\"scatterternary\":[{\"marker\":{\"colorbar\":{\"outlinewidth\":0,\"ticks\":\"\"}},\"type\":\"scatterternary\"}],\"surface\":[{\"colorbar\":{\"outlinewidth\":0,\"ticks\":\"\"},\"colorscale\":[[0.0,\"#0d0887\"],[0.1111111111111111,\"#46039f\"],[0.2222222222222222,\"#7201a8\"],[0.3333333333333333,\"#9c179e\"],[0.4444444444444444,\"#bd3786\"],[0.5555555555555556,\"#d8576b\"],[0.6666666666666666,\"#ed7953\"],[0.7777777777777778,\"#fb9f3a\"],[0.8888888888888888,\"#fdca26\"],[1.0,\"#f0f921\"]],\"type\":\"surface\"}],\"table\":[{\"cells\":{\"fill\":{\"color\":\"#EBF0F8\"},\"line\":{\"color\":\"white\"}},\"header\":{\"fill\":{\"color\":\"#C8D4E3\"},\"line\":{\"color\":\"white\"}},\"type\":\"table\"}]},\"layout\":{\"annotationdefaults\":{\"arrowcolor\":\"#2a3f5f\",\"arrowhead\":0,\"arrowwidth\":1},\"autotypenumbers\":\"strict\",\"coloraxis\":{\"colorbar\":{\"outlinewidth\":0,\"ticks\":\"\"}},\"colorscale\":{\"diverging\":[[0,\"#8e0152\"],[0.1,\"#c51b7d\"],[0.2,\"#de77ae\"],[0.3,\"#f1b6da\"],[0.4,\"#fde0ef\"],[0.5,\"#f7f7f7\"],[0.6,\"#e6f5d0\"],[0.7,\"#b8e186\"],[0.8,\"#7fbc41\"],[0.9,\"#4d9221\"],[1,\"#276419\"]],\"sequential\":[[0.0,\"#0d0887\"],[0.1111111111111111,\"#46039f\"],[0.2222222222222222,\"#7201a8\"],[0.3333333333333333,\"#9c179e\"],[0.4444444444444444,\"#bd3786\"],[0.5555555555555556,\"#d8576b\"],[0.6666666666666666,\"#ed7953\"],[0.7777777777777778,\"#fb9f3a\"],[0.8888888888888888,\"#fdca26\"],[1.0,\"#f0f921\"]],\"sequentialminus\":[[0.0,\"#0d0887\"],[0.1111111111111111,\"#46039f\"],[0.2222222222222222,\"#7201a8\"],[0.3333333333333333,\"#9c179e\"],[0.4444444444444444,\"#bd3786\"],[0.5555555555555556,\"#d8576b\"],[0.6666666666666666,\"#ed7953\"],[0.7777777777777778,\"#fb9f3a\"],[0.8888888888888888,\"#fdca26\"],[1.0,\"#f0f921\"]]},\"colorway\":[\"#636efa\",\"#EF553B\",\"#00cc96\",\"#ab63fa\",\"#FFA15A\",\"#19d3f3\",\"#FF6692\",\"#B6E880\",\"#FF97FF\",\"#FECB52\"],\"font\":{\"color\":\"#2a3f5f\"},\"geo\":{\"bgcolor\":\"white\",\"lakecolor\":\"white\",\"landcolor\":\"#E5ECF6\",\"showlakes\":true,\"showland\":true,\"subunitcolor\":\"white\"},\"hoverlabel\":{\"align\":\"left\"},\"hovermode\":\"closest\",\"mapbox\":{\"style\":\"light\"},\"paper_bgcolor\":\"white\",\"plot_bgcolor\":\"#E5ECF6\",\"polar\":{\"angularaxis\":{\"gridcolor\":\"white\",\"linecolor\":\"white\",\"ticks\":\"\"},\"bgcolor\":\"#E5ECF6\",\"radialaxis\":{\"gridcolor\":\"white\",\"linecolor\":\"white\",\"ticks\":\"\"}},\"scene\":{\"xaxis\":{\"backgroundcolor\":\"#E5ECF6\",\"gridcolor\":\"white\",\"gridwidth\":2,\"linecolor\":\"white\",\"showbackground\":true,\"ticks\":\"\",\"zerolinecolor\":\"white\"},\"yaxis\":{\"backgroundcolor\":\"#E5ECF6\",\"gridcolor\":\"white\",\"gridwidth\":2,\"linecolor\":\"white\",\"showbackground\":true,\"ticks\":\"\",\"zerolinecolor\":\"white\"},\"zaxis\":{\"backgroundcolor\":\"#E5ECF6\",\"gridcolor\":\"white\",\"gridwidth\":2,\"linecolor\":\"white\",\"showbackground\":true,\"ticks\":\"\",\"zerolinecolor\":\"white\"}},\"shapedefaults\":{\"line\":{\"color\":\"#2a3f5f\"}},\"ternary\":{\"aaxis\":{\"gridcolor\":\"white\",\"linecolor\":\"white\",\"ticks\":\"\"},\"baxis\":{\"gridcolor\":\"white\",\"linecolor\":\"white\",\"ticks\":\"\"},\"bgcolor\":\"#E5ECF6\",\"caxis\":{\"gridcolor\":\"white\",\"linecolor\":\"white\",\"ticks\":\"\"}},\"title\":{\"x\":0.05},\"xaxis\":{\"automargin\":true,\"gridcolor\":\"white\",\"linecolor\":\"white\",\"ticks\":\"\",\"title\":{\"standoff\":15},\"zerolinecolor\":\"white\",\"zerolinewidth\":2},\"yaxis\":{\"automargin\":true,\"gridcolor\":\"white\",\"linecolor\":\"white\",\"ticks\":\"\",\"title\":{\"standoff\":15},\"zerolinecolor\":\"white\",\"zerolinewidth\":2}}},\"updatemenus\":[{\"buttons\":[{\"args\":[{\"y\":[[0.2631579,0.22950819,0.20915033,0.22270742,0.22131148,0.19836065,0.17169069,0.22922637,0.25487232,0.25665167,0.2498635,0.2712975,0.3026316,0.22502522,0.25519288,0.22319475,0.22831424,0.2254025,0.21048321,0.20995198,0.25713184,0.23233795,0.19016394],[0.26139474,0.22716597,0.2377719,0.21572691,0.20337133,0.21651602,0.17073047,0.23513053,0.2555849,0.25515315,0.25081408,0.2640809,0.28997222,0.2335273,0.2477091,0.2165487,0.23323809,0.22640665,0.20825586,0.21620819,0.25523424,0.22570986,0.19943759],[304,610,153,916,610,610,763,2443,5952,2443,5495,2289,152,1982,1685,457,1222,1677,2442,2291,2594,1373,610],[0.25062403245316833,0.23936972077868052,0.2055076756732838,0.21608999589099842,0.2132383201304385,0.20826516711023016,0.20645899594370662,0.22607284089237767,0.23872401541036992,0.24136671351959224,0.2406606105882003,0.24562740450551762,0.2496082237158362,0.23450400558931073,0.2520293832702468,0.2525396215890238,0.24938315873501882,0.24976822092540255,0.2339658872000817,0.22890522481440315,0.25189408445368794,0.2672933230151533,0.2467763138596456]]},{\"xaxis\":{\"showticklabels\":false,\"tickmode\":\"array\",\"ticktext\":[\"(-inf, 25943.5000]\",\"(25943.5000, 31843.0000]\",\"(31843.0000, 32985.0000]\",\"(32985.0000, 40242.5000]\",\"(40242.5000, 48883.5000]\",\"(48883.5000, 55496.0000]\",\"(55496.0000, 67314.0000]\",\"(67314.0000, 97681.5000]\",\"(97681.5000, 136269.5000]\",\"(136269.5000, 152838.0000]\",\"(152838.0000, 182273.5000]\",\"(182273.5000, 192354.5000]\",\"(192354.5000, 193042.5000]\",\"(193042.5000, 202871.5000]\",\"(202871.5000, 213308.5000]\",\"(213308.5000, 216606.0000]\",\"(216606.0000, 226745.5000]\",\"(226745.5000, 242499.5000]\",\"(242499.5000, 274500.5000]\",\"(274500.5000, 314398.5000]\",\"(314398.5000, 379523.5000]\",\"(379523.5000, 472030.0000]\",\"(472030.0000, +inf)\"],\"tickvals\":[0,1,2,3,4,5,6,7,8,9,10,11,12,13,14,15,16,17,18,19,20,21,22],\"title\":{\"text\":\"Bins\"}}}],\"label\":\"fnlwgt\",\"method\":\"update\"}],\"direction\":\"down\",\"pad\":{\"r\":10,\"t\":10},\"showactive\":true,\"x\":0.25,\"xanchor\":\"left\",\"y\":1.09,\"yanchor\":\"top\"}],\"xaxis\":{\"showticklabels\":false,\"tickmode\":\"array\",\"ticktext\":[\"(-inf, 25943.5000]\",\"(25943.5000, 31843.0000]\",\"(31843.0000, 32985.0000]\",\"(32985.0000, 40242.5000]\",\"(40242.5000, 48883.5000]\",\"(48883.5000, 55496.0000]\",\"(55496.0000, 67314.0000]\",\"(67314.0000, 97681.5000]\",\"(97681.5000, 136269.5000]\",\"(136269.5000, 152838.0000]\",\"(152838.0000, 182273.5000]\",\"(182273.5000, 192354.5000]\",\"(192354.5000, 193042.5000]\",\"(193042.5000, 202871.5000]\",\"(202871.5000, 213308.5000]\",\"(213308.5000, 216606.0000]\",\"(216606.0000, 226745.5000]\",\"(226745.5000, 242499.5000]\",\"(242499.5000, 274500.5000]\",\"(274500.5000, 314398.5000]\",\"(314398.5000, 379523.5000]\",\"(379523.5000, 472030.0000]\",\"(472030.0000, +inf)\"],\"tickvals\":[0,1,2,3,4,5,6,7,8,9,10,11,12,13,14,15,16,17,18,19,20,21,22],\"title\":{\"text\":\"Bins\"}},\"yaxis\":{\"overlaying\":\"y2\",\"side\":\"left\",\"title\":{\"text\":\"Prediction and target\"}},\"yaxis2\":{\"position\":1.0,\"side\":\"right\",\"title\":{\"text\":\"Objects per bin\"}}},                        {\"responsive\": true}                    ).then(function(){\n",
       "                            \n",
       "var gd = document.getElementById('fef0eb2b-c0b9-40da-9065-e538883bd912');\n",
       "var x = new MutationObserver(function (mutations, observer) {{\n",
       "        var display = window.getComputedStyle(gd).display;\n",
       "        if (!display || display === 'none') {{\n",
       "            console.log([gd, 'removed!']);\n",
       "            Plotly.purge(gd);\n",
       "            observer.disconnect();\n",
       "        }}\n",
       "}});\n",
       "\n",
       "// Listen for the removal of the full notebook cells\n",
       "var notebookContainer = gd.closest('#notebook-container');\n",
       "if (notebookContainer) {{\n",
       "    x.observe(notebookContainer, {childList: true});\n",
       "}}\n",
       "\n",
       "// Listen for the clearing of the current output cell\n",
       "var outputEl = gd.closest('.output');\n",
       "if (outputEl) {{\n",
       "    x.observe(outputEl, {childList: true});\n",
       "}}\n",
       "\n",
       "                        })                };                });            </script>        </div>"
      ]
     },
     "metadata": {},
     "output_type": "display_data"
    },
    {
     "data": {
      "text/plain": [
       "{'borders': array([ 25943.5,  31843. ,  32985. ,  40242.5,  48883.5,  55496. ,\n",
       "         67314. ,  97681.5, 136269.5, 152838. , 182273.5, 192354.5,\n",
       "        193042.5, 202871.5, 213308.5, 216606. , 226745.5, 242499.5,\n",
       "        274500.5, 314398.5, 379523.5, 472030. ], dtype=float32),\n",
       " 'binarized_feature': array([ 6, 19, 16, ..., 18, 11, 20]),\n",
       " 'mean_target': array([0.2631579 , 0.22950819, 0.20915033, 0.22270742, 0.22131148,\n",
       "        0.19836065, 0.17169069, 0.22922637, 0.25487232, 0.25665167,\n",
       "        0.2498635 , 0.2712975 , 0.3026316 , 0.22502522, 0.25519288,\n",
       "        0.22319475, 0.22831424, 0.2254025 , 0.21048321, 0.20995198,\n",
       "        0.25713184, 0.23233795, 0.19016394], dtype=float32),\n",
       " 'mean_weighted_target': array([], dtype=float32),\n",
       " 'mean_prediction': array([0.26139474, 0.22716597, 0.2377719 , 0.21572691, 0.20337133,\n",
       "        0.21651602, 0.17073047, 0.23513053, 0.2555849 , 0.25515315,\n",
       "        0.25081408, 0.2640809 , 0.28997222, 0.2335273 , 0.2477091 ,\n",
       "        0.2165487 , 0.23323809, 0.22640665, 0.20825586, 0.21620819,\n",
       "        0.25523424, 0.22570986, 0.19943759], dtype=float32),\n",
       " 'objects_per_bin': array([ 304,  610,  153,  916,  610,  610,  763, 2443, 5952, 2443, 5495,\n",
       "        2289,  152, 1982, 1685,  457, 1222, 1677, 2442, 2291, 2594, 1373,\n",
       "         610], dtype=uint32),\n",
       " 'predictions_on_varying_feature': array([0.25062403, 0.23936972, 0.20550768, 0.21609   , 0.21323832,\n",
       "        0.20826517, 0.206459  , 0.22607284, 0.23872402, 0.24136671,\n",
       "        0.24066061, 0.2456274 , 0.24960822, 0.23450401, 0.25202938,\n",
       "        0.25253962, 0.24938316, 0.24976822, 0.23396589, 0.22890522,\n",
       "        0.25189408, 0.26729332, 0.24677631])}"
      ]
     },
     "execution_count": 29,
     "metadata": {},
     "output_type": "execute_result"
    }
   ],
   "source": [
    "model_3.calc_feature_statistics(train_pool,\n",
    "                                feature = 2,\n",
    "                                plot=True,\n",
    "                        thread_count=-1,\n",
    "                        plot_file='2.html')"
   ]
  },
  {
   "cell_type": "markdown",
   "id": "c8d1dabf",
   "metadata": {},
   "source": [
    "### Оценка важности признаков"
   ]
  },
  {
   "cell_type": "markdown",
   "id": "e3a6daee",
   "metadata": {
    "heading_collapsed": true
   },
   "source": [
    "#### Возможности catboost"
   ]
  },
  {
   "cell_type": "code",
   "execution_count": 30,
   "id": "b7b28a71",
   "metadata": {
    "hidden": true
   },
   "outputs": [],
   "source": [
    "from catboost import Pool"
   ]
  },
  {
   "cell_type": "code",
   "execution_count": 31,
   "id": "0a92a8a8",
   "metadata": {
    "hidden": true
   },
   "outputs": [],
   "source": [
    "pool_train = Pool(X_train, y_train, cat_features = cat_features)"
   ]
  },
  {
   "cell_type": "code",
   "execution_count": 32,
   "id": "7968a31e",
   "metadata": {
    "hidden": true
   },
   "outputs": [
    {
     "data": {
      "text/plain": [
       "array([11.97776322,  2.32865862,  1.23660486,  1.63451328, 10.33415421,\n",
       "        7.18243555,  7.23259136, 23.09712125,  0.42799311,  1.74886706,\n",
       "       17.30133412,  7.38469161,  7.27171332,  0.84155843])"
      ]
     },
     "execution_count": 32,
     "metadata": {},
     "output_type": "execute_result"
    }
   ],
   "source": [
    "bst.feature_importances_"
   ]
  },
  {
   "cell_type": "code",
   "execution_count": 33,
   "id": "39d308bd",
   "metadata": {
    "hidden": true
   },
   "outputs": [
    {
     "data": {
      "text/html": [
       "<div>\n",
       "<style scoped>\n",
       "    .dataframe tbody tr th:only-of-type {\n",
       "        vertical-align: middle;\n",
       "    }\n",
       "\n",
       "    .dataframe tbody tr th {\n",
       "        vertical-align: top;\n",
       "    }\n",
       "\n",
       "    .dataframe thead th {\n",
       "        text-align: right;\n",
       "    }\n",
       "</style>\n",
       "<table border=\"1\" class=\"dataframe\">\n",
       "  <thead>\n",
       "    <tr style=\"text-align: right;\">\n",
       "      <th></th>\n",
       "      <th>Feature Id</th>\n",
       "      <th>Importances</th>\n",
       "    </tr>\n",
       "  </thead>\n",
       "  <tbody>\n",
       "    <tr>\n",
       "      <th>0</th>\n",
       "      <td>relationship</td>\n",
       "      <td>23.019224</td>\n",
       "    </tr>\n",
       "    <tr>\n",
       "      <th>1</th>\n",
       "      <td>capital-gain</td>\n",
       "      <td>17.378155</td>\n",
       "    </tr>\n",
       "    <tr>\n",
       "      <th>2</th>\n",
       "      <td>age</td>\n",
       "      <td>12.030345</td>\n",
       "    </tr>\n",
       "    <tr>\n",
       "      <th>3</th>\n",
       "      <td>education-num</td>\n",
       "      <td>10.390562</td>\n",
       "    </tr>\n",
       "    <tr>\n",
       "      <th>4</th>\n",
       "      <td>capital-loss</td>\n",
       "      <td>7.428953</td>\n",
       "    </tr>\n",
       "  </tbody>\n",
       "</table>\n",
       "</div>"
      ],
      "text/plain": [
       "      Feature Id  Importances\n",
       "0   relationship    23.019224\n",
       "1   capital-gain    17.378155\n",
       "2            age    12.030345\n",
       "3  education-num    10.390562\n",
       "4   capital-loss     7.428953"
      ]
     },
     "execution_count": 33,
     "metadata": {},
     "output_type": "execute_result"
    }
   ],
   "source": [
    "featureImportance = bst.get_feature_importance(pool_train, type = 'FeatureImportance', prettified = True)\n",
    "featureImportance.head()"
   ]
  },
  {
   "cell_type": "code",
   "execution_count": 34,
   "id": "0a9bf88a",
   "metadata": {
    "hidden": true
   },
   "outputs": [
    {
     "data": {
      "application/vnd.plotly.v1+json": {
       "config": {
        "plotlyServerURL": "https://plot.ly"
       },
       "data": [
        {
         "alignmentgroup": "True",
         "hovertemplate": "x=%{x}<br>y=%{y}<extra></extra>",
         "legendgroup": "",
         "marker": {
          "color": "#636efa",
          "pattern": {
           "shape": ""
          }
         },
         "name": "",
         "offsetgroup": "",
         "orientation": "h",
         "showlegend": false,
         "textposition": "auto",
         "type": "bar",
         "x": [
          23.019224201624645,
          17.37815545729179,
          12.030344667081668,
          10.390561598930173,
          7.428953418726454,
          7.19566945331713,
          7.187274728492114,
          7.136731701729336,
          2.3046353983365155,
          1.7458216343323838,
          1.6580405646840848,
          1.242414131032217,
          0.8952550304181051,
          0.3869180140033941
         ],
         "xaxis": "x",
         "y": [
          "relationship",
          "capital-gain",
          "age",
          "education-num",
          "capital-loss",
          "hours-per-week",
          "occupation",
          "marital-status",
          "workclass",
          "sex",
          "education",
          "fnlwgt",
          "native-country",
          "race"
         ],
         "yaxis": "y"
        }
       ],
       "layout": {
        "barmode": "relative",
        "legend": {
         "tracegroupgap": 0
        },
        "margin": {
         "t": 60
        },
        "template": {
         "data": {
          "bar": [
           {
            "error_x": {
             "color": "#2a3f5f"
            },
            "error_y": {
             "color": "#2a3f5f"
            },
            "marker": {
             "line": {
              "color": "#E5ECF6",
              "width": 0.5
             },
             "pattern": {
              "fillmode": "overlay",
              "size": 10,
              "solidity": 0.2
             }
            },
            "type": "bar"
           }
          ],
          "barpolar": [
           {
            "marker": {
             "line": {
              "color": "#E5ECF6",
              "width": 0.5
             },
             "pattern": {
              "fillmode": "overlay",
              "size": 10,
              "solidity": 0.2
             }
            },
            "type": "barpolar"
           }
          ],
          "carpet": [
           {
            "aaxis": {
             "endlinecolor": "#2a3f5f",
             "gridcolor": "white",
             "linecolor": "white",
             "minorgridcolor": "white",
             "startlinecolor": "#2a3f5f"
            },
            "baxis": {
             "endlinecolor": "#2a3f5f",
             "gridcolor": "white",
             "linecolor": "white",
             "minorgridcolor": "white",
             "startlinecolor": "#2a3f5f"
            },
            "type": "carpet"
           }
          ],
          "choropleth": [
           {
            "colorbar": {
             "outlinewidth": 0,
             "ticks": ""
            },
            "type": "choropleth"
           }
          ],
          "contour": [
           {
            "colorbar": {
             "outlinewidth": 0,
             "ticks": ""
            },
            "colorscale": [
             [
              0,
              "#0d0887"
             ],
             [
              0.1111111111111111,
              "#46039f"
             ],
             [
              0.2222222222222222,
              "#7201a8"
             ],
             [
              0.3333333333333333,
              "#9c179e"
             ],
             [
              0.4444444444444444,
              "#bd3786"
             ],
             [
              0.5555555555555556,
              "#d8576b"
             ],
             [
              0.6666666666666666,
              "#ed7953"
             ],
             [
              0.7777777777777778,
              "#fb9f3a"
             ],
             [
              0.8888888888888888,
              "#fdca26"
             ],
             [
              1,
              "#f0f921"
             ]
            ],
            "type": "contour"
           }
          ],
          "contourcarpet": [
           {
            "colorbar": {
             "outlinewidth": 0,
             "ticks": ""
            },
            "type": "contourcarpet"
           }
          ],
          "heatmap": [
           {
            "colorbar": {
             "outlinewidth": 0,
             "ticks": ""
            },
            "colorscale": [
             [
              0,
              "#0d0887"
             ],
             [
              0.1111111111111111,
              "#46039f"
             ],
             [
              0.2222222222222222,
              "#7201a8"
             ],
             [
              0.3333333333333333,
              "#9c179e"
             ],
             [
              0.4444444444444444,
              "#bd3786"
             ],
             [
              0.5555555555555556,
              "#d8576b"
             ],
             [
              0.6666666666666666,
              "#ed7953"
             ],
             [
              0.7777777777777778,
              "#fb9f3a"
             ],
             [
              0.8888888888888888,
              "#fdca26"
             ],
             [
              1,
              "#f0f921"
             ]
            ],
            "type": "heatmap"
           }
          ],
          "heatmapgl": [
           {
            "colorbar": {
             "outlinewidth": 0,
             "ticks": ""
            },
            "colorscale": [
             [
              0,
              "#0d0887"
             ],
             [
              0.1111111111111111,
              "#46039f"
             ],
             [
              0.2222222222222222,
              "#7201a8"
             ],
             [
              0.3333333333333333,
              "#9c179e"
             ],
             [
              0.4444444444444444,
              "#bd3786"
             ],
             [
              0.5555555555555556,
              "#d8576b"
             ],
             [
              0.6666666666666666,
              "#ed7953"
             ],
             [
              0.7777777777777778,
              "#fb9f3a"
             ],
             [
              0.8888888888888888,
              "#fdca26"
             ],
             [
              1,
              "#f0f921"
             ]
            ],
            "type": "heatmapgl"
           }
          ],
          "histogram": [
           {
            "marker": {
             "pattern": {
              "fillmode": "overlay",
              "size": 10,
              "solidity": 0.2
             }
            },
            "type": "histogram"
           }
          ],
          "histogram2d": [
           {
            "colorbar": {
             "outlinewidth": 0,
             "ticks": ""
            },
            "colorscale": [
             [
              0,
              "#0d0887"
             ],
             [
              0.1111111111111111,
              "#46039f"
             ],
             [
              0.2222222222222222,
              "#7201a8"
             ],
             [
              0.3333333333333333,
              "#9c179e"
             ],
             [
              0.4444444444444444,
              "#bd3786"
             ],
             [
              0.5555555555555556,
              "#d8576b"
             ],
             [
              0.6666666666666666,
              "#ed7953"
             ],
             [
              0.7777777777777778,
              "#fb9f3a"
             ],
             [
              0.8888888888888888,
              "#fdca26"
             ],
             [
              1,
              "#f0f921"
             ]
            ],
            "type": "histogram2d"
           }
          ],
          "histogram2dcontour": [
           {
            "colorbar": {
             "outlinewidth": 0,
             "ticks": ""
            },
            "colorscale": [
             [
              0,
              "#0d0887"
             ],
             [
              0.1111111111111111,
              "#46039f"
             ],
             [
              0.2222222222222222,
              "#7201a8"
             ],
             [
              0.3333333333333333,
              "#9c179e"
             ],
             [
              0.4444444444444444,
              "#bd3786"
             ],
             [
              0.5555555555555556,
              "#d8576b"
             ],
             [
              0.6666666666666666,
              "#ed7953"
             ],
             [
              0.7777777777777778,
              "#fb9f3a"
             ],
             [
              0.8888888888888888,
              "#fdca26"
             ],
             [
              1,
              "#f0f921"
             ]
            ],
            "type": "histogram2dcontour"
           }
          ],
          "mesh3d": [
           {
            "colorbar": {
             "outlinewidth": 0,
             "ticks": ""
            },
            "type": "mesh3d"
           }
          ],
          "parcoords": [
           {
            "line": {
             "colorbar": {
              "outlinewidth": 0,
              "ticks": ""
             }
            },
            "type": "parcoords"
           }
          ],
          "pie": [
           {
            "automargin": true,
            "type": "pie"
           }
          ],
          "scatter": [
           {
            "fillpattern": {
             "fillmode": "overlay",
             "size": 10,
             "solidity": 0.2
            },
            "type": "scatter"
           }
          ],
          "scatter3d": [
           {
            "line": {
             "colorbar": {
              "outlinewidth": 0,
              "ticks": ""
             }
            },
            "marker": {
             "colorbar": {
              "outlinewidth": 0,
              "ticks": ""
             }
            },
            "type": "scatter3d"
           }
          ],
          "scattercarpet": [
           {
            "marker": {
             "colorbar": {
              "outlinewidth": 0,
              "ticks": ""
             }
            },
            "type": "scattercarpet"
           }
          ],
          "scattergeo": [
           {
            "marker": {
             "colorbar": {
              "outlinewidth": 0,
              "ticks": ""
             }
            },
            "type": "scattergeo"
           }
          ],
          "scattergl": [
           {
            "marker": {
             "colorbar": {
              "outlinewidth": 0,
              "ticks": ""
             }
            },
            "type": "scattergl"
           }
          ],
          "scattermapbox": [
           {
            "marker": {
             "colorbar": {
              "outlinewidth": 0,
              "ticks": ""
             }
            },
            "type": "scattermapbox"
           }
          ],
          "scatterpolar": [
           {
            "marker": {
             "colorbar": {
              "outlinewidth": 0,
              "ticks": ""
             }
            },
            "type": "scatterpolar"
           }
          ],
          "scatterpolargl": [
           {
            "marker": {
             "colorbar": {
              "outlinewidth": 0,
              "ticks": ""
             }
            },
            "type": "scatterpolargl"
           }
          ],
          "scatterternary": [
           {
            "marker": {
             "colorbar": {
              "outlinewidth": 0,
              "ticks": ""
             }
            },
            "type": "scatterternary"
           }
          ],
          "surface": [
           {
            "colorbar": {
             "outlinewidth": 0,
             "ticks": ""
            },
            "colorscale": [
             [
              0,
              "#0d0887"
             ],
             [
              0.1111111111111111,
              "#46039f"
             ],
             [
              0.2222222222222222,
              "#7201a8"
             ],
             [
              0.3333333333333333,
              "#9c179e"
             ],
             [
              0.4444444444444444,
              "#bd3786"
             ],
             [
              0.5555555555555556,
              "#d8576b"
             ],
             [
              0.6666666666666666,
              "#ed7953"
             ],
             [
              0.7777777777777778,
              "#fb9f3a"
             ],
             [
              0.8888888888888888,
              "#fdca26"
             ],
             [
              1,
              "#f0f921"
             ]
            ],
            "type": "surface"
           }
          ],
          "table": [
           {
            "cells": {
             "fill": {
              "color": "#EBF0F8"
             },
             "line": {
              "color": "white"
             }
            },
            "header": {
             "fill": {
              "color": "#C8D4E3"
             },
             "line": {
              "color": "white"
             }
            },
            "type": "table"
           }
          ]
         },
         "layout": {
          "annotationdefaults": {
           "arrowcolor": "#2a3f5f",
           "arrowhead": 0,
           "arrowwidth": 1
          },
          "autotypenumbers": "strict",
          "coloraxis": {
           "colorbar": {
            "outlinewidth": 0,
            "ticks": ""
           }
          },
          "colorscale": {
           "diverging": [
            [
             0,
             "#8e0152"
            ],
            [
             0.1,
             "#c51b7d"
            ],
            [
             0.2,
             "#de77ae"
            ],
            [
             0.3,
             "#f1b6da"
            ],
            [
             0.4,
             "#fde0ef"
            ],
            [
             0.5,
             "#f7f7f7"
            ],
            [
             0.6,
             "#e6f5d0"
            ],
            [
             0.7,
             "#b8e186"
            ],
            [
             0.8,
             "#7fbc41"
            ],
            [
             0.9,
             "#4d9221"
            ],
            [
             1,
             "#276419"
            ]
           ],
           "sequential": [
            [
             0,
             "#0d0887"
            ],
            [
             0.1111111111111111,
             "#46039f"
            ],
            [
             0.2222222222222222,
             "#7201a8"
            ],
            [
             0.3333333333333333,
             "#9c179e"
            ],
            [
             0.4444444444444444,
             "#bd3786"
            ],
            [
             0.5555555555555556,
             "#d8576b"
            ],
            [
             0.6666666666666666,
             "#ed7953"
            ],
            [
             0.7777777777777778,
             "#fb9f3a"
            ],
            [
             0.8888888888888888,
             "#fdca26"
            ],
            [
             1,
             "#f0f921"
            ]
           ],
           "sequentialminus": [
            [
             0,
             "#0d0887"
            ],
            [
             0.1111111111111111,
             "#46039f"
            ],
            [
             0.2222222222222222,
             "#7201a8"
            ],
            [
             0.3333333333333333,
             "#9c179e"
            ],
            [
             0.4444444444444444,
             "#bd3786"
            ],
            [
             0.5555555555555556,
             "#d8576b"
            ],
            [
             0.6666666666666666,
             "#ed7953"
            ],
            [
             0.7777777777777778,
             "#fb9f3a"
            ],
            [
             0.8888888888888888,
             "#fdca26"
            ],
            [
             1,
             "#f0f921"
            ]
           ]
          },
          "colorway": [
           "#636efa",
           "#EF553B",
           "#00cc96",
           "#ab63fa",
           "#FFA15A",
           "#19d3f3",
           "#FF6692",
           "#B6E880",
           "#FF97FF",
           "#FECB52"
          ],
          "font": {
           "color": "#2a3f5f"
          },
          "geo": {
           "bgcolor": "white",
           "lakecolor": "white",
           "landcolor": "#E5ECF6",
           "showlakes": true,
           "showland": true,
           "subunitcolor": "white"
          },
          "hoverlabel": {
           "align": "left"
          },
          "hovermode": "closest",
          "mapbox": {
           "style": "light"
          },
          "paper_bgcolor": "white",
          "plot_bgcolor": "#E5ECF6",
          "polar": {
           "angularaxis": {
            "gridcolor": "white",
            "linecolor": "white",
            "ticks": ""
           },
           "bgcolor": "#E5ECF6",
           "radialaxis": {
            "gridcolor": "white",
            "linecolor": "white",
            "ticks": ""
           }
          },
          "scene": {
           "xaxis": {
            "backgroundcolor": "#E5ECF6",
            "gridcolor": "white",
            "gridwidth": 2,
            "linecolor": "white",
            "showbackground": true,
            "ticks": "",
            "zerolinecolor": "white"
           },
           "yaxis": {
            "backgroundcolor": "#E5ECF6",
            "gridcolor": "white",
            "gridwidth": 2,
            "linecolor": "white",
            "showbackground": true,
            "ticks": "",
            "zerolinecolor": "white"
           },
           "zaxis": {
            "backgroundcolor": "#E5ECF6",
            "gridcolor": "white",
            "gridwidth": 2,
            "linecolor": "white",
            "showbackground": true,
            "ticks": "",
            "zerolinecolor": "white"
           }
          },
          "shapedefaults": {
           "line": {
            "color": "#2a3f5f"
           }
          },
          "ternary": {
           "aaxis": {
            "gridcolor": "white",
            "linecolor": "white",
            "ticks": ""
           },
           "baxis": {
            "gridcolor": "white",
            "linecolor": "white",
            "ticks": ""
           },
           "bgcolor": "#E5ECF6",
           "caxis": {
            "gridcolor": "white",
            "linecolor": "white",
            "ticks": ""
           }
          },
          "title": {
           "x": 0.05
          },
          "xaxis": {
           "automargin": true,
           "gridcolor": "white",
           "linecolor": "white",
           "ticks": "",
           "title": {
            "standoff": 15
           },
           "zerolinecolor": "white",
           "zerolinewidth": 2
          },
          "yaxis": {
           "automargin": true,
           "gridcolor": "white",
           "linecolor": "white",
           "ticks": "",
           "title": {
            "standoff": 15
           },
           "zerolinecolor": "white",
           "zerolinewidth": 2
          }
         }
        },
        "xaxis": {
         "anchor": "y",
         "domain": [
          0,
          1
         ],
         "title": {
          "text": "x"
         }
        },
        "yaxis": {
         "anchor": "x",
         "domain": [
          0,
          1
         ],
         "title": {
          "text": "y"
         }
        }
       }
      },
      "text/html": [
       "<div>                            <div id=\"02be2982-f821-4b76-8a1d-969434248a53\" class=\"plotly-graph-div\" style=\"height:525px; width:100%;\"></div>            <script type=\"text/javascript\">                require([\"plotly\"], function(Plotly) {                    window.PLOTLYENV=window.PLOTLYENV || {};                                    if (document.getElementById(\"02be2982-f821-4b76-8a1d-969434248a53\")) {                    Plotly.newPlot(                        \"02be2982-f821-4b76-8a1d-969434248a53\",                        [{\"alignmentgroup\":\"True\",\"hovertemplate\":\"x=%{x}\\u003cbr\\u003ey=%{y}\\u003cextra\\u003e\\u003c\\u002fextra\\u003e\",\"legendgroup\":\"\",\"marker\":{\"color\":\"#636efa\",\"pattern\":{\"shape\":\"\"}},\"name\":\"\",\"offsetgroup\":\"\",\"orientation\":\"h\",\"showlegend\":false,\"textposition\":\"auto\",\"x\":[23.019224201624645,17.37815545729179,12.030344667081668,10.390561598930173,7.428953418726454,7.19566945331713,7.187274728492114,7.136731701729336,2.3046353983365155,1.7458216343323838,1.6580405646840848,1.242414131032217,0.8952550304181051,0.3869180140033941],\"xaxis\":\"x\",\"y\":[\"relationship\",\"capital-gain\",\"age\",\"education-num\",\"capital-loss\",\"hours-per-week\",\"occupation\",\"marital-status\",\"workclass\",\"sex\",\"education\",\"fnlwgt\",\"native-country\",\"race\"],\"yaxis\":\"y\",\"type\":\"bar\"}],                        {\"template\":{\"data\":{\"histogram2dcontour\":[{\"type\":\"histogram2dcontour\",\"colorbar\":{\"outlinewidth\":0,\"ticks\":\"\"},\"colorscale\":[[0.0,\"#0d0887\"],[0.1111111111111111,\"#46039f\"],[0.2222222222222222,\"#7201a8\"],[0.3333333333333333,\"#9c179e\"],[0.4444444444444444,\"#bd3786\"],[0.5555555555555556,\"#d8576b\"],[0.6666666666666666,\"#ed7953\"],[0.7777777777777778,\"#fb9f3a\"],[0.8888888888888888,\"#fdca26\"],[1.0,\"#f0f921\"]]}],\"choropleth\":[{\"type\":\"choropleth\",\"colorbar\":{\"outlinewidth\":0,\"ticks\":\"\"}}],\"histogram2d\":[{\"type\":\"histogram2d\",\"colorbar\":{\"outlinewidth\":0,\"ticks\":\"\"},\"colorscale\":[[0.0,\"#0d0887\"],[0.1111111111111111,\"#46039f\"],[0.2222222222222222,\"#7201a8\"],[0.3333333333333333,\"#9c179e\"],[0.4444444444444444,\"#bd3786\"],[0.5555555555555556,\"#d8576b\"],[0.6666666666666666,\"#ed7953\"],[0.7777777777777778,\"#fb9f3a\"],[0.8888888888888888,\"#fdca26\"],[1.0,\"#f0f921\"]]}],\"heatmap\":[{\"type\":\"heatmap\",\"colorbar\":{\"outlinewidth\":0,\"ticks\":\"\"},\"colorscale\":[[0.0,\"#0d0887\"],[0.1111111111111111,\"#46039f\"],[0.2222222222222222,\"#7201a8\"],[0.3333333333333333,\"#9c179e\"],[0.4444444444444444,\"#bd3786\"],[0.5555555555555556,\"#d8576b\"],[0.6666666666666666,\"#ed7953\"],[0.7777777777777778,\"#fb9f3a\"],[0.8888888888888888,\"#fdca26\"],[1.0,\"#f0f921\"]]}],\"heatmapgl\":[{\"type\":\"heatmapgl\",\"colorbar\":{\"outlinewidth\":0,\"ticks\":\"\"},\"colorscale\":[[0.0,\"#0d0887\"],[0.1111111111111111,\"#46039f\"],[0.2222222222222222,\"#7201a8\"],[0.3333333333333333,\"#9c179e\"],[0.4444444444444444,\"#bd3786\"],[0.5555555555555556,\"#d8576b\"],[0.6666666666666666,\"#ed7953\"],[0.7777777777777778,\"#fb9f3a\"],[0.8888888888888888,\"#fdca26\"],[1.0,\"#f0f921\"]]}],\"contourcarpet\":[{\"type\":\"contourcarpet\",\"colorbar\":{\"outlinewidth\":0,\"ticks\":\"\"}}],\"contour\":[{\"type\":\"contour\",\"colorbar\":{\"outlinewidth\":0,\"ticks\":\"\"},\"colorscale\":[[0.0,\"#0d0887\"],[0.1111111111111111,\"#46039f\"],[0.2222222222222222,\"#7201a8\"],[0.3333333333333333,\"#9c179e\"],[0.4444444444444444,\"#bd3786\"],[0.5555555555555556,\"#d8576b\"],[0.6666666666666666,\"#ed7953\"],[0.7777777777777778,\"#fb9f3a\"],[0.8888888888888888,\"#fdca26\"],[1.0,\"#f0f921\"]]}],\"surface\":[{\"type\":\"surface\",\"colorbar\":{\"outlinewidth\":0,\"ticks\":\"\"},\"colorscale\":[[0.0,\"#0d0887\"],[0.1111111111111111,\"#46039f\"],[0.2222222222222222,\"#7201a8\"],[0.3333333333333333,\"#9c179e\"],[0.4444444444444444,\"#bd3786\"],[0.5555555555555556,\"#d8576b\"],[0.6666666666666666,\"#ed7953\"],[0.7777777777777778,\"#fb9f3a\"],[0.8888888888888888,\"#fdca26\"],[1.0,\"#f0f921\"]]}],\"mesh3d\":[{\"type\":\"mesh3d\",\"colorbar\":{\"outlinewidth\":0,\"ticks\":\"\"}}],\"scatter\":[{\"fillpattern\":{\"fillmode\":\"overlay\",\"size\":10,\"solidity\":0.2},\"type\":\"scatter\"}],\"parcoords\":[{\"type\":\"parcoords\",\"line\":{\"colorbar\":{\"outlinewidth\":0,\"ticks\":\"\"}}}],\"scatterpolargl\":[{\"type\":\"scatterpolargl\",\"marker\":{\"colorbar\":{\"outlinewidth\":0,\"ticks\":\"\"}}}],\"bar\":[{\"error_x\":{\"color\":\"#2a3f5f\"},\"error_y\":{\"color\":\"#2a3f5f\"},\"marker\":{\"line\":{\"color\":\"#E5ECF6\",\"width\":0.5},\"pattern\":{\"fillmode\":\"overlay\",\"size\":10,\"solidity\":0.2}},\"type\":\"bar\"}],\"scattergeo\":[{\"type\":\"scattergeo\",\"marker\":{\"colorbar\":{\"outlinewidth\":0,\"ticks\":\"\"}}}],\"scatterpolar\":[{\"type\":\"scatterpolar\",\"marker\":{\"colorbar\":{\"outlinewidth\":0,\"ticks\":\"\"}}}],\"histogram\":[{\"marker\":{\"pattern\":{\"fillmode\":\"overlay\",\"size\":10,\"solidity\":0.2}},\"type\":\"histogram\"}],\"scattergl\":[{\"type\":\"scattergl\",\"marker\":{\"colorbar\":{\"outlinewidth\":0,\"ticks\":\"\"}}}],\"scatter3d\":[{\"type\":\"scatter3d\",\"line\":{\"colorbar\":{\"outlinewidth\":0,\"ticks\":\"\"}},\"marker\":{\"colorbar\":{\"outlinewidth\":0,\"ticks\":\"\"}}}],\"scattermapbox\":[{\"type\":\"scattermapbox\",\"marker\":{\"colorbar\":{\"outlinewidth\":0,\"ticks\":\"\"}}}],\"scatterternary\":[{\"type\":\"scatterternary\",\"marker\":{\"colorbar\":{\"outlinewidth\":0,\"ticks\":\"\"}}}],\"scattercarpet\":[{\"type\":\"scattercarpet\",\"marker\":{\"colorbar\":{\"outlinewidth\":0,\"ticks\":\"\"}}}],\"carpet\":[{\"aaxis\":{\"endlinecolor\":\"#2a3f5f\",\"gridcolor\":\"white\",\"linecolor\":\"white\",\"minorgridcolor\":\"white\",\"startlinecolor\":\"#2a3f5f\"},\"baxis\":{\"endlinecolor\":\"#2a3f5f\",\"gridcolor\":\"white\",\"linecolor\":\"white\",\"minorgridcolor\":\"white\",\"startlinecolor\":\"#2a3f5f\"},\"type\":\"carpet\"}],\"table\":[{\"cells\":{\"fill\":{\"color\":\"#EBF0F8\"},\"line\":{\"color\":\"white\"}},\"header\":{\"fill\":{\"color\":\"#C8D4E3\"},\"line\":{\"color\":\"white\"}},\"type\":\"table\"}],\"barpolar\":[{\"marker\":{\"line\":{\"color\":\"#E5ECF6\",\"width\":0.5},\"pattern\":{\"fillmode\":\"overlay\",\"size\":10,\"solidity\":0.2}},\"type\":\"barpolar\"}],\"pie\":[{\"automargin\":true,\"type\":\"pie\"}]},\"layout\":{\"autotypenumbers\":\"strict\",\"colorway\":[\"#636efa\",\"#EF553B\",\"#00cc96\",\"#ab63fa\",\"#FFA15A\",\"#19d3f3\",\"#FF6692\",\"#B6E880\",\"#FF97FF\",\"#FECB52\"],\"font\":{\"color\":\"#2a3f5f\"},\"hovermode\":\"closest\",\"hoverlabel\":{\"align\":\"left\"},\"paper_bgcolor\":\"white\",\"plot_bgcolor\":\"#E5ECF6\",\"polar\":{\"bgcolor\":\"#E5ECF6\",\"angularaxis\":{\"gridcolor\":\"white\",\"linecolor\":\"white\",\"ticks\":\"\"},\"radialaxis\":{\"gridcolor\":\"white\",\"linecolor\":\"white\",\"ticks\":\"\"}},\"ternary\":{\"bgcolor\":\"#E5ECF6\",\"aaxis\":{\"gridcolor\":\"white\",\"linecolor\":\"white\",\"ticks\":\"\"},\"baxis\":{\"gridcolor\":\"white\",\"linecolor\":\"white\",\"ticks\":\"\"},\"caxis\":{\"gridcolor\":\"white\",\"linecolor\":\"white\",\"ticks\":\"\"}},\"coloraxis\":{\"colorbar\":{\"outlinewidth\":0,\"ticks\":\"\"}},\"colorscale\":{\"sequential\":[[0.0,\"#0d0887\"],[0.1111111111111111,\"#46039f\"],[0.2222222222222222,\"#7201a8\"],[0.3333333333333333,\"#9c179e\"],[0.4444444444444444,\"#bd3786\"],[0.5555555555555556,\"#d8576b\"],[0.6666666666666666,\"#ed7953\"],[0.7777777777777778,\"#fb9f3a\"],[0.8888888888888888,\"#fdca26\"],[1.0,\"#f0f921\"]],\"sequentialminus\":[[0.0,\"#0d0887\"],[0.1111111111111111,\"#46039f\"],[0.2222222222222222,\"#7201a8\"],[0.3333333333333333,\"#9c179e\"],[0.4444444444444444,\"#bd3786\"],[0.5555555555555556,\"#d8576b\"],[0.6666666666666666,\"#ed7953\"],[0.7777777777777778,\"#fb9f3a\"],[0.8888888888888888,\"#fdca26\"],[1.0,\"#f0f921\"]],\"diverging\":[[0,\"#8e0152\"],[0.1,\"#c51b7d\"],[0.2,\"#de77ae\"],[0.3,\"#f1b6da\"],[0.4,\"#fde0ef\"],[0.5,\"#f7f7f7\"],[0.6,\"#e6f5d0\"],[0.7,\"#b8e186\"],[0.8,\"#7fbc41\"],[0.9,\"#4d9221\"],[1,\"#276419\"]]},\"xaxis\":{\"gridcolor\":\"white\",\"linecolor\":\"white\",\"ticks\":\"\",\"title\":{\"standoff\":15},\"zerolinecolor\":\"white\",\"automargin\":true,\"zerolinewidth\":2},\"yaxis\":{\"gridcolor\":\"white\",\"linecolor\":\"white\",\"ticks\":\"\",\"title\":{\"standoff\":15},\"zerolinecolor\":\"white\",\"automargin\":true,\"zerolinewidth\":2},\"scene\":{\"xaxis\":{\"backgroundcolor\":\"#E5ECF6\",\"gridcolor\":\"white\",\"linecolor\":\"white\",\"showbackground\":true,\"ticks\":\"\",\"zerolinecolor\":\"white\",\"gridwidth\":2},\"yaxis\":{\"backgroundcolor\":\"#E5ECF6\",\"gridcolor\":\"white\",\"linecolor\":\"white\",\"showbackground\":true,\"ticks\":\"\",\"zerolinecolor\":\"white\",\"gridwidth\":2},\"zaxis\":{\"backgroundcolor\":\"#E5ECF6\",\"gridcolor\":\"white\",\"linecolor\":\"white\",\"showbackground\":true,\"ticks\":\"\",\"zerolinecolor\":\"white\",\"gridwidth\":2}},\"shapedefaults\":{\"line\":{\"color\":\"#2a3f5f\"}},\"annotationdefaults\":{\"arrowcolor\":\"#2a3f5f\",\"arrowhead\":0,\"arrowwidth\":1},\"geo\":{\"bgcolor\":\"white\",\"landcolor\":\"#E5ECF6\",\"subunitcolor\":\"white\",\"showland\":true,\"showlakes\":true,\"lakecolor\":\"white\"},\"title\":{\"x\":0.05},\"mapbox\":{\"style\":\"light\"}}},\"xaxis\":{\"anchor\":\"y\",\"domain\":[0.0,1.0],\"title\":{\"text\":\"x\"}},\"yaxis\":{\"anchor\":\"x\",\"domain\":[0.0,1.0],\"title\":{\"text\":\"y\"}},\"legend\":{\"tracegroupgap\":0},\"margin\":{\"t\":60},\"barmode\":\"relative\"},                        {\"responsive\": true}                    ).then(function(){\n",
       "                            \n",
       "var gd = document.getElementById('02be2982-f821-4b76-8a1d-969434248a53');\n",
       "var x = new MutationObserver(function (mutations, observer) {{\n",
       "        var display = window.getComputedStyle(gd).display;\n",
       "        if (!display || display === 'none') {{\n",
       "            console.log([gd, 'removed!']);\n",
       "            Plotly.purge(gd);\n",
       "            observer.disconnect();\n",
       "        }}\n",
       "}});\n",
       "\n",
       "// Listen for the removal of the full notebook cells\n",
       "var notebookContainer = gd.closest('#notebook-container');\n",
       "if (notebookContainer) {{\n",
       "    x.observe(notebookContainer, {childList: true});\n",
       "}}\n",
       "\n",
       "// Listen for the clearing of the current output cell\n",
       "var outputEl = gd.closest('.output');\n",
       "if (outputEl) {{\n",
       "    x.observe(outputEl, {childList: true});\n",
       "}}\n",
       "\n",
       "                        })                };                });            </script>        </div>"
      ]
     },
     "metadata": {},
     "output_type": "display_data"
    }
   ],
   "source": [
    "px.bar(x = featureImportance['Importances'], y = featureImportance['Feature Id'])"
   ]
  },
  {
   "cell_type": "code",
   "execution_count": 35,
   "id": "6c97c0b4",
   "metadata": {
    "hidden": true
   },
   "outputs": [
    {
     "data": {
      "text/html": [
       "<div>\n",
       "<style scoped>\n",
       "    .dataframe tbody tr th:only-of-type {\n",
       "        vertical-align: middle;\n",
       "    }\n",
       "\n",
       "    .dataframe tbody tr th {\n",
       "        vertical-align: top;\n",
       "    }\n",
       "\n",
       "    .dataframe thead th {\n",
       "        text-align: right;\n",
       "    }\n",
       "</style>\n",
       "<table border=\"1\" class=\"dataframe\">\n",
       "  <thead>\n",
       "    <tr style=\"text-align: right;\">\n",
       "      <th></th>\n",
       "      <th>0</th>\n",
       "      <th>1</th>\n",
       "      <th>2</th>\n",
       "      <th>3</th>\n",
       "      <th>4</th>\n",
       "      <th>5</th>\n",
       "      <th>6</th>\n",
       "      <th>7</th>\n",
       "      <th>8</th>\n",
       "      <th>9</th>\n",
       "      <th>10</th>\n",
       "      <th>11</th>\n",
       "      <th>12</th>\n",
       "      <th>13</th>\n",
       "      <th>14</th>\n",
       "    </tr>\n",
       "  </thead>\n",
       "  <tbody>\n",
       "    <tr>\n",
       "      <th>0</th>\n",
       "      <td>0.633671</td>\n",
       "      <td>0.056288</td>\n",
       "      <td>-0.344578</td>\n",
       "      <td>-0.273096</td>\n",
       "      <td>1.217016</td>\n",
       "      <td>0.912149</td>\n",
       "      <td>0.497955</td>\n",
       "      <td>1.503201</td>\n",
       "      <td>0.027727</td>\n",
       "      <td>-0.111298</td>\n",
       "      <td>-0.236244</td>\n",
       "      <td>-0.058681</td>\n",
       "      <td>-0.707070</td>\n",
       "      <td>0.028860</td>\n",
       "      <td>-2.456254</td>\n",
       "    </tr>\n",
       "    <tr>\n",
       "      <th>1</th>\n",
       "      <td>-1.503422</td>\n",
       "      <td>-0.024647</td>\n",
       "      <td>-0.406779</td>\n",
       "      <td>0.077778</td>\n",
       "      <td>-0.399893</td>\n",
       "      <td>-0.072412</td>\n",
       "      <td>0.035387</td>\n",
       "      <td>-1.249724</td>\n",
       "      <td>0.035029</td>\n",
       "      <td>0.214685</td>\n",
       "      <td>-0.143022</td>\n",
       "      <td>-0.046239</td>\n",
       "      <td>0.892332</td>\n",
       "      <td>-0.004330</td>\n",
       "      <td>-2.456254</td>\n",
       "    </tr>\n",
       "    <tr>\n",
       "      <th>2</th>\n",
       "      <td>-0.825149</td>\n",
       "      <td>-0.035353</td>\n",
       "      <td>0.100862</td>\n",
       "      <td>0.129772</td>\n",
       "      <td>-0.103034</td>\n",
       "      <td>-0.288427</td>\n",
       "      <td>-0.152388</td>\n",
       "      <td>-1.164221</td>\n",
       "      <td>0.035029</td>\n",
       "      <td>-0.216072</td>\n",
       "      <td>-0.143022</td>\n",
       "      <td>-0.036691</td>\n",
       "      <td>-0.275227</td>\n",
       "      <td>0.028345</td>\n",
       "      <td>-2.456254</td>\n",
       "    </tr>\n",
       "    <tr>\n",
       "      <th>3</th>\n",
       "      <td>1.007776</td>\n",
       "      <td>0.015214</td>\n",
       "      <td>-0.052576</td>\n",
       "      <td>0.058207</td>\n",
       "      <td>-0.132994</td>\n",
       "      <td>-0.361790</td>\n",
       "      <td>-0.705742</td>\n",
       "      <td>-1.257321</td>\n",
       "      <td>-0.300930</td>\n",
       "      <td>0.306088</td>\n",
       "      <td>-0.140954</td>\n",
       "      <td>-0.044048</td>\n",
       "      <td>-0.113338</td>\n",
       "      <td>0.029181</td>\n",
       "      <td>-2.456254</td>\n",
       "    </tr>\n",
       "    <tr>\n",
       "      <th>4</th>\n",
       "      <td>0.699763</td>\n",
       "      <td>0.031791</td>\n",
       "      <td>0.111761</td>\n",
       "      <td>0.030611</td>\n",
       "      <td>-0.054109</td>\n",
       "      <td>0.394355</td>\n",
       "      <td>0.869059</td>\n",
       "      <td>-1.183948</td>\n",
       "      <td>0.035029</td>\n",
       "      <td>-0.319476</td>\n",
       "      <td>-0.170729</td>\n",
       "      <td>-0.056301</td>\n",
       "      <td>0.995087</td>\n",
       "      <td>0.029181</td>\n",
       "      <td>-2.456254</td>\n",
       "    </tr>\n",
       "    <tr>\n",
       "      <th>...</th>\n",
       "      <td>...</td>\n",
       "      <td>...</td>\n",
       "      <td>...</td>\n",
       "      <td>...</td>\n",
       "      <td>...</td>\n",
       "      <td>...</td>\n",
       "      <td>...</td>\n",
       "      <td>...</td>\n",
       "      <td>...</td>\n",
       "      <td>...</td>\n",
       "      <td>...</td>\n",
       "      <td>...</td>\n",
       "      <td>...</td>\n",
       "      <td>...</td>\n",
       "      <td>...</td>\n",
       "    </tr>\n",
       "    <tr>\n",
       "      <th>39068</th>\n",
       "      <td>0.714437</td>\n",
       "      <td>-0.263286</td>\n",
       "      <td>-0.003645</td>\n",
       "      <td>0.076798</td>\n",
       "      <td>-1.196704</td>\n",
       "      <td>0.584031</td>\n",
       "      <td>-0.496908</td>\n",
       "      <td>0.553416</td>\n",
       "      <td>0.027727</td>\n",
       "      <td>0.114244</td>\n",
       "      <td>-0.215800</td>\n",
       "      <td>-0.059976</td>\n",
       "      <td>0.601880</td>\n",
       "      <td>0.021747</td>\n",
       "      <td>-2.456254</td>\n",
       "    </tr>\n",
       "    <tr>\n",
       "      <th>39069</th>\n",
       "      <td>0.282441</td>\n",
       "      <td>0.052831</td>\n",
       "      <td>-0.035313</td>\n",
       "      <td>0.138663</td>\n",
       "      <td>-1.685094</td>\n",
       "      <td>0.882825</td>\n",
       "      <td>-0.383419</td>\n",
       "      <td>0.729867</td>\n",
       "      <td>0.028532</td>\n",
       "      <td>-0.240120</td>\n",
       "      <td>-0.988117</td>\n",
       "      <td>-0.061088</td>\n",
       "      <td>0.518847</td>\n",
       "      <td>-0.478755</td>\n",
       "      <td>-2.456254</td>\n",
       "    </tr>\n",
       "    <tr>\n",
       "      <th>39070</th>\n",
       "      <td>0.497489</td>\n",
       "      <td>-0.031910</td>\n",
       "      <td>-0.093661</td>\n",
       "      <td>0.049665</td>\n",
       "      <td>-1.608203</td>\n",
       "      <td>0.876220</td>\n",
       "      <td>-0.477331</td>\n",
       "      <td>0.631132</td>\n",
       "      <td>-0.214238</td>\n",
       "      <td>0.081900</td>\n",
       "      <td>-0.228925</td>\n",
       "      <td>-0.047611</td>\n",
       "      <td>0.036066</td>\n",
       "      <td>-0.770181</td>\n",
       "      <td>-2.456254</td>\n",
       "    </tr>\n",
       "    <tr>\n",
       "      <th>39071</th>\n",
       "      <td>0.788257</td>\n",
       "      <td>-0.289470</td>\n",
       "      <td>0.056317</td>\n",
       "      <td>0.083682</td>\n",
       "      <td>-0.428034</td>\n",
       "      <td>0.743747</td>\n",
       "      <td>-0.927124</td>\n",
       "      <td>0.750002</td>\n",
       "      <td>0.028532</td>\n",
       "      <td>0.114244</td>\n",
       "      <td>-0.215800</td>\n",
       "      <td>-0.047179</td>\n",
       "      <td>0.010386</td>\n",
       "      <td>0.022026</td>\n",
       "      <td>-2.456254</td>\n",
       "    </tr>\n",
       "    <tr>\n",
       "      <th>39072</th>\n",
       "      <td>-0.770960</td>\n",
       "      <td>-0.026977</td>\n",
       "      <td>0.207338</td>\n",
       "      <td>0.066120</td>\n",
       "      <td>-0.949997</td>\n",
       "      <td>1.410851</td>\n",
       "      <td>0.313285</td>\n",
       "      <td>-0.703060</td>\n",
       "      <td>-0.229387</td>\n",
       "      <td>0.214685</td>\n",
       "      <td>-0.149065</td>\n",
       "      <td>-0.033079</td>\n",
       "      <td>-0.212040</td>\n",
       "      <td>0.028345</td>\n",
       "      <td>-2.456254</td>\n",
       "    </tr>\n",
       "  </tbody>\n",
       "</table>\n",
       "<p>39073 rows × 15 columns</p>\n",
       "</div>"
      ],
      "text/plain": [
       "             0         1         2         3         4         5         6   \\\n",
       "0      0.633671  0.056288 -0.344578 -0.273096  1.217016  0.912149  0.497955   \n",
       "1     -1.503422 -0.024647 -0.406779  0.077778 -0.399893 -0.072412  0.035387   \n",
       "2     -0.825149 -0.035353  0.100862  0.129772 -0.103034 -0.288427 -0.152388   \n",
       "3      1.007776  0.015214 -0.052576  0.058207 -0.132994 -0.361790 -0.705742   \n",
       "4      0.699763  0.031791  0.111761  0.030611 -0.054109  0.394355  0.869059   \n",
       "...         ...       ...       ...       ...       ...       ...       ...   \n",
       "39068  0.714437 -0.263286 -0.003645  0.076798 -1.196704  0.584031 -0.496908   \n",
       "39069  0.282441  0.052831 -0.035313  0.138663 -1.685094  0.882825 -0.383419   \n",
       "39070  0.497489 -0.031910 -0.093661  0.049665 -1.608203  0.876220 -0.477331   \n",
       "39071  0.788257 -0.289470  0.056317  0.083682 -0.428034  0.743747 -0.927124   \n",
       "39072 -0.770960 -0.026977  0.207338  0.066120 -0.949997  1.410851  0.313285   \n",
       "\n",
       "             7         8         9         10        11        12        13  \\\n",
       "0      1.503201  0.027727 -0.111298 -0.236244 -0.058681 -0.707070  0.028860   \n",
       "1     -1.249724  0.035029  0.214685 -0.143022 -0.046239  0.892332 -0.004330   \n",
       "2     -1.164221  0.035029 -0.216072 -0.143022 -0.036691 -0.275227  0.028345   \n",
       "3     -1.257321 -0.300930  0.306088 -0.140954 -0.044048 -0.113338  0.029181   \n",
       "4     -1.183948  0.035029 -0.319476 -0.170729 -0.056301  0.995087  0.029181   \n",
       "...         ...       ...       ...       ...       ...       ...       ...   \n",
       "39068  0.553416  0.027727  0.114244 -0.215800 -0.059976  0.601880  0.021747   \n",
       "39069  0.729867  0.028532 -0.240120 -0.988117 -0.061088  0.518847 -0.478755   \n",
       "39070  0.631132 -0.214238  0.081900 -0.228925 -0.047611  0.036066 -0.770181   \n",
       "39071  0.750002  0.028532  0.114244 -0.215800 -0.047179  0.010386  0.022026   \n",
       "39072 -0.703060 -0.229387  0.214685 -0.149065 -0.033079 -0.212040  0.028345   \n",
       "\n",
       "             14  \n",
       "0     -2.456254  \n",
       "1     -2.456254  \n",
       "2     -2.456254  \n",
       "3     -2.456254  \n",
       "4     -2.456254  \n",
       "...         ...  \n",
       "39068 -2.456254  \n",
       "39069 -2.456254  \n",
       "39070 -2.456254  \n",
       "39071 -2.456254  \n",
       "39072 -2.456254  \n",
       "\n",
       "[39073 rows x 15 columns]"
      ]
     },
     "execution_count": 35,
     "metadata": {},
     "output_type": "execute_result"
    }
   ],
   "source": [
    "shap = bst.get_feature_importance(pool_train, type = 'ShapValues', prettified=True)\n",
    "shap"
   ]
  },
  {
   "cell_type": "code",
   "execution_count": 36,
   "id": "28ee9441",
   "metadata": {
    "hidden": true
   },
   "outputs": [
    {
     "data": {
      "text/html": [
       "<div>\n",
       "<style scoped>\n",
       "    .dataframe tbody tr th:only-of-type {\n",
       "        vertical-align: middle;\n",
       "    }\n",
       "\n",
       "    .dataframe tbody tr th {\n",
       "        vertical-align: top;\n",
       "    }\n",
       "\n",
       "    .dataframe thead th {\n",
       "        text-align: right;\n",
       "    }\n",
       "</style>\n",
       "<table border=\"1\" class=\"dataframe\">\n",
       "  <thead>\n",
       "    <tr style=\"text-align: right;\">\n",
       "      <th></th>\n",
       "      <th>First Feature Index</th>\n",
       "      <th>Second Feature Index</th>\n",
       "      <th>Interaction</th>\n",
       "    </tr>\n",
       "  </thead>\n",
       "  <tbody>\n",
       "    <tr>\n",
       "      <th>0</th>\n",
       "      <td>0</td>\n",
       "      <td>11</td>\n",
       "      <td>5.972428</td>\n",
       "    </tr>\n",
       "    <tr>\n",
       "      <th>1</th>\n",
       "      <td>7</td>\n",
       "      <td>11</td>\n",
       "      <td>4.189715</td>\n",
       "    </tr>\n",
       "    <tr>\n",
       "      <th>2</th>\n",
       "      <td>5</td>\n",
       "      <td>7</td>\n",
       "      <td>3.582008</td>\n",
       "    </tr>\n",
       "    <tr>\n",
       "      <th>3</th>\n",
       "      <td>0</td>\n",
       "      <td>10</td>\n",
       "      <td>2.984106</td>\n",
       "    </tr>\n",
       "    <tr>\n",
       "      <th>4</th>\n",
       "      <td>1</td>\n",
       "      <td>6</td>\n",
       "      <td>2.928696</td>\n",
       "    </tr>\n",
       "  </tbody>\n",
       "</table>\n",
       "</div>"
      ],
      "text/plain": [
       "   First Feature Index  Second Feature Index  Interaction\n",
       "0                    0                    11     5.972428\n",
       "1                    7                    11     4.189715\n",
       "2                    5                     7     3.582008\n",
       "3                    0                    10     2.984106\n",
       "4                    1                     6     2.928696"
      ]
     },
     "execution_count": 36,
     "metadata": {},
     "output_type": "execute_result"
    }
   ],
   "source": [
    "interaction = bst.get_feature_importance(pool_train, type = 'Interaction', prettified=True)\n",
    "interaction.head()"
   ]
  },
  {
   "cell_type": "code",
   "execution_count": 37,
   "id": "f11de873",
   "metadata": {
    "hidden": true
   },
   "outputs": [
    {
     "data": {
      "application/vnd.plotly.v1+json": {
       "config": {
        "plotlyServerURL": "https://plot.ly"
       },
       "data": [
        {
         "hovertemplate": "x=%{x}<br>y=%{y}<br>size=%{marker.size}<extra></extra>",
         "legendgroup": "",
         "marker": {
          "color": "#636efa",
          "size": [
           5.972427975462937,
           4.189715045703739,
           3.5820076975919934,
           2.984106373409039,
           2.9286955933794343,
           2.9130744067914236,
           2.838435042136,
           2.781202548555949,
           2.4585734049636723,
           2.444757703501689,
           2.407137433486746,
           2.4002177285155764,
           2.3755184621450773,
           2.3603081980324725,
           2.3551879502724278,
           2.206260986691639,
           2.1873676494540457,
           2.135702972844542,
           2.0067547597462565,
           1.9399023286212373,
           1.835304516756096,
           1.7075725566688356,
           1.6566748692034032,
           1.6288748143669367,
           1.6217814129986643,
           1.5153682731978027,
           1.4048918307233922,
           1.389562028384506,
           1.3750045608260102,
           1.332788791837644,
           1.332225233564545,
           1.246577664217195,
           1.0563183731931538,
           1.05046381611355,
           1.0310385020324366,
           1.0159840893472036,
           0.9583427400463674,
           0.8971660111396853,
           0.8597862800480381,
           0.8587929771864786,
           0.8533525903258673,
           0.8495907712991869,
           0.8090096194407672,
           0.7637404359892044,
           0.7069612091763349,
           0.6668853826699647,
           0.6595994467606545,
           0.6578756920600557,
           0.6395213994937791,
           0.5682247888276372,
           0.5601063078039474,
           0.541880245997544,
           0.5415681313192996,
           0.5288519063613747,
           0.5148020122105554,
           0.48640460228233817,
           0.48606393772498474,
           0.427420620552497,
           0.37968817407717803,
           0.3669268014734131,
           0.35773196032204585,
           0.341509837571397,
           0.28476041021199017,
           0.2592483104015883,
           0.15232870415994726,
           0.09365871496459317,
           0.07204266253050984
          ],
          "sizemode": "area",
          "sizeref": 0.014931069938657343,
          "symbol": "circle"
         },
         "mode": "markers",
         "name": "",
         "orientation": "v",
         "showlegend": false,
         "type": "scatter",
         "x": [
          0,
          7,
          5,
          0,
          1,
          4,
          5,
          0,
          10,
          6,
          0,
          7,
          5,
          0,
          3,
          2,
          0,
          0,
          2,
          11,
          8,
          0,
          8,
          3,
          3,
          5,
          6,
          5,
          3,
          7,
          2,
          12,
          1,
          2,
          3,
          1,
          6,
          4,
          2,
          2,
          1,
          4,
          7,
          1,
          0,
          2,
          3,
          0,
          4,
          4,
          7,
          1,
          3,
          1,
          8,
          11,
          0,
          4,
          5,
          6,
          2,
          3,
          3,
          10,
          2,
          6,
          1
         ],
         "xaxis": "x",
         "y": [
          11,
          11,
          7,
          10,
          6,
          5,
          10,
          12,
          11,
          12,
          3,
          12,
          12,
          2,
          5,
          11,
          6,
          13,
          3,
          12,
          10,
          1,
          11,
          11,
          6,
          11,
          11,
          8,
          4,
          10,
          4,
          13,
          13,
          5,
          10,
          12,
          7,
          7,
          7,
          12,
          3,
          10,
          8,
          7,
          7,
          8,
          8,
          5,
          6,
          8,
          13,
          2,
          13,
          11,
          13,
          13,
          4,
          12,
          6,
          8,
          13,
          7,
          12,
          12,
          6,
          10,
          4
         ],
         "yaxis": "y"
        }
       ],
       "layout": {
        "legend": {
         "itemsizing": "constant",
         "tracegroupgap": 0
        },
        "margin": {
         "t": 60
        },
        "template": {
         "data": {
          "bar": [
           {
            "error_x": {
             "color": "#2a3f5f"
            },
            "error_y": {
             "color": "#2a3f5f"
            },
            "marker": {
             "line": {
              "color": "#E5ECF6",
              "width": 0.5
             },
             "pattern": {
              "fillmode": "overlay",
              "size": 10,
              "solidity": 0.2
             }
            },
            "type": "bar"
           }
          ],
          "barpolar": [
           {
            "marker": {
             "line": {
              "color": "#E5ECF6",
              "width": 0.5
             },
             "pattern": {
              "fillmode": "overlay",
              "size": 10,
              "solidity": 0.2
             }
            },
            "type": "barpolar"
           }
          ],
          "carpet": [
           {
            "aaxis": {
             "endlinecolor": "#2a3f5f",
             "gridcolor": "white",
             "linecolor": "white",
             "minorgridcolor": "white",
             "startlinecolor": "#2a3f5f"
            },
            "baxis": {
             "endlinecolor": "#2a3f5f",
             "gridcolor": "white",
             "linecolor": "white",
             "minorgridcolor": "white",
             "startlinecolor": "#2a3f5f"
            },
            "type": "carpet"
           }
          ],
          "choropleth": [
           {
            "colorbar": {
             "outlinewidth": 0,
             "ticks": ""
            },
            "type": "choropleth"
           }
          ],
          "contour": [
           {
            "colorbar": {
             "outlinewidth": 0,
             "ticks": ""
            },
            "colorscale": [
             [
              0,
              "#0d0887"
             ],
             [
              0.1111111111111111,
              "#46039f"
             ],
             [
              0.2222222222222222,
              "#7201a8"
             ],
             [
              0.3333333333333333,
              "#9c179e"
             ],
             [
              0.4444444444444444,
              "#bd3786"
             ],
             [
              0.5555555555555556,
              "#d8576b"
             ],
             [
              0.6666666666666666,
              "#ed7953"
             ],
             [
              0.7777777777777778,
              "#fb9f3a"
             ],
             [
              0.8888888888888888,
              "#fdca26"
             ],
             [
              1,
              "#f0f921"
             ]
            ],
            "type": "contour"
           }
          ],
          "contourcarpet": [
           {
            "colorbar": {
             "outlinewidth": 0,
             "ticks": ""
            },
            "type": "contourcarpet"
           }
          ],
          "heatmap": [
           {
            "colorbar": {
             "outlinewidth": 0,
             "ticks": ""
            },
            "colorscale": [
             [
              0,
              "#0d0887"
             ],
             [
              0.1111111111111111,
              "#46039f"
             ],
             [
              0.2222222222222222,
              "#7201a8"
             ],
             [
              0.3333333333333333,
              "#9c179e"
             ],
             [
              0.4444444444444444,
              "#bd3786"
             ],
             [
              0.5555555555555556,
              "#d8576b"
             ],
             [
              0.6666666666666666,
              "#ed7953"
             ],
             [
              0.7777777777777778,
              "#fb9f3a"
             ],
             [
              0.8888888888888888,
              "#fdca26"
             ],
             [
              1,
              "#f0f921"
             ]
            ],
            "type": "heatmap"
           }
          ],
          "heatmapgl": [
           {
            "colorbar": {
             "outlinewidth": 0,
             "ticks": ""
            },
            "colorscale": [
             [
              0,
              "#0d0887"
             ],
             [
              0.1111111111111111,
              "#46039f"
             ],
             [
              0.2222222222222222,
              "#7201a8"
             ],
             [
              0.3333333333333333,
              "#9c179e"
             ],
             [
              0.4444444444444444,
              "#bd3786"
             ],
             [
              0.5555555555555556,
              "#d8576b"
             ],
             [
              0.6666666666666666,
              "#ed7953"
             ],
             [
              0.7777777777777778,
              "#fb9f3a"
             ],
             [
              0.8888888888888888,
              "#fdca26"
             ],
             [
              1,
              "#f0f921"
             ]
            ],
            "type": "heatmapgl"
           }
          ],
          "histogram": [
           {
            "marker": {
             "pattern": {
              "fillmode": "overlay",
              "size": 10,
              "solidity": 0.2
             }
            },
            "type": "histogram"
           }
          ],
          "histogram2d": [
           {
            "colorbar": {
             "outlinewidth": 0,
             "ticks": ""
            },
            "colorscale": [
             [
              0,
              "#0d0887"
             ],
             [
              0.1111111111111111,
              "#46039f"
             ],
             [
              0.2222222222222222,
              "#7201a8"
             ],
             [
              0.3333333333333333,
              "#9c179e"
             ],
             [
              0.4444444444444444,
              "#bd3786"
             ],
             [
              0.5555555555555556,
              "#d8576b"
             ],
             [
              0.6666666666666666,
              "#ed7953"
             ],
             [
              0.7777777777777778,
              "#fb9f3a"
             ],
             [
              0.8888888888888888,
              "#fdca26"
             ],
             [
              1,
              "#f0f921"
             ]
            ],
            "type": "histogram2d"
           }
          ],
          "histogram2dcontour": [
           {
            "colorbar": {
             "outlinewidth": 0,
             "ticks": ""
            },
            "colorscale": [
             [
              0,
              "#0d0887"
             ],
             [
              0.1111111111111111,
              "#46039f"
             ],
             [
              0.2222222222222222,
              "#7201a8"
             ],
             [
              0.3333333333333333,
              "#9c179e"
             ],
             [
              0.4444444444444444,
              "#bd3786"
             ],
             [
              0.5555555555555556,
              "#d8576b"
             ],
             [
              0.6666666666666666,
              "#ed7953"
             ],
             [
              0.7777777777777778,
              "#fb9f3a"
             ],
             [
              0.8888888888888888,
              "#fdca26"
             ],
             [
              1,
              "#f0f921"
             ]
            ],
            "type": "histogram2dcontour"
           }
          ],
          "mesh3d": [
           {
            "colorbar": {
             "outlinewidth": 0,
             "ticks": ""
            },
            "type": "mesh3d"
           }
          ],
          "parcoords": [
           {
            "line": {
             "colorbar": {
              "outlinewidth": 0,
              "ticks": ""
             }
            },
            "type": "parcoords"
           }
          ],
          "pie": [
           {
            "automargin": true,
            "type": "pie"
           }
          ],
          "scatter": [
           {
            "fillpattern": {
             "fillmode": "overlay",
             "size": 10,
             "solidity": 0.2
            },
            "type": "scatter"
           }
          ],
          "scatter3d": [
           {
            "line": {
             "colorbar": {
              "outlinewidth": 0,
              "ticks": ""
             }
            },
            "marker": {
             "colorbar": {
              "outlinewidth": 0,
              "ticks": ""
             }
            },
            "type": "scatter3d"
           }
          ],
          "scattercarpet": [
           {
            "marker": {
             "colorbar": {
              "outlinewidth": 0,
              "ticks": ""
             }
            },
            "type": "scattercarpet"
           }
          ],
          "scattergeo": [
           {
            "marker": {
             "colorbar": {
              "outlinewidth": 0,
              "ticks": ""
             }
            },
            "type": "scattergeo"
           }
          ],
          "scattergl": [
           {
            "marker": {
             "colorbar": {
              "outlinewidth": 0,
              "ticks": ""
             }
            },
            "type": "scattergl"
           }
          ],
          "scattermapbox": [
           {
            "marker": {
             "colorbar": {
              "outlinewidth": 0,
              "ticks": ""
             }
            },
            "type": "scattermapbox"
           }
          ],
          "scatterpolar": [
           {
            "marker": {
             "colorbar": {
              "outlinewidth": 0,
              "ticks": ""
             }
            },
            "type": "scatterpolar"
           }
          ],
          "scatterpolargl": [
           {
            "marker": {
             "colorbar": {
              "outlinewidth": 0,
              "ticks": ""
             }
            },
            "type": "scatterpolargl"
           }
          ],
          "scatterternary": [
           {
            "marker": {
             "colorbar": {
              "outlinewidth": 0,
              "ticks": ""
             }
            },
            "type": "scatterternary"
           }
          ],
          "surface": [
           {
            "colorbar": {
             "outlinewidth": 0,
             "ticks": ""
            },
            "colorscale": [
             [
              0,
              "#0d0887"
             ],
             [
              0.1111111111111111,
              "#46039f"
             ],
             [
              0.2222222222222222,
              "#7201a8"
             ],
             [
              0.3333333333333333,
              "#9c179e"
             ],
             [
              0.4444444444444444,
              "#bd3786"
             ],
             [
              0.5555555555555556,
              "#d8576b"
             ],
             [
              0.6666666666666666,
              "#ed7953"
             ],
             [
              0.7777777777777778,
              "#fb9f3a"
             ],
             [
              0.8888888888888888,
              "#fdca26"
             ],
             [
              1,
              "#f0f921"
             ]
            ],
            "type": "surface"
           }
          ],
          "table": [
           {
            "cells": {
             "fill": {
              "color": "#EBF0F8"
             },
             "line": {
              "color": "white"
             }
            },
            "header": {
             "fill": {
              "color": "#C8D4E3"
             },
             "line": {
              "color": "white"
             }
            },
            "type": "table"
           }
          ]
         },
         "layout": {
          "annotationdefaults": {
           "arrowcolor": "#2a3f5f",
           "arrowhead": 0,
           "arrowwidth": 1
          },
          "autotypenumbers": "strict",
          "coloraxis": {
           "colorbar": {
            "outlinewidth": 0,
            "ticks": ""
           }
          },
          "colorscale": {
           "diverging": [
            [
             0,
             "#8e0152"
            ],
            [
             0.1,
             "#c51b7d"
            ],
            [
             0.2,
             "#de77ae"
            ],
            [
             0.3,
             "#f1b6da"
            ],
            [
             0.4,
             "#fde0ef"
            ],
            [
             0.5,
             "#f7f7f7"
            ],
            [
             0.6,
             "#e6f5d0"
            ],
            [
             0.7,
             "#b8e186"
            ],
            [
             0.8,
             "#7fbc41"
            ],
            [
             0.9,
             "#4d9221"
            ],
            [
             1,
             "#276419"
            ]
           ],
           "sequential": [
            [
             0,
             "#0d0887"
            ],
            [
             0.1111111111111111,
             "#46039f"
            ],
            [
             0.2222222222222222,
             "#7201a8"
            ],
            [
             0.3333333333333333,
             "#9c179e"
            ],
            [
             0.4444444444444444,
             "#bd3786"
            ],
            [
             0.5555555555555556,
             "#d8576b"
            ],
            [
             0.6666666666666666,
             "#ed7953"
            ],
            [
             0.7777777777777778,
             "#fb9f3a"
            ],
            [
             0.8888888888888888,
             "#fdca26"
            ],
            [
             1,
             "#f0f921"
            ]
           ],
           "sequentialminus": [
            [
             0,
             "#0d0887"
            ],
            [
             0.1111111111111111,
             "#46039f"
            ],
            [
             0.2222222222222222,
             "#7201a8"
            ],
            [
             0.3333333333333333,
             "#9c179e"
            ],
            [
             0.4444444444444444,
             "#bd3786"
            ],
            [
             0.5555555555555556,
             "#d8576b"
            ],
            [
             0.6666666666666666,
             "#ed7953"
            ],
            [
             0.7777777777777778,
             "#fb9f3a"
            ],
            [
             0.8888888888888888,
             "#fdca26"
            ],
            [
             1,
             "#f0f921"
            ]
           ]
          },
          "colorway": [
           "#636efa",
           "#EF553B",
           "#00cc96",
           "#ab63fa",
           "#FFA15A",
           "#19d3f3",
           "#FF6692",
           "#B6E880",
           "#FF97FF",
           "#FECB52"
          ],
          "font": {
           "color": "#2a3f5f"
          },
          "geo": {
           "bgcolor": "white",
           "lakecolor": "white",
           "landcolor": "#E5ECF6",
           "showlakes": true,
           "showland": true,
           "subunitcolor": "white"
          },
          "hoverlabel": {
           "align": "left"
          },
          "hovermode": "closest",
          "mapbox": {
           "style": "light"
          },
          "paper_bgcolor": "white",
          "plot_bgcolor": "#E5ECF6",
          "polar": {
           "angularaxis": {
            "gridcolor": "white",
            "linecolor": "white",
            "ticks": ""
           },
           "bgcolor": "#E5ECF6",
           "radialaxis": {
            "gridcolor": "white",
            "linecolor": "white",
            "ticks": ""
           }
          },
          "scene": {
           "xaxis": {
            "backgroundcolor": "#E5ECF6",
            "gridcolor": "white",
            "gridwidth": 2,
            "linecolor": "white",
            "showbackground": true,
            "ticks": "",
            "zerolinecolor": "white"
           },
           "yaxis": {
            "backgroundcolor": "#E5ECF6",
            "gridcolor": "white",
            "gridwidth": 2,
            "linecolor": "white",
            "showbackground": true,
            "ticks": "",
            "zerolinecolor": "white"
           },
           "zaxis": {
            "backgroundcolor": "#E5ECF6",
            "gridcolor": "white",
            "gridwidth": 2,
            "linecolor": "white",
            "showbackground": true,
            "ticks": "",
            "zerolinecolor": "white"
           }
          },
          "shapedefaults": {
           "line": {
            "color": "#2a3f5f"
           }
          },
          "ternary": {
           "aaxis": {
            "gridcolor": "white",
            "linecolor": "white",
            "ticks": ""
           },
           "baxis": {
            "gridcolor": "white",
            "linecolor": "white",
            "ticks": ""
           },
           "bgcolor": "#E5ECF6",
           "caxis": {
            "gridcolor": "white",
            "linecolor": "white",
            "ticks": ""
           }
          },
          "title": {
           "x": 0.05
          },
          "xaxis": {
           "automargin": true,
           "gridcolor": "white",
           "linecolor": "white",
           "ticks": "",
           "title": {
            "standoff": 15
           },
           "zerolinecolor": "white",
           "zerolinewidth": 2
          },
          "yaxis": {
           "automargin": true,
           "gridcolor": "white",
           "linecolor": "white",
           "ticks": "",
           "title": {
            "standoff": 15
           },
           "zerolinecolor": "white",
           "zerolinewidth": 2
          }
         }
        },
        "xaxis": {
         "anchor": "y",
         "domain": [
          0,
          1
         ],
         "title": {
          "text": "x"
         }
        },
        "yaxis": {
         "anchor": "x",
         "domain": [
          0,
          1
         ],
         "title": {
          "text": "y"
         }
        }
       }
      },
      "text/html": [
       "<div>                            <div id=\"2bd62699-f368-4f54-9759-9b92c1decf8c\" class=\"plotly-graph-div\" style=\"height:525px; width:100%;\"></div>            <script type=\"text/javascript\">                require([\"plotly\"], function(Plotly) {                    window.PLOTLYENV=window.PLOTLYENV || {};                                    if (document.getElementById(\"2bd62699-f368-4f54-9759-9b92c1decf8c\")) {                    Plotly.newPlot(                        \"2bd62699-f368-4f54-9759-9b92c1decf8c\",                        [{\"hovertemplate\":\"x=%{x}\\u003cbr\\u003ey=%{y}\\u003cbr\\u003esize=%{marker.size}\\u003cextra\\u003e\\u003c\\u002fextra\\u003e\",\"legendgroup\":\"\",\"marker\":{\"color\":\"#636efa\",\"size\":[5.972427975462937,4.189715045703739,3.5820076975919934,2.984106373409039,2.9286955933794343,2.9130744067914236,2.838435042136,2.781202548555949,2.4585734049636723,2.444757703501689,2.407137433486746,2.4002177285155764,2.3755184621450773,2.3603081980324725,2.3551879502724278,2.206260986691639,2.1873676494540457,2.135702972844542,2.0067547597462565,1.9399023286212373,1.835304516756096,1.7075725566688356,1.6566748692034032,1.6288748143669367,1.6217814129986643,1.5153682731978027,1.4048918307233922,1.389562028384506,1.3750045608260102,1.332788791837644,1.332225233564545,1.246577664217195,1.0563183731931538,1.05046381611355,1.0310385020324366,1.0159840893472036,0.9583427400463674,0.8971660111396853,0.8597862800480381,0.8587929771864786,0.8533525903258673,0.8495907712991869,0.8090096194407672,0.7637404359892044,0.7069612091763349,0.6668853826699647,0.6595994467606545,0.6578756920600557,0.6395213994937791,0.5682247888276372,0.5601063078039474,0.541880245997544,0.5415681313192996,0.5288519063613747,0.5148020122105554,0.48640460228233817,0.48606393772498474,0.427420620552497,0.37968817407717803,0.3669268014734131,0.35773196032204585,0.341509837571397,0.28476041021199017,0.2592483104015883,0.15232870415994726,0.09365871496459317,0.07204266253050984],\"sizemode\":\"area\",\"sizeref\":0.014931069938657343,\"symbol\":\"circle\"},\"mode\":\"markers\",\"name\":\"\",\"orientation\":\"v\",\"showlegend\":false,\"x\":[0,7,5,0,1,4,5,0,10,6,0,7,5,0,3,2,0,0,2,11,8,0,8,3,3,5,6,5,3,7,2,12,1,2,3,1,6,4,2,2,1,4,7,1,0,2,3,0,4,4,7,1,3,1,8,11,0,4,5,6,2,3,3,10,2,6,1],\"xaxis\":\"x\",\"y\":[11,11,7,10,6,5,10,12,11,12,3,12,12,2,5,11,6,13,3,12,10,1,11,11,6,11,11,8,4,10,4,13,13,5,10,12,7,7,7,12,3,10,8,7,7,8,8,5,6,8,13,2,13,11,13,13,4,12,6,8,13,7,12,12,6,10,4],\"yaxis\":\"y\",\"type\":\"scatter\"}],                        {\"template\":{\"data\":{\"histogram2dcontour\":[{\"type\":\"histogram2dcontour\",\"colorbar\":{\"outlinewidth\":0,\"ticks\":\"\"},\"colorscale\":[[0.0,\"#0d0887\"],[0.1111111111111111,\"#46039f\"],[0.2222222222222222,\"#7201a8\"],[0.3333333333333333,\"#9c179e\"],[0.4444444444444444,\"#bd3786\"],[0.5555555555555556,\"#d8576b\"],[0.6666666666666666,\"#ed7953\"],[0.7777777777777778,\"#fb9f3a\"],[0.8888888888888888,\"#fdca26\"],[1.0,\"#f0f921\"]]}],\"choropleth\":[{\"type\":\"choropleth\",\"colorbar\":{\"outlinewidth\":0,\"ticks\":\"\"}}],\"histogram2d\":[{\"type\":\"histogram2d\",\"colorbar\":{\"outlinewidth\":0,\"ticks\":\"\"},\"colorscale\":[[0.0,\"#0d0887\"],[0.1111111111111111,\"#46039f\"],[0.2222222222222222,\"#7201a8\"],[0.3333333333333333,\"#9c179e\"],[0.4444444444444444,\"#bd3786\"],[0.5555555555555556,\"#d8576b\"],[0.6666666666666666,\"#ed7953\"],[0.7777777777777778,\"#fb9f3a\"],[0.8888888888888888,\"#fdca26\"],[1.0,\"#f0f921\"]]}],\"heatmap\":[{\"type\":\"heatmap\",\"colorbar\":{\"outlinewidth\":0,\"ticks\":\"\"},\"colorscale\":[[0.0,\"#0d0887\"],[0.1111111111111111,\"#46039f\"],[0.2222222222222222,\"#7201a8\"],[0.3333333333333333,\"#9c179e\"],[0.4444444444444444,\"#bd3786\"],[0.5555555555555556,\"#d8576b\"],[0.6666666666666666,\"#ed7953\"],[0.7777777777777778,\"#fb9f3a\"],[0.8888888888888888,\"#fdca26\"],[1.0,\"#f0f921\"]]}],\"heatmapgl\":[{\"type\":\"heatmapgl\",\"colorbar\":{\"outlinewidth\":0,\"ticks\":\"\"},\"colorscale\":[[0.0,\"#0d0887\"],[0.1111111111111111,\"#46039f\"],[0.2222222222222222,\"#7201a8\"],[0.3333333333333333,\"#9c179e\"],[0.4444444444444444,\"#bd3786\"],[0.5555555555555556,\"#d8576b\"],[0.6666666666666666,\"#ed7953\"],[0.7777777777777778,\"#fb9f3a\"],[0.8888888888888888,\"#fdca26\"],[1.0,\"#f0f921\"]]}],\"contourcarpet\":[{\"type\":\"contourcarpet\",\"colorbar\":{\"outlinewidth\":0,\"ticks\":\"\"}}],\"contour\":[{\"type\":\"contour\",\"colorbar\":{\"outlinewidth\":0,\"ticks\":\"\"},\"colorscale\":[[0.0,\"#0d0887\"],[0.1111111111111111,\"#46039f\"],[0.2222222222222222,\"#7201a8\"],[0.3333333333333333,\"#9c179e\"],[0.4444444444444444,\"#bd3786\"],[0.5555555555555556,\"#d8576b\"],[0.6666666666666666,\"#ed7953\"],[0.7777777777777778,\"#fb9f3a\"],[0.8888888888888888,\"#fdca26\"],[1.0,\"#f0f921\"]]}],\"surface\":[{\"type\":\"surface\",\"colorbar\":{\"outlinewidth\":0,\"ticks\":\"\"},\"colorscale\":[[0.0,\"#0d0887\"],[0.1111111111111111,\"#46039f\"],[0.2222222222222222,\"#7201a8\"],[0.3333333333333333,\"#9c179e\"],[0.4444444444444444,\"#bd3786\"],[0.5555555555555556,\"#d8576b\"],[0.6666666666666666,\"#ed7953\"],[0.7777777777777778,\"#fb9f3a\"],[0.8888888888888888,\"#fdca26\"],[1.0,\"#f0f921\"]]}],\"mesh3d\":[{\"type\":\"mesh3d\",\"colorbar\":{\"outlinewidth\":0,\"ticks\":\"\"}}],\"scatter\":[{\"fillpattern\":{\"fillmode\":\"overlay\",\"size\":10,\"solidity\":0.2},\"type\":\"scatter\"}],\"parcoords\":[{\"type\":\"parcoords\",\"line\":{\"colorbar\":{\"outlinewidth\":0,\"ticks\":\"\"}}}],\"scatterpolargl\":[{\"type\":\"scatterpolargl\",\"marker\":{\"colorbar\":{\"outlinewidth\":0,\"ticks\":\"\"}}}],\"bar\":[{\"error_x\":{\"color\":\"#2a3f5f\"},\"error_y\":{\"color\":\"#2a3f5f\"},\"marker\":{\"line\":{\"color\":\"#E5ECF6\",\"width\":0.5},\"pattern\":{\"fillmode\":\"overlay\",\"size\":10,\"solidity\":0.2}},\"type\":\"bar\"}],\"scattergeo\":[{\"type\":\"scattergeo\",\"marker\":{\"colorbar\":{\"outlinewidth\":0,\"ticks\":\"\"}}}],\"scatterpolar\":[{\"type\":\"scatterpolar\",\"marker\":{\"colorbar\":{\"outlinewidth\":0,\"ticks\":\"\"}}}],\"histogram\":[{\"marker\":{\"pattern\":{\"fillmode\":\"overlay\",\"size\":10,\"solidity\":0.2}},\"type\":\"histogram\"}],\"scattergl\":[{\"type\":\"scattergl\",\"marker\":{\"colorbar\":{\"outlinewidth\":0,\"ticks\":\"\"}}}],\"scatter3d\":[{\"type\":\"scatter3d\",\"line\":{\"colorbar\":{\"outlinewidth\":0,\"ticks\":\"\"}},\"marker\":{\"colorbar\":{\"outlinewidth\":0,\"ticks\":\"\"}}}],\"scattermapbox\":[{\"type\":\"scattermapbox\",\"marker\":{\"colorbar\":{\"outlinewidth\":0,\"ticks\":\"\"}}}],\"scatterternary\":[{\"type\":\"scatterternary\",\"marker\":{\"colorbar\":{\"outlinewidth\":0,\"ticks\":\"\"}}}],\"scattercarpet\":[{\"type\":\"scattercarpet\",\"marker\":{\"colorbar\":{\"outlinewidth\":0,\"ticks\":\"\"}}}],\"carpet\":[{\"aaxis\":{\"endlinecolor\":\"#2a3f5f\",\"gridcolor\":\"white\",\"linecolor\":\"white\",\"minorgridcolor\":\"white\",\"startlinecolor\":\"#2a3f5f\"},\"baxis\":{\"endlinecolor\":\"#2a3f5f\",\"gridcolor\":\"white\",\"linecolor\":\"white\",\"minorgridcolor\":\"white\",\"startlinecolor\":\"#2a3f5f\"},\"type\":\"carpet\"}],\"table\":[{\"cells\":{\"fill\":{\"color\":\"#EBF0F8\"},\"line\":{\"color\":\"white\"}},\"header\":{\"fill\":{\"color\":\"#C8D4E3\"},\"line\":{\"color\":\"white\"}},\"type\":\"table\"}],\"barpolar\":[{\"marker\":{\"line\":{\"color\":\"#E5ECF6\",\"width\":0.5},\"pattern\":{\"fillmode\":\"overlay\",\"size\":10,\"solidity\":0.2}},\"type\":\"barpolar\"}],\"pie\":[{\"automargin\":true,\"type\":\"pie\"}]},\"layout\":{\"autotypenumbers\":\"strict\",\"colorway\":[\"#636efa\",\"#EF553B\",\"#00cc96\",\"#ab63fa\",\"#FFA15A\",\"#19d3f3\",\"#FF6692\",\"#B6E880\",\"#FF97FF\",\"#FECB52\"],\"font\":{\"color\":\"#2a3f5f\"},\"hovermode\":\"closest\",\"hoverlabel\":{\"align\":\"left\"},\"paper_bgcolor\":\"white\",\"plot_bgcolor\":\"#E5ECF6\",\"polar\":{\"bgcolor\":\"#E5ECF6\",\"angularaxis\":{\"gridcolor\":\"white\",\"linecolor\":\"white\",\"ticks\":\"\"},\"radialaxis\":{\"gridcolor\":\"white\",\"linecolor\":\"white\",\"ticks\":\"\"}},\"ternary\":{\"bgcolor\":\"#E5ECF6\",\"aaxis\":{\"gridcolor\":\"white\",\"linecolor\":\"white\",\"ticks\":\"\"},\"baxis\":{\"gridcolor\":\"white\",\"linecolor\":\"white\",\"ticks\":\"\"},\"caxis\":{\"gridcolor\":\"white\",\"linecolor\":\"white\",\"ticks\":\"\"}},\"coloraxis\":{\"colorbar\":{\"outlinewidth\":0,\"ticks\":\"\"}},\"colorscale\":{\"sequential\":[[0.0,\"#0d0887\"],[0.1111111111111111,\"#46039f\"],[0.2222222222222222,\"#7201a8\"],[0.3333333333333333,\"#9c179e\"],[0.4444444444444444,\"#bd3786\"],[0.5555555555555556,\"#d8576b\"],[0.6666666666666666,\"#ed7953\"],[0.7777777777777778,\"#fb9f3a\"],[0.8888888888888888,\"#fdca26\"],[1.0,\"#f0f921\"]],\"sequentialminus\":[[0.0,\"#0d0887\"],[0.1111111111111111,\"#46039f\"],[0.2222222222222222,\"#7201a8\"],[0.3333333333333333,\"#9c179e\"],[0.4444444444444444,\"#bd3786\"],[0.5555555555555556,\"#d8576b\"],[0.6666666666666666,\"#ed7953\"],[0.7777777777777778,\"#fb9f3a\"],[0.8888888888888888,\"#fdca26\"],[1.0,\"#f0f921\"]],\"diverging\":[[0,\"#8e0152\"],[0.1,\"#c51b7d\"],[0.2,\"#de77ae\"],[0.3,\"#f1b6da\"],[0.4,\"#fde0ef\"],[0.5,\"#f7f7f7\"],[0.6,\"#e6f5d0\"],[0.7,\"#b8e186\"],[0.8,\"#7fbc41\"],[0.9,\"#4d9221\"],[1,\"#276419\"]]},\"xaxis\":{\"gridcolor\":\"white\",\"linecolor\":\"white\",\"ticks\":\"\",\"title\":{\"standoff\":15},\"zerolinecolor\":\"white\",\"automargin\":true,\"zerolinewidth\":2},\"yaxis\":{\"gridcolor\":\"white\",\"linecolor\":\"white\",\"ticks\":\"\",\"title\":{\"standoff\":15},\"zerolinecolor\":\"white\",\"automargin\":true,\"zerolinewidth\":2},\"scene\":{\"xaxis\":{\"backgroundcolor\":\"#E5ECF6\",\"gridcolor\":\"white\",\"linecolor\":\"white\",\"showbackground\":true,\"ticks\":\"\",\"zerolinecolor\":\"white\",\"gridwidth\":2},\"yaxis\":{\"backgroundcolor\":\"#E5ECF6\",\"gridcolor\":\"white\",\"linecolor\":\"white\",\"showbackground\":true,\"ticks\":\"\",\"zerolinecolor\":\"white\",\"gridwidth\":2},\"zaxis\":{\"backgroundcolor\":\"#E5ECF6\",\"gridcolor\":\"white\",\"linecolor\":\"white\",\"showbackground\":true,\"ticks\":\"\",\"zerolinecolor\":\"white\",\"gridwidth\":2}},\"shapedefaults\":{\"line\":{\"color\":\"#2a3f5f\"}},\"annotationdefaults\":{\"arrowcolor\":\"#2a3f5f\",\"arrowhead\":0,\"arrowwidth\":1},\"geo\":{\"bgcolor\":\"white\",\"landcolor\":\"#E5ECF6\",\"subunitcolor\":\"white\",\"showland\":true,\"showlakes\":true,\"lakecolor\":\"white\"},\"title\":{\"x\":0.05},\"mapbox\":{\"style\":\"light\"}}},\"xaxis\":{\"anchor\":\"y\",\"domain\":[0.0,1.0],\"title\":{\"text\":\"x\"}},\"yaxis\":{\"anchor\":\"x\",\"domain\":[0.0,1.0],\"title\":{\"text\":\"y\"}},\"legend\":{\"tracegroupgap\":0,\"itemsizing\":\"constant\"},\"margin\":{\"t\":60}},                        {\"responsive\": true}                    ).then(function(){\n",
       "                            \n",
       "var gd = document.getElementById('2bd62699-f368-4f54-9759-9b92c1decf8c');\n",
       "var x = new MutationObserver(function (mutations, observer) {{\n",
       "        var display = window.getComputedStyle(gd).display;\n",
       "        if (!display || display === 'none') {{\n",
       "            console.log([gd, 'removed!']);\n",
       "            Plotly.purge(gd);\n",
       "            observer.disconnect();\n",
       "        }}\n",
       "}});\n",
       "\n",
       "// Listen for the removal of the full notebook cells\n",
       "var notebookContainer = gd.closest('#notebook-container');\n",
       "if (notebookContainer) {{\n",
       "    x.observe(notebookContainer, {childList: true});\n",
       "}}\n",
       "\n",
       "// Listen for the clearing of the current output cell\n",
       "var outputEl = gd.closest('.output');\n",
       "if (outputEl) {{\n",
       "    x.observe(outputEl, {childList: true});\n",
       "}}\n",
       "\n",
       "                        })                };                });            </script>        </div>"
      ]
     },
     "metadata": {},
     "output_type": "display_data"
    }
   ],
   "source": [
    "px.scatter(x = interaction['First Feature Index'], y = interaction['Second Feature Index'], size = interaction['Interaction'])"
   ]
  },
  {
   "cell_type": "code",
   "execution_count": 38,
   "id": "6392a996",
   "metadata": {
    "hidden": true
   },
   "outputs": [
    {
     "data": {
      "text/html": [
       "<div>\n",
       "<style scoped>\n",
       "    .dataframe tbody tr th:only-of-type {\n",
       "        vertical-align: middle;\n",
       "    }\n",
       "\n",
       "    .dataframe tbody tr th {\n",
       "        vertical-align: top;\n",
       "    }\n",
       "\n",
       "    .dataframe thead th {\n",
       "        text-align: right;\n",
       "    }\n",
       "</style>\n",
       "<table border=\"1\" class=\"dataframe\">\n",
       "  <thead>\n",
       "    <tr style=\"text-align: right;\">\n",
       "      <th>Second Feature Index</th>\n",
       "      <th>1</th>\n",
       "      <th>2</th>\n",
       "      <th>3</th>\n",
       "      <th>4</th>\n",
       "      <th>5</th>\n",
       "      <th>6</th>\n",
       "      <th>7</th>\n",
       "      <th>8</th>\n",
       "      <th>10</th>\n",
       "      <th>11</th>\n",
       "      <th>12</th>\n",
       "      <th>13</th>\n",
       "    </tr>\n",
       "    <tr>\n",
       "      <th>First Feature Index</th>\n",
       "      <th></th>\n",
       "      <th></th>\n",
       "      <th></th>\n",
       "      <th></th>\n",
       "      <th></th>\n",
       "      <th></th>\n",
       "      <th></th>\n",
       "      <th></th>\n",
       "      <th></th>\n",
       "      <th></th>\n",
       "      <th></th>\n",
       "      <th></th>\n",
       "    </tr>\n",
       "  </thead>\n",
       "  <tbody>\n",
       "    <tr>\n",
       "      <th>0</th>\n",
       "      <td>1.707573</td>\n",
       "      <td>2.360308</td>\n",
       "      <td>2.407137</td>\n",
       "      <td>0.486064</td>\n",
       "      <td>0.657876</td>\n",
       "      <td>2.187368</td>\n",
       "      <td>0.706961</td>\n",
       "      <td>NaN</td>\n",
       "      <td>2.984106</td>\n",
       "      <td>5.972428</td>\n",
       "      <td>2.781203</td>\n",
       "      <td>2.135703</td>\n",
       "    </tr>\n",
       "    <tr>\n",
       "      <th>1</th>\n",
       "      <td>NaN</td>\n",
       "      <td>0.541880</td>\n",
       "      <td>0.853353</td>\n",
       "      <td>0.072043</td>\n",
       "      <td>NaN</td>\n",
       "      <td>2.928696</td>\n",
       "      <td>0.763740</td>\n",
       "      <td>NaN</td>\n",
       "      <td>NaN</td>\n",
       "      <td>0.528852</td>\n",
       "      <td>1.015984</td>\n",
       "      <td>1.056318</td>\n",
       "    </tr>\n",
       "    <tr>\n",
       "      <th>2</th>\n",
       "      <td>NaN</td>\n",
       "      <td>NaN</td>\n",
       "      <td>2.006755</td>\n",
       "      <td>1.332225</td>\n",
       "      <td>1.050464</td>\n",
       "      <td>0.152329</td>\n",
       "      <td>0.859786</td>\n",
       "      <td>0.666885</td>\n",
       "      <td>NaN</td>\n",
       "      <td>2.206261</td>\n",
       "      <td>0.858793</td>\n",
       "      <td>0.357732</td>\n",
       "    </tr>\n",
       "    <tr>\n",
       "      <th>3</th>\n",
       "      <td>NaN</td>\n",
       "      <td>NaN</td>\n",
       "      <td>NaN</td>\n",
       "      <td>1.375005</td>\n",
       "      <td>2.355188</td>\n",
       "      <td>1.621781</td>\n",
       "      <td>0.341510</td>\n",
       "      <td>0.659599</td>\n",
       "      <td>1.031039</td>\n",
       "      <td>1.628875</td>\n",
       "      <td>0.284760</td>\n",
       "      <td>0.541568</td>\n",
       "    </tr>\n",
       "    <tr>\n",
       "      <th>4</th>\n",
       "      <td>NaN</td>\n",
       "      <td>NaN</td>\n",
       "      <td>NaN</td>\n",
       "      <td>NaN</td>\n",
       "      <td>2.913074</td>\n",
       "      <td>0.639521</td>\n",
       "      <td>0.897166</td>\n",
       "      <td>0.568225</td>\n",
       "      <td>0.849591</td>\n",
       "      <td>NaN</td>\n",
       "      <td>0.427421</td>\n",
       "      <td>NaN</td>\n",
       "    </tr>\n",
       "    <tr>\n",
       "      <th>5</th>\n",
       "      <td>NaN</td>\n",
       "      <td>NaN</td>\n",
       "      <td>NaN</td>\n",
       "      <td>NaN</td>\n",
       "      <td>NaN</td>\n",
       "      <td>0.379688</td>\n",
       "      <td>3.582008</td>\n",
       "      <td>1.389562</td>\n",
       "      <td>2.838435</td>\n",
       "      <td>1.515368</td>\n",
       "      <td>2.375518</td>\n",
       "      <td>NaN</td>\n",
       "    </tr>\n",
       "    <tr>\n",
       "      <th>6</th>\n",
       "      <td>NaN</td>\n",
       "      <td>NaN</td>\n",
       "      <td>NaN</td>\n",
       "      <td>NaN</td>\n",
       "      <td>NaN</td>\n",
       "      <td>NaN</td>\n",
       "      <td>0.958343</td>\n",
       "      <td>0.366927</td>\n",
       "      <td>0.093659</td>\n",
       "      <td>1.404892</td>\n",
       "      <td>2.444758</td>\n",
       "      <td>NaN</td>\n",
       "    </tr>\n",
       "    <tr>\n",
       "      <th>7</th>\n",
       "      <td>NaN</td>\n",
       "      <td>NaN</td>\n",
       "      <td>NaN</td>\n",
       "      <td>NaN</td>\n",
       "      <td>NaN</td>\n",
       "      <td>NaN</td>\n",
       "      <td>NaN</td>\n",
       "      <td>0.809010</td>\n",
       "      <td>1.332789</td>\n",
       "      <td>4.189715</td>\n",
       "      <td>2.400218</td>\n",
       "      <td>0.560106</td>\n",
       "    </tr>\n",
       "    <tr>\n",
       "      <th>8</th>\n",
       "      <td>NaN</td>\n",
       "      <td>NaN</td>\n",
       "      <td>NaN</td>\n",
       "      <td>NaN</td>\n",
       "      <td>NaN</td>\n",
       "      <td>NaN</td>\n",
       "      <td>NaN</td>\n",
       "      <td>NaN</td>\n",
       "      <td>1.835305</td>\n",
       "      <td>1.656675</td>\n",
       "      <td>NaN</td>\n",
       "      <td>0.514802</td>\n",
       "    </tr>\n",
       "    <tr>\n",
       "      <th>10</th>\n",
       "      <td>NaN</td>\n",
       "      <td>NaN</td>\n",
       "      <td>NaN</td>\n",
       "      <td>NaN</td>\n",
       "      <td>NaN</td>\n",
       "      <td>NaN</td>\n",
       "      <td>NaN</td>\n",
       "      <td>NaN</td>\n",
       "      <td>NaN</td>\n",
       "      <td>2.458573</td>\n",
       "      <td>0.259248</td>\n",
       "      <td>NaN</td>\n",
       "    </tr>\n",
       "    <tr>\n",
       "      <th>11</th>\n",
       "      <td>NaN</td>\n",
       "      <td>NaN</td>\n",
       "      <td>NaN</td>\n",
       "      <td>NaN</td>\n",
       "      <td>NaN</td>\n",
       "      <td>NaN</td>\n",
       "      <td>NaN</td>\n",
       "      <td>NaN</td>\n",
       "      <td>NaN</td>\n",
       "      <td>NaN</td>\n",
       "      <td>1.939902</td>\n",
       "      <td>0.486405</td>\n",
       "    </tr>\n",
       "    <tr>\n",
       "      <th>12</th>\n",
       "      <td>NaN</td>\n",
       "      <td>NaN</td>\n",
       "      <td>NaN</td>\n",
       "      <td>NaN</td>\n",
       "      <td>NaN</td>\n",
       "      <td>NaN</td>\n",
       "      <td>NaN</td>\n",
       "      <td>NaN</td>\n",
       "      <td>NaN</td>\n",
       "      <td>NaN</td>\n",
       "      <td>NaN</td>\n",
       "      <td>1.246578</td>\n",
       "    </tr>\n",
       "  </tbody>\n",
       "</table>\n",
       "</div>"
      ],
      "text/plain": [
       "Second Feature Index        1         2         3         4         5   \\\n",
       "First Feature Index                                                      \n",
       "0                     1.707573  2.360308  2.407137  0.486064  0.657876   \n",
       "1                          NaN  0.541880  0.853353  0.072043       NaN   \n",
       "2                          NaN       NaN  2.006755  1.332225  1.050464   \n",
       "3                          NaN       NaN       NaN  1.375005  2.355188   \n",
       "4                          NaN       NaN       NaN       NaN  2.913074   \n",
       "5                          NaN       NaN       NaN       NaN       NaN   \n",
       "6                          NaN       NaN       NaN       NaN       NaN   \n",
       "7                          NaN       NaN       NaN       NaN       NaN   \n",
       "8                          NaN       NaN       NaN       NaN       NaN   \n",
       "10                         NaN       NaN       NaN       NaN       NaN   \n",
       "11                         NaN       NaN       NaN       NaN       NaN   \n",
       "12                         NaN       NaN       NaN       NaN       NaN   \n",
       "\n",
       "Second Feature Index        6         7         8         10        11  \\\n",
       "First Feature Index                                                      \n",
       "0                     2.187368  0.706961       NaN  2.984106  5.972428   \n",
       "1                     2.928696  0.763740       NaN       NaN  0.528852   \n",
       "2                     0.152329  0.859786  0.666885       NaN  2.206261   \n",
       "3                     1.621781  0.341510  0.659599  1.031039  1.628875   \n",
       "4                     0.639521  0.897166  0.568225  0.849591       NaN   \n",
       "5                     0.379688  3.582008  1.389562  2.838435  1.515368   \n",
       "6                          NaN  0.958343  0.366927  0.093659  1.404892   \n",
       "7                          NaN       NaN  0.809010  1.332789  4.189715   \n",
       "8                          NaN       NaN       NaN  1.835305  1.656675   \n",
       "10                         NaN       NaN       NaN       NaN  2.458573   \n",
       "11                         NaN       NaN       NaN       NaN       NaN   \n",
       "12                         NaN       NaN       NaN       NaN       NaN   \n",
       "\n",
       "Second Feature Index        12        13  \n",
       "First Feature Index                       \n",
       "0                     2.781203  2.135703  \n",
       "1                     1.015984  1.056318  \n",
       "2                     0.858793  0.357732  \n",
       "3                     0.284760  0.541568  \n",
       "4                     0.427421       NaN  \n",
       "5                     2.375518       NaN  \n",
       "6                     2.444758       NaN  \n",
       "7                     2.400218  0.560106  \n",
       "8                          NaN  0.514802  \n",
       "10                    0.259248       NaN  \n",
       "11                    1.939902  0.486405  \n",
       "12                         NaN  1.246578  "
      ]
     },
     "execution_count": 38,
     "metadata": {},
     "output_type": "execute_result"
    }
   ],
   "source": [
    "crosstab = pd.crosstab(index = interaction['First Feature Index'], \n",
    "                       columns = interaction['Second Feature Index'], \n",
    "                       values = interaction['Interaction'], aggfunc = 'sum')\n",
    "crosstab"
   ]
  },
  {
   "cell_type": "code",
   "execution_count": 39,
   "id": "1b89abc1",
   "metadata": {
    "hidden": true
   },
   "outputs": [],
   "source": [
    "dict_names = {i: j for i,j in enumerate(bst.feature_names_)}"
   ]
  },
  {
   "cell_type": "code",
   "execution_count": 40,
   "id": "f5dbe484",
   "metadata": {
    "hidden": true
   },
   "outputs": [
    {
     "data": {
      "application/vnd.plotly.v1+json": {
       "config": {
        "plotlyServerURL": "https://plot.ly"
       },
       "data": [
        {
         "coloraxis": "coloraxis",
         "hovertemplate": "Second Feature Index: %{x}<br>First Feature Index: %{y}<br>color: %{z}<extra></extra>",
         "name": "0",
         "type": "heatmap",
         "x": [
          "workclass",
          "fnlwgt",
          "education",
          "education-num",
          "marital-status",
          "occupation",
          "relationship",
          "race",
          "capital-gain",
          "capital-loss",
          "hours-per-week",
          "native-country"
         ],
         "xaxis": "x",
         "y": [
          "age",
          "workclass",
          "fnlwgt",
          "education",
          "education-num",
          "marital-status",
          "occupation",
          "relationship",
          "race",
          "capital-gain",
          "capital-loss",
          "hours-per-week"
         ],
         "yaxis": "y",
         "z": [
          [
           1.7075725566688356,
           2.3603081980324725,
           2.407137433486746,
           0.48606393772498474,
           0.6578756920600557,
           2.1873676494540457,
           0.7069612091763349,
           null,
           2.984106373409039,
           5.972427975462937,
           2.781202548555949,
           2.135702972844542
          ],
          [
           null,
           0.541880245997544,
           0.8533525903258673,
           0.07204266253050984,
           null,
           2.9286955933794343,
           0.7637404359892044,
           null,
           null,
           0.5288519063613747,
           1.0159840893472036,
           1.0563183731931538
          ],
          [
           null,
           null,
           2.0067547597462565,
           1.332225233564545,
           1.05046381611355,
           0.15232870415994726,
           0.8597862800480381,
           0.6668853826699647,
           null,
           2.206260986691639,
           0.8587929771864786,
           0.35773196032204585
          ],
          [
           null,
           null,
           null,
           1.3750045608260102,
           2.3551879502724278,
           1.6217814129986643,
           0.341509837571397,
           0.6595994467606545,
           1.0310385020324366,
           1.6288748143669367,
           0.28476041021199017,
           0.5415681313192996
          ],
          [
           null,
           null,
           null,
           null,
           2.9130744067914236,
           0.6395213994937791,
           0.8971660111396853,
           0.5682247888276372,
           0.8495907712991869,
           null,
           0.427420620552497,
           null
          ],
          [
           null,
           null,
           null,
           null,
           null,
           0.37968817407717803,
           3.5820076975919934,
           1.389562028384506,
           2.838435042136,
           1.5153682731978027,
           2.3755184621450773,
           null
          ],
          [
           null,
           null,
           null,
           null,
           null,
           null,
           0.9583427400463674,
           0.3669268014734131,
           0.09365871496459317,
           1.4048918307233922,
           2.444757703501689,
           null
          ],
          [
           null,
           null,
           null,
           null,
           null,
           null,
           null,
           0.8090096194407672,
           1.332788791837644,
           4.189715045703739,
           2.4002177285155764,
           0.5601063078039474
          ],
          [
           null,
           null,
           null,
           null,
           null,
           null,
           null,
           null,
           1.835304516756096,
           1.6566748692034032,
           null,
           0.5148020122105554
          ],
          [
           null,
           null,
           null,
           null,
           null,
           null,
           null,
           null,
           null,
           2.4585734049636723,
           0.2592483104015883,
           null
          ],
          [
           null,
           null,
           null,
           null,
           null,
           null,
           null,
           null,
           null,
           null,
           1.9399023286212373,
           0.48640460228233817
          ],
          [
           null,
           null,
           null,
           null,
           null,
           null,
           null,
           null,
           null,
           null,
           null,
           1.246577664217195
          ]
         ]
        }
       ],
       "layout": {
        "coloraxis": {
         "colorscale": [
          [
           0,
           "#0d0887"
          ],
          [
           0.1111111111111111,
           "#46039f"
          ],
          [
           0.2222222222222222,
           "#7201a8"
          ],
          [
           0.3333333333333333,
           "#9c179e"
          ],
          [
           0.4444444444444444,
           "#bd3786"
          ],
          [
           0.5555555555555556,
           "#d8576b"
          ],
          [
           0.6666666666666666,
           "#ed7953"
          ],
          [
           0.7777777777777778,
           "#fb9f3a"
          ],
          [
           0.8888888888888888,
           "#fdca26"
          ],
          [
           1,
           "#f0f921"
          ]
         ]
        },
        "margin": {
         "t": 60
        },
        "template": {
         "data": {
          "bar": [
           {
            "error_x": {
             "color": "#2a3f5f"
            },
            "error_y": {
             "color": "#2a3f5f"
            },
            "marker": {
             "line": {
              "color": "#E5ECF6",
              "width": 0.5
             },
             "pattern": {
              "fillmode": "overlay",
              "size": 10,
              "solidity": 0.2
             }
            },
            "type": "bar"
           }
          ],
          "barpolar": [
           {
            "marker": {
             "line": {
              "color": "#E5ECF6",
              "width": 0.5
             },
             "pattern": {
              "fillmode": "overlay",
              "size": 10,
              "solidity": 0.2
             }
            },
            "type": "barpolar"
           }
          ],
          "carpet": [
           {
            "aaxis": {
             "endlinecolor": "#2a3f5f",
             "gridcolor": "white",
             "linecolor": "white",
             "minorgridcolor": "white",
             "startlinecolor": "#2a3f5f"
            },
            "baxis": {
             "endlinecolor": "#2a3f5f",
             "gridcolor": "white",
             "linecolor": "white",
             "minorgridcolor": "white",
             "startlinecolor": "#2a3f5f"
            },
            "type": "carpet"
           }
          ],
          "choropleth": [
           {
            "colorbar": {
             "outlinewidth": 0,
             "ticks": ""
            },
            "type": "choropleth"
           }
          ],
          "contour": [
           {
            "colorbar": {
             "outlinewidth": 0,
             "ticks": ""
            },
            "colorscale": [
             [
              0,
              "#0d0887"
             ],
             [
              0.1111111111111111,
              "#46039f"
             ],
             [
              0.2222222222222222,
              "#7201a8"
             ],
             [
              0.3333333333333333,
              "#9c179e"
             ],
             [
              0.4444444444444444,
              "#bd3786"
             ],
             [
              0.5555555555555556,
              "#d8576b"
             ],
             [
              0.6666666666666666,
              "#ed7953"
             ],
             [
              0.7777777777777778,
              "#fb9f3a"
             ],
             [
              0.8888888888888888,
              "#fdca26"
             ],
             [
              1,
              "#f0f921"
             ]
            ],
            "type": "contour"
           }
          ],
          "contourcarpet": [
           {
            "colorbar": {
             "outlinewidth": 0,
             "ticks": ""
            },
            "type": "contourcarpet"
           }
          ],
          "heatmap": [
           {
            "colorbar": {
             "outlinewidth": 0,
             "ticks": ""
            },
            "colorscale": [
             [
              0,
              "#0d0887"
             ],
             [
              0.1111111111111111,
              "#46039f"
             ],
             [
              0.2222222222222222,
              "#7201a8"
             ],
             [
              0.3333333333333333,
              "#9c179e"
             ],
             [
              0.4444444444444444,
              "#bd3786"
             ],
             [
              0.5555555555555556,
              "#d8576b"
             ],
             [
              0.6666666666666666,
              "#ed7953"
             ],
             [
              0.7777777777777778,
              "#fb9f3a"
             ],
             [
              0.8888888888888888,
              "#fdca26"
             ],
             [
              1,
              "#f0f921"
             ]
            ],
            "type": "heatmap"
           }
          ],
          "heatmapgl": [
           {
            "colorbar": {
             "outlinewidth": 0,
             "ticks": ""
            },
            "colorscale": [
             [
              0,
              "#0d0887"
             ],
             [
              0.1111111111111111,
              "#46039f"
             ],
             [
              0.2222222222222222,
              "#7201a8"
             ],
             [
              0.3333333333333333,
              "#9c179e"
             ],
             [
              0.4444444444444444,
              "#bd3786"
             ],
             [
              0.5555555555555556,
              "#d8576b"
             ],
             [
              0.6666666666666666,
              "#ed7953"
             ],
             [
              0.7777777777777778,
              "#fb9f3a"
             ],
             [
              0.8888888888888888,
              "#fdca26"
             ],
             [
              1,
              "#f0f921"
             ]
            ],
            "type": "heatmapgl"
           }
          ],
          "histogram": [
           {
            "marker": {
             "pattern": {
              "fillmode": "overlay",
              "size": 10,
              "solidity": 0.2
             }
            },
            "type": "histogram"
           }
          ],
          "histogram2d": [
           {
            "colorbar": {
             "outlinewidth": 0,
             "ticks": ""
            },
            "colorscale": [
             [
              0,
              "#0d0887"
             ],
             [
              0.1111111111111111,
              "#46039f"
             ],
             [
              0.2222222222222222,
              "#7201a8"
             ],
             [
              0.3333333333333333,
              "#9c179e"
             ],
             [
              0.4444444444444444,
              "#bd3786"
             ],
             [
              0.5555555555555556,
              "#d8576b"
             ],
             [
              0.6666666666666666,
              "#ed7953"
             ],
             [
              0.7777777777777778,
              "#fb9f3a"
             ],
             [
              0.8888888888888888,
              "#fdca26"
             ],
             [
              1,
              "#f0f921"
             ]
            ],
            "type": "histogram2d"
           }
          ],
          "histogram2dcontour": [
           {
            "colorbar": {
             "outlinewidth": 0,
             "ticks": ""
            },
            "colorscale": [
             [
              0,
              "#0d0887"
             ],
             [
              0.1111111111111111,
              "#46039f"
             ],
             [
              0.2222222222222222,
              "#7201a8"
             ],
             [
              0.3333333333333333,
              "#9c179e"
             ],
             [
              0.4444444444444444,
              "#bd3786"
             ],
             [
              0.5555555555555556,
              "#d8576b"
             ],
             [
              0.6666666666666666,
              "#ed7953"
             ],
             [
              0.7777777777777778,
              "#fb9f3a"
             ],
             [
              0.8888888888888888,
              "#fdca26"
             ],
             [
              1,
              "#f0f921"
             ]
            ],
            "type": "histogram2dcontour"
           }
          ],
          "mesh3d": [
           {
            "colorbar": {
             "outlinewidth": 0,
             "ticks": ""
            },
            "type": "mesh3d"
           }
          ],
          "parcoords": [
           {
            "line": {
             "colorbar": {
              "outlinewidth": 0,
              "ticks": ""
             }
            },
            "type": "parcoords"
           }
          ],
          "pie": [
           {
            "automargin": true,
            "type": "pie"
           }
          ],
          "scatter": [
           {
            "fillpattern": {
             "fillmode": "overlay",
             "size": 10,
             "solidity": 0.2
            },
            "type": "scatter"
           }
          ],
          "scatter3d": [
           {
            "line": {
             "colorbar": {
              "outlinewidth": 0,
              "ticks": ""
             }
            },
            "marker": {
             "colorbar": {
              "outlinewidth": 0,
              "ticks": ""
             }
            },
            "type": "scatter3d"
           }
          ],
          "scattercarpet": [
           {
            "marker": {
             "colorbar": {
              "outlinewidth": 0,
              "ticks": ""
             }
            },
            "type": "scattercarpet"
           }
          ],
          "scattergeo": [
           {
            "marker": {
             "colorbar": {
              "outlinewidth": 0,
              "ticks": ""
             }
            },
            "type": "scattergeo"
           }
          ],
          "scattergl": [
           {
            "marker": {
             "colorbar": {
              "outlinewidth": 0,
              "ticks": ""
             }
            },
            "type": "scattergl"
           }
          ],
          "scattermapbox": [
           {
            "marker": {
             "colorbar": {
              "outlinewidth": 0,
              "ticks": ""
             }
            },
            "type": "scattermapbox"
           }
          ],
          "scatterpolar": [
           {
            "marker": {
             "colorbar": {
              "outlinewidth": 0,
              "ticks": ""
             }
            },
            "type": "scatterpolar"
           }
          ],
          "scatterpolargl": [
           {
            "marker": {
             "colorbar": {
              "outlinewidth": 0,
              "ticks": ""
             }
            },
            "type": "scatterpolargl"
           }
          ],
          "scatterternary": [
           {
            "marker": {
             "colorbar": {
              "outlinewidth": 0,
              "ticks": ""
             }
            },
            "type": "scatterternary"
           }
          ],
          "surface": [
           {
            "colorbar": {
             "outlinewidth": 0,
             "ticks": ""
            },
            "colorscale": [
             [
              0,
              "#0d0887"
             ],
             [
              0.1111111111111111,
              "#46039f"
             ],
             [
              0.2222222222222222,
              "#7201a8"
             ],
             [
              0.3333333333333333,
              "#9c179e"
             ],
             [
              0.4444444444444444,
              "#bd3786"
             ],
             [
              0.5555555555555556,
              "#d8576b"
             ],
             [
              0.6666666666666666,
              "#ed7953"
             ],
             [
              0.7777777777777778,
              "#fb9f3a"
             ],
             [
              0.8888888888888888,
              "#fdca26"
             ],
             [
              1,
              "#f0f921"
             ]
            ],
            "type": "surface"
           }
          ],
          "table": [
           {
            "cells": {
             "fill": {
              "color": "#EBF0F8"
             },
             "line": {
              "color": "white"
             }
            },
            "header": {
             "fill": {
              "color": "#C8D4E3"
             },
             "line": {
              "color": "white"
             }
            },
            "type": "table"
           }
          ]
         },
         "layout": {
          "annotationdefaults": {
           "arrowcolor": "#2a3f5f",
           "arrowhead": 0,
           "arrowwidth": 1
          },
          "autotypenumbers": "strict",
          "coloraxis": {
           "colorbar": {
            "outlinewidth": 0,
            "ticks": ""
           }
          },
          "colorscale": {
           "diverging": [
            [
             0,
             "#8e0152"
            ],
            [
             0.1,
             "#c51b7d"
            ],
            [
             0.2,
             "#de77ae"
            ],
            [
             0.3,
             "#f1b6da"
            ],
            [
             0.4,
             "#fde0ef"
            ],
            [
             0.5,
             "#f7f7f7"
            ],
            [
             0.6,
             "#e6f5d0"
            ],
            [
             0.7,
             "#b8e186"
            ],
            [
             0.8,
             "#7fbc41"
            ],
            [
             0.9,
             "#4d9221"
            ],
            [
             1,
             "#276419"
            ]
           ],
           "sequential": [
            [
             0,
             "#0d0887"
            ],
            [
             0.1111111111111111,
             "#46039f"
            ],
            [
             0.2222222222222222,
             "#7201a8"
            ],
            [
             0.3333333333333333,
             "#9c179e"
            ],
            [
             0.4444444444444444,
             "#bd3786"
            ],
            [
             0.5555555555555556,
             "#d8576b"
            ],
            [
             0.6666666666666666,
             "#ed7953"
            ],
            [
             0.7777777777777778,
             "#fb9f3a"
            ],
            [
             0.8888888888888888,
             "#fdca26"
            ],
            [
             1,
             "#f0f921"
            ]
           ],
           "sequentialminus": [
            [
             0,
             "#0d0887"
            ],
            [
             0.1111111111111111,
             "#46039f"
            ],
            [
             0.2222222222222222,
             "#7201a8"
            ],
            [
             0.3333333333333333,
             "#9c179e"
            ],
            [
             0.4444444444444444,
             "#bd3786"
            ],
            [
             0.5555555555555556,
             "#d8576b"
            ],
            [
             0.6666666666666666,
             "#ed7953"
            ],
            [
             0.7777777777777778,
             "#fb9f3a"
            ],
            [
             0.8888888888888888,
             "#fdca26"
            ],
            [
             1,
             "#f0f921"
            ]
           ]
          },
          "colorway": [
           "#636efa",
           "#EF553B",
           "#00cc96",
           "#ab63fa",
           "#FFA15A",
           "#19d3f3",
           "#FF6692",
           "#B6E880",
           "#FF97FF",
           "#FECB52"
          ],
          "font": {
           "color": "#2a3f5f"
          },
          "geo": {
           "bgcolor": "white",
           "lakecolor": "white",
           "landcolor": "#E5ECF6",
           "showlakes": true,
           "showland": true,
           "subunitcolor": "white"
          },
          "hoverlabel": {
           "align": "left"
          },
          "hovermode": "closest",
          "mapbox": {
           "style": "light"
          },
          "paper_bgcolor": "white",
          "plot_bgcolor": "#E5ECF6",
          "polar": {
           "angularaxis": {
            "gridcolor": "white",
            "linecolor": "white",
            "ticks": ""
           },
           "bgcolor": "#E5ECF6",
           "radialaxis": {
            "gridcolor": "white",
            "linecolor": "white",
            "ticks": ""
           }
          },
          "scene": {
           "xaxis": {
            "backgroundcolor": "#E5ECF6",
            "gridcolor": "white",
            "gridwidth": 2,
            "linecolor": "white",
            "showbackground": true,
            "ticks": "",
            "zerolinecolor": "white"
           },
           "yaxis": {
            "backgroundcolor": "#E5ECF6",
            "gridcolor": "white",
            "gridwidth": 2,
            "linecolor": "white",
            "showbackground": true,
            "ticks": "",
            "zerolinecolor": "white"
           },
           "zaxis": {
            "backgroundcolor": "#E5ECF6",
            "gridcolor": "white",
            "gridwidth": 2,
            "linecolor": "white",
            "showbackground": true,
            "ticks": "",
            "zerolinecolor": "white"
           }
          },
          "shapedefaults": {
           "line": {
            "color": "#2a3f5f"
           }
          },
          "ternary": {
           "aaxis": {
            "gridcolor": "white",
            "linecolor": "white",
            "ticks": ""
           },
           "baxis": {
            "gridcolor": "white",
            "linecolor": "white",
            "ticks": ""
           },
           "bgcolor": "#E5ECF6",
           "caxis": {
            "gridcolor": "white",
            "linecolor": "white",
            "ticks": ""
           }
          },
          "title": {
           "x": 0.05
          },
          "xaxis": {
           "automargin": true,
           "gridcolor": "white",
           "linecolor": "white",
           "ticks": "",
           "title": {
            "standoff": 15
           },
           "zerolinecolor": "white",
           "zerolinewidth": 2
          },
          "yaxis": {
           "automargin": true,
           "gridcolor": "white",
           "linecolor": "white",
           "ticks": "",
           "title": {
            "standoff": 15
           },
           "zerolinecolor": "white",
           "zerolinewidth": 2
          }
         }
        },
        "xaxis": {
         "anchor": "y",
         "constrain": "domain",
         "domain": [
          0,
          1
         ],
         "scaleanchor": "y",
         "title": {
          "text": "Second Feature Index"
         }
        },
        "yaxis": {
         "anchor": "x",
         "autorange": "reversed",
         "constrain": "domain",
         "domain": [
          0,
          1
         ],
         "title": {
          "text": "First Feature Index"
         }
        }
       }
      },
      "text/html": [
       "<div>                            <div id=\"a9770555-2d28-4b89-bac6-7afc652c6f41\" class=\"plotly-graph-div\" style=\"height:525px; width:100%;\"></div>            <script type=\"text/javascript\">                require([\"plotly\"], function(Plotly) {                    window.PLOTLYENV=window.PLOTLYENV || {};                                    if (document.getElementById(\"a9770555-2d28-4b89-bac6-7afc652c6f41\")) {                    Plotly.newPlot(                        \"a9770555-2d28-4b89-bac6-7afc652c6f41\",                        [{\"coloraxis\":\"coloraxis\",\"name\":\"0\",\"x\":[\"workclass\",\"fnlwgt\",\"education\",\"education-num\",\"marital-status\",\"occupation\",\"relationship\",\"race\",\"capital-gain\",\"capital-loss\",\"hours-per-week\",\"native-country\"],\"y\":[\"age\",\"workclass\",\"fnlwgt\",\"education\",\"education-num\",\"marital-status\",\"occupation\",\"relationship\",\"race\",\"capital-gain\",\"capital-loss\",\"hours-per-week\"],\"z\":[[1.7075725566688356,2.3603081980324725,2.407137433486746,0.48606393772498474,0.6578756920600557,2.1873676494540457,0.7069612091763349,null,2.984106373409039,5.972427975462937,2.781202548555949,2.135702972844542],[null,0.541880245997544,0.8533525903258673,0.07204266253050984,null,2.9286955933794343,0.7637404359892044,null,null,0.5288519063613747,1.0159840893472036,1.0563183731931538],[null,null,2.0067547597462565,1.332225233564545,1.05046381611355,0.15232870415994726,0.8597862800480381,0.6668853826699647,null,2.206260986691639,0.8587929771864786,0.35773196032204585],[null,null,null,1.3750045608260102,2.3551879502724278,1.6217814129986643,0.341509837571397,0.6595994467606545,1.0310385020324366,1.6288748143669367,0.28476041021199017,0.5415681313192996],[null,null,null,null,2.9130744067914236,0.6395213994937791,0.8971660111396853,0.5682247888276372,0.8495907712991869,null,0.427420620552497,null],[null,null,null,null,null,0.37968817407717803,3.5820076975919934,1.389562028384506,2.838435042136,1.5153682731978027,2.3755184621450773,null],[null,null,null,null,null,null,0.9583427400463674,0.3669268014734131,0.09365871496459317,1.4048918307233922,2.444757703501689,null],[null,null,null,null,null,null,null,0.8090096194407672,1.332788791837644,4.189715045703739,2.4002177285155764,0.5601063078039474],[null,null,null,null,null,null,null,null,1.835304516756096,1.6566748692034032,null,0.5148020122105554],[null,null,null,null,null,null,null,null,null,2.4585734049636723,0.2592483104015883,null],[null,null,null,null,null,null,null,null,null,null,1.9399023286212373,0.48640460228233817],[null,null,null,null,null,null,null,null,null,null,null,1.246577664217195]],\"type\":\"heatmap\",\"xaxis\":\"x\",\"yaxis\":\"y\",\"hovertemplate\":\"Second Feature Index: %{x}\\u003cbr\\u003eFirst Feature Index: %{y}\\u003cbr\\u003ecolor: %{z}\\u003cextra\\u003e\\u003c\\u002fextra\\u003e\"}],                        {\"template\":{\"data\":{\"histogram2dcontour\":[{\"type\":\"histogram2dcontour\",\"colorbar\":{\"outlinewidth\":0,\"ticks\":\"\"},\"colorscale\":[[0.0,\"#0d0887\"],[0.1111111111111111,\"#46039f\"],[0.2222222222222222,\"#7201a8\"],[0.3333333333333333,\"#9c179e\"],[0.4444444444444444,\"#bd3786\"],[0.5555555555555556,\"#d8576b\"],[0.6666666666666666,\"#ed7953\"],[0.7777777777777778,\"#fb9f3a\"],[0.8888888888888888,\"#fdca26\"],[1.0,\"#f0f921\"]]}],\"choropleth\":[{\"type\":\"choropleth\",\"colorbar\":{\"outlinewidth\":0,\"ticks\":\"\"}}],\"histogram2d\":[{\"type\":\"histogram2d\",\"colorbar\":{\"outlinewidth\":0,\"ticks\":\"\"},\"colorscale\":[[0.0,\"#0d0887\"],[0.1111111111111111,\"#46039f\"],[0.2222222222222222,\"#7201a8\"],[0.3333333333333333,\"#9c179e\"],[0.4444444444444444,\"#bd3786\"],[0.5555555555555556,\"#d8576b\"],[0.6666666666666666,\"#ed7953\"],[0.7777777777777778,\"#fb9f3a\"],[0.8888888888888888,\"#fdca26\"],[1.0,\"#f0f921\"]]}],\"heatmap\":[{\"type\":\"heatmap\",\"colorbar\":{\"outlinewidth\":0,\"ticks\":\"\"},\"colorscale\":[[0.0,\"#0d0887\"],[0.1111111111111111,\"#46039f\"],[0.2222222222222222,\"#7201a8\"],[0.3333333333333333,\"#9c179e\"],[0.4444444444444444,\"#bd3786\"],[0.5555555555555556,\"#d8576b\"],[0.6666666666666666,\"#ed7953\"],[0.7777777777777778,\"#fb9f3a\"],[0.8888888888888888,\"#fdca26\"],[1.0,\"#f0f921\"]]}],\"heatmapgl\":[{\"type\":\"heatmapgl\",\"colorbar\":{\"outlinewidth\":0,\"ticks\":\"\"},\"colorscale\":[[0.0,\"#0d0887\"],[0.1111111111111111,\"#46039f\"],[0.2222222222222222,\"#7201a8\"],[0.3333333333333333,\"#9c179e\"],[0.4444444444444444,\"#bd3786\"],[0.5555555555555556,\"#d8576b\"],[0.6666666666666666,\"#ed7953\"],[0.7777777777777778,\"#fb9f3a\"],[0.8888888888888888,\"#fdca26\"],[1.0,\"#f0f921\"]]}],\"contourcarpet\":[{\"type\":\"contourcarpet\",\"colorbar\":{\"outlinewidth\":0,\"ticks\":\"\"}}],\"contour\":[{\"type\":\"contour\",\"colorbar\":{\"outlinewidth\":0,\"ticks\":\"\"},\"colorscale\":[[0.0,\"#0d0887\"],[0.1111111111111111,\"#46039f\"],[0.2222222222222222,\"#7201a8\"],[0.3333333333333333,\"#9c179e\"],[0.4444444444444444,\"#bd3786\"],[0.5555555555555556,\"#d8576b\"],[0.6666666666666666,\"#ed7953\"],[0.7777777777777778,\"#fb9f3a\"],[0.8888888888888888,\"#fdca26\"],[1.0,\"#f0f921\"]]}],\"surface\":[{\"type\":\"surface\",\"colorbar\":{\"outlinewidth\":0,\"ticks\":\"\"},\"colorscale\":[[0.0,\"#0d0887\"],[0.1111111111111111,\"#46039f\"],[0.2222222222222222,\"#7201a8\"],[0.3333333333333333,\"#9c179e\"],[0.4444444444444444,\"#bd3786\"],[0.5555555555555556,\"#d8576b\"],[0.6666666666666666,\"#ed7953\"],[0.7777777777777778,\"#fb9f3a\"],[0.8888888888888888,\"#fdca26\"],[1.0,\"#f0f921\"]]}],\"mesh3d\":[{\"type\":\"mesh3d\",\"colorbar\":{\"outlinewidth\":0,\"ticks\":\"\"}}],\"scatter\":[{\"fillpattern\":{\"fillmode\":\"overlay\",\"size\":10,\"solidity\":0.2},\"type\":\"scatter\"}],\"parcoords\":[{\"type\":\"parcoords\",\"line\":{\"colorbar\":{\"outlinewidth\":0,\"ticks\":\"\"}}}],\"scatterpolargl\":[{\"type\":\"scatterpolargl\",\"marker\":{\"colorbar\":{\"outlinewidth\":0,\"ticks\":\"\"}}}],\"bar\":[{\"error_x\":{\"color\":\"#2a3f5f\"},\"error_y\":{\"color\":\"#2a3f5f\"},\"marker\":{\"line\":{\"color\":\"#E5ECF6\",\"width\":0.5},\"pattern\":{\"fillmode\":\"overlay\",\"size\":10,\"solidity\":0.2}},\"type\":\"bar\"}],\"scattergeo\":[{\"type\":\"scattergeo\",\"marker\":{\"colorbar\":{\"outlinewidth\":0,\"ticks\":\"\"}}}],\"scatterpolar\":[{\"type\":\"scatterpolar\",\"marker\":{\"colorbar\":{\"outlinewidth\":0,\"ticks\":\"\"}}}],\"histogram\":[{\"marker\":{\"pattern\":{\"fillmode\":\"overlay\",\"size\":10,\"solidity\":0.2}},\"type\":\"histogram\"}],\"scattergl\":[{\"type\":\"scattergl\",\"marker\":{\"colorbar\":{\"outlinewidth\":0,\"ticks\":\"\"}}}],\"scatter3d\":[{\"type\":\"scatter3d\",\"line\":{\"colorbar\":{\"outlinewidth\":0,\"ticks\":\"\"}},\"marker\":{\"colorbar\":{\"outlinewidth\":0,\"ticks\":\"\"}}}],\"scattermapbox\":[{\"type\":\"scattermapbox\",\"marker\":{\"colorbar\":{\"outlinewidth\":0,\"ticks\":\"\"}}}],\"scatterternary\":[{\"type\":\"scatterternary\",\"marker\":{\"colorbar\":{\"outlinewidth\":0,\"ticks\":\"\"}}}],\"scattercarpet\":[{\"type\":\"scattercarpet\",\"marker\":{\"colorbar\":{\"outlinewidth\":0,\"ticks\":\"\"}}}],\"carpet\":[{\"aaxis\":{\"endlinecolor\":\"#2a3f5f\",\"gridcolor\":\"white\",\"linecolor\":\"white\",\"minorgridcolor\":\"white\",\"startlinecolor\":\"#2a3f5f\"},\"baxis\":{\"endlinecolor\":\"#2a3f5f\",\"gridcolor\":\"white\",\"linecolor\":\"white\",\"minorgridcolor\":\"white\",\"startlinecolor\":\"#2a3f5f\"},\"type\":\"carpet\"}],\"table\":[{\"cells\":{\"fill\":{\"color\":\"#EBF0F8\"},\"line\":{\"color\":\"white\"}},\"header\":{\"fill\":{\"color\":\"#C8D4E3\"},\"line\":{\"color\":\"white\"}},\"type\":\"table\"}],\"barpolar\":[{\"marker\":{\"line\":{\"color\":\"#E5ECF6\",\"width\":0.5},\"pattern\":{\"fillmode\":\"overlay\",\"size\":10,\"solidity\":0.2}},\"type\":\"barpolar\"}],\"pie\":[{\"automargin\":true,\"type\":\"pie\"}]},\"layout\":{\"autotypenumbers\":\"strict\",\"colorway\":[\"#636efa\",\"#EF553B\",\"#00cc96\",\"#ab63fa\",\"#FFA15A\",\"#19d3f3\",\"#FF6692\",\"#B6E880\",\"#FF97FF\",\"#FECB52\"],\"font\":{\"color\":\"#2a3f5f\"},\"hovermode\":\"closest\",\"hoverlabel\":{\"align\":\"left\"},\"paper_bgcolor\":\"white\",\"plot_bgcolor\":\"#E5ECF6\",\"polar\":{\"bgcolor\":\"#E5ECF6\",\"angularaxis\":{\"gridcolor\":\"white\",\"linecolor\":\"white\",\"ticks\":\"\"},\"radialaxis\":{\"gridcolor\":\"white\",\"linecolor\":\"white\",\"ticks\":\"\"}},\"ternary\":{\"bgcolor\":\"#E5ECF6\",\"aaxis\":{\"gridcolor\":\"white\",\"linecolor\":\"white\",\"ticks\":\"\"},\"baxis\":{\"gridcolor\":\"white\",\"linecolor\":\"white\",\"ticks\":\"\"},\"caxis\":{\"gridcolor\":\"white\",\"linecolor\":\"white\",\"ticks\":\"\"}},\"coloraxis\":{\"colorbar\":{\"outlinewidth\":0,\"ticks\":\"\"}},\"colorscale\":{\"sequential\":[[0.0,\"#0d0887\"],[0.1111111111111111,\"#46039f\"],[0.2222222222222222,\"#7201a8\"],[0.3333333333333333,\"#9c179e\"],[0.4444444444444444,\"#bd3786\"],[0.5555555555555556,\"#d8576b\"],[0.6666666666666666,\"#ed7953\"],[0.7777777777777778,\"#fb9f3a\"],[0.8888888888888888,\"#fdca26\"],[1.0,\"#f0f921\"]],\"sequentialminus\":[[0.0,\"#0d0887\"],[0.1111111111111111,\"#46039f\"],[0.2222222222222222,\"#7201a8\"],[0.3333333333333333,\"#9c179e\"],[0.4444444444444444,\"#bd3786\"],[0.5555555555555556,\"#d8576b\"],[0.6666666666666666,\"#ed7953\"],[0.7777777777777778,\"#fb9f3a\"],[0.8888888888888888,\"#fdca26\"],[1.0,\"#f0f921\"]],\"diverging\":[[0,\"#8e0152\"],[0.1,\"#c51b7d\"],[0.2,\"#de77ae\"],[0.3,\"#f1b6da\"],[0.4,\"#fde0ef\"],[0.5,\"#f7f7f7\"],[0.6,\"#e6f5d0\"],[0.7,\"#b8e186\"],[0.8,\"#7fbc41\"],[0.9,\"#4d9221\"],[1,\"#276419\"]]},\"xaxis\":{\"gridcolor\":\"white\",\"linecolor\":\"white\",\"ticks\":\"\",\"title\":{\"standoff\":15},\"zerolinecolor\":\"white\",\"automargin\":true,\"zerolinewidth\":2},\"yaxis\":{\"gridcolor\":\"white\",\"linecolor\":\"white\",\"ticks\":\"\",\"title\":{\"standoff\":15},\"zerolinecolor\":\"white\",\"automargin\":true,\"zerolinewidth\":2},\"scene\":{\"xaxis\":{\"backgroundcolor\":\"#E5ECF6\",\"gridcolor\":\"white\",\"linecolor\":\"white\",\"showbackground\":true,\"ticks\":\"\",\"zerolinecolor\":\"white\",\"gridwidth\":2},\"yaxis\":{\"backgroundcolor\":\"#E5ECF6\",\"gridcolor\":\"white\",\"linecolor\":\"white\",\"showbackground\":true,\"ticks\":\"\",\"zerolinecolor\":\"white\",\"gridwidth\":2},\"zaxis\":{\"backgroundcolor\":\"#E5ECF6\",\"gridcolor\":\"white\",\"linecolor\":\"white\",\"showbackground\":true,\"ticks\":\"\",\"zerolinecolor\":\"white\",\"gridwidth\":2}},\"shapedefaults\":{\"line\":{\"color\":\"#2a3f5f\"}},\"annotationdefaults\":{\"arrowcolor\":\"#2a3f5f\",\"arrowhead\":0,\"arrowwidth\":1},\"geo\":{\"bgcolor\":\"white\",\"landcolor\":\"#E5ECF6\",\"subunitcolor\":\"white\",\"showland\":true,\"showlakes\":true,\"lakecolor\":\"white\"},\"title\":{\"x\":0.05},\"mapbox\":{\"style\":\"light\"}}},\"xaxis\":{\"anchor\":\"y\",\"domain\":[0.0,1.0],\"scaleanchor\":\"y\",\"constrain\":\"domain\",\"title\":{\"text\":\"Second Feature Index\"}},\"yaxis\":{\"anchor\":\"x\",\"domain\":[0.0,1.0],\"autorange\":\"reversed\",\"constrain\":\"domain\",\"title\":{\"text\":\"First Feature Index\"}},\"coloraxis\":{\"colorscale\":[[0.0,\"#0d0887\"],[0.1111111111111111,\"#46039f\"],[0.2222222222222222,\"#7201a8\"],[0.3333333333333333,\"#9c179e\"],[0.4444444444444444,\"#bd3786\"],[0.5555555555555556,\"#d8576b\"],[0.6666666666666666,\"#ed7953\"],[0.7777777777777778,\"#fb9f3a\"],[0.8888888888888888,\"#fdca26\"],[1.0,\"#f0f921\"]]},\"margin\":{\"t\":60}},                        {\"responsive\": true}                    ).then(function(){\n",
       "                            \n",
       "var gd = document.getElementById('a9770555-2d28-4b89-bac6-7afc652c6f41');\n",
       "var x = new MutationObserver(function (mutations, observer) {{\n",
       "        var display = window.getComputedStyle(gd).display;\n",
       "        if (!display || display === 'none') {{\n",
       "            console.log([gd, 'removed!']);\n",
       "            Plotly.purge(gd);\n",
       "            observer.disconnect();\n",
       "        }}\n",
       "}});\n",
       "\n",
       "// Listen for the removal of the full notebook cells\n",
       "var notebookContainer = gd.closest('#notebook-container');\n",
       "if (notebookContainer) {{\n",
       "    x.observe(notebookContainer, {childList: true});\n",
       "}}\n",
       "\n",
       "// Listen for the clearing of the current output cell\n",
       "var outputEl = gd.closest('.output');\n",
       "if (outputEl) {{\n",
       "    x.observe(outputEl, {childList: true});\n",
       "}}\n",
       "\n",
       "                        })                };                });            </script>        </div>"
      ]
     },
     "metadata": {},
     "output_type": "display_data"
    }
   ],
   "source": [
    "px.imshow(crosstab, x = crosstab.columns.map(dict_names),y =crosstab.index.map(dict_names))"
   ]
  },
  {
   "cell_type": "code",
   "execution_count": 41,
   "id": "e42ecad5-ac97-40e3-a0c9-5054bb2fa2ff",
   "metadata": {},
   "outputs": [],
   "source": [
    "from sklearn.inspection import permutation_importance\n",
    "r = permutation_importance(bst, X_test, y_test,\n",
    "                           n_repeats=30,\n",
    "                           random_state=0)"
   ]
  },
  {
   "cell_type": "code",
   "execution_count": 42,
   "id": "b0656504-c6c6-465b-899e-9aa6c9dbf276",
   "metadata": {},
   "outputs": [],
   "source": [
    "importances = [[y, x] for x,y in zip(r['importances_mean'], X_test.columns)]"
   ]
  },
  {
   "cell_type": "code",
   "execution_count": 43,
   "id": "3fac370c-069e-46d3-b033-e1444359d7de",
   "metadata": {},
   "outputs": [],
   "source": [
    "importances.sort(key = lambda x: x[1])"
   ]
  },
  {
   "cell_type": "code",
   "execution_count": 44,
   "id": "bc94af4f-75f1-4d2a-bd30-f62190d3ab68",
   "metadata": {},
   "outputs": [],
   "source": [
    "importances= np.transpose(importances)"
   ]
  },
  {
   "cell_type": "code",
   "execution_count": 45,
   "id": "8bb12e31-cf95-49eb-942c-ac375755e979",
   "metadata": {},
   "outputs": [
    {
     "data": {
      "application/vnd.plotly.v1+json": {
       "config": {
        "plotlyServerURL": "https://plot.ly"
       },
       "data": [
        {
         "alignmentgroup": "True",
         "bingroup": "y",
         "histfunc": "sum",
         "hovertemplate": "sum of x=%{x}<br>y=%{y}<extra></extra>",
         "legendgroup": "",
         "marker": {
          "color": "#636efa",
          "pattern": {
           "shape": ""
          }
         },
         "name": "",
         "offsetgroup": "",
         "orientation": "h",
         "showlegend": false,
         "type": "histogram",
         "x": [
          "4.0945849114507976e-05",
          "0.0002252021701299678",
          "0.0012488483979936035",
          "0.001272733476643765",
          "0.0012761456307366506",
          "0.0025830006483092455",
          "0.007530624082983547",
          "0.008093629508308553",
          "0.015375166342511992",
          "0.015784624833657453",
          "0.016149725321595473",
          "0.03762923533626775",
          "0.04309891834715252",
          "0.050435049646842006"
         ],
         "xaxis": "x",
         "y": [
          "race",
          "native-country",
          "sex",
          "education",
          "fnlwgt",
          "workclass",
          "hours-per-week",
          "marital-status",
          "capital-loss",
          "age",
          "occupation",
          "education-num",
          "relationship",
          "capital-gain"
         ],
         "yaxis": "y"
        }
       ],
       "layout": {
        "barmode": "relative",
        "legend": {
         "tracegroupgap": 0
        },
        "margin": {
         "t": 60
        },
        "template": {
         "data": {
          "bar": [
           {
            "error_x": {
             "color": "#2a3f5f"
            },
            "error_y": {
             "color": "#2a3f5f"
            },
            "marker": {
             "line": {
              "color": "#E5ECF6",
              "width": 0.5
             },
             "pattern": {
              "fillmode": "overlay",
              "size": 10,
              "solidity": 0.2
             }
            },
            "type": "bar"
           }
          ],
          "barpolar": [
           {
            "marker": {
             "line": {
              "color": "#E5ECF6",
              "width": 0.5
             },
             "pattern": {
              "fillmode": "overlay",
              "size": 10,
              "solidity": 0.2
             }
            },
            "type": "barpolar"
           }
          ],
          "carpet": [
           {
            "aaxis": {
             "endlinecolor": "#2a3f5f",
             "gridcolor": "white",
             "linecolor": "white",
             "minorgridcolor": "white",
             "startlinecolor": "#2a3f5f"
            },
            "baxis": {
             "endlinecolor": "#2a3f5f",
             "gridcolor": "white",
             "linecolor": "white",
             "minorgridcolor": "white",
             "startlinecolor": "#2a3f5f"
            },
            "type": "carpet"
           }
          ],
          "choropleth": [
           {
            "colorbar": {
             "outlinewidth": 0,
             "ticks": ""
            },
            "type": "choropleth"
           }
          ],
          "contour": [
           {
            "colorbar": {
             "outlinewidth": 0,
             "ticks": ""
            },
            "colorscale": [
             [
              0,
              "#0d0887"
             ],
             [
              0.1111111111111111,
              "#46039f"
             ],
             [
              0.2222222222222222,
              "#7201a8"
             ],
             [
              0.3333333333333333,
              "#9c179e"
             ],
             [
              0.4444444444444444,
              "#bd3786"
             ],
             [
              0.5555555555555556,
              "#d8576b"
             ],
             [
              0.6666666666666666,
              "#ed7953"
             ],
             [
              0.7777777777777778,
              "#fb9f3a"
             ],
             [
              0.8888888888888888,
              "#fdca26"
             ],
             [
              1,
              "#f0f921"
             ]
            ],
            "type": "contour"
           }
          ],
          "contourcarpet": [
           {
            "colorbar": {
             "outlinewidth": 0,
             "ticks": ""
            },
            "type": "contourcarpet"
           }
          ],
          "heatmap": [
           {
            "colorbar": {
             "outlinewidth": 0,
             "ticks": ""
            },
            "colorscale": [
             [
              0,
              "#0d0887"
             ],
             [
              0.1111111111111111,
              "#46039f"
             ],
             [
              0.2222222222222222,
              "#7201a8"
             ],
             [
              0.3333333333333333,
              "#9c179e"
             ],
             [
              0.4444444444444444,
              "#bd3786"
             ],
             [
              0.5555555555555556,
              "#d8576b"
             ],
             [
              0.6666666666666666,
              "#ed7953"
             ],
             [
              0.7777777777777778,
              "#fb9f3a"
             ],
             [
              0.8888888888888888,
              "#fdca26"
             ],
             [
              1,
              "#f0f921"
             ]
            ],
            "type": "heatmap"
           }
          ],
          "heatmapgl": [
           {
            "colorbar": {
             "outlinewidth": 0,
             "ticks": ""
            },
            "colorscale": [
             [
              0,
              "#0d0887"
             ],
             [
              0.1111111111111111,
              "#46039f"
             ],
             [
              0.2222222222222222,
              "#7201a8"
             ],
             [
              0.3333333333333333,
              "#9c179e"
             ],
             [
              0.4444444444444444,
              "#bd3786"
             ],
             [
              0.5555555555555556,
              "#d8576b"
             ],
             [
              0.6666666666666666,
              "#ed7953"
             ],
             [
              0.7777777777777778,
              "#fb9f3a"
             ],
             [
              0.8888888888888888,
              "#fdca26"
             ],
             [
              1,
              "#f0f921"
             ]
            ],
            "type": "heatmapgl"
           }
          ],
          "histogram": [
           {
            "marker": {
             "pattern": {
              "fillmode": "overlay",
              "size": 10,
              "solidity": 0.2
             }
            },
            "type": "histogram"
           }
          ],
          "histogram2d": [
           {
            "colorbar": {
             "outlinewidth": 0,
             "ticks": ""
            },
            "colorscale": [
             [
              0,
              "#0d0887"
             ],
             [
              0.1111111111111111,
              "#46039f"
             ],
             [
              0.2222222222222222,
              "#7201a8"
             ],
             [
              0.3333333333333333,
              "#9c179e"
             ],
             [
              0.4444444444444444,
              "#bd3786"
             ],
             [
              0.5555555555555556,
              "#d8576b"
             ],
             [
              0.6666666666666666,
              "#ed7953"
             ],
             [
              0.7777777777777778,
              "#fb9f3a"
             ],
             [
              0.8888888888888888,
              "#fdca26"
             ],
             [
              1,
              "#f0f921"
             ]
            ],
            "type": "histogram2d"
           }
          ],
          "histogram2dcontour": [
           {
            "colorbar": {
             "outlinewidth": 0,
             "ticks": ""
            },
            "colorscale": [
             [
              0,
              "#0d0887"
             ],
             [
              0.1111111111111111,
              "#46039f"
             ],
             [
              0.2222222222222222,
              "#7201a8"
             ],
             [
              0.3333333333333333,
              "#9c179e"
             ],
             [
              0.4444444444444444,
              "#bd3786"
             ],
             [
              0.5555555555555556,
              "#d8576b"
             ],
             [
              0.6666666666666666,
              "#ed7953"
             ],
             [
              0.7777777777777778,
              "#fb9f3a"
             ],
             [
              0.8888888888888888,
              "#fdca26"
             ],
             [
              1,
              "#f0f921"
             ]
            ],
            "type": "histogram2dcontour"
           }
          ],
          "mesh3d": [
           {
            "colorbar": {
             "outlinewidth": 0,
             "ticks": ""
            },
            "type": "mesh3d"
           }
          ],
          "parcoords": [
           {
            "line": {
             "colorbar": {
              "outlinewidth": 0,
              "ticks": ""
             }
            },
            "type": "parcoords"
           }
          ],
          "pie": [
           {
            "automargin": true,
            "type": "pie"
           }
          ],
          "scatter": [
           {
            "fillpattern": {
             "fillmode": "overlay",
             "size": 10,
             "solidity": 0.2
            },
            "type": "scatter"
           }
          ],
          "scatter3d": [
           {
            "line": {
             "colorbar": {
              "outlinewidth": 0,
              "ticks": ""
             }
            },
            "marker": {
             "colorbar": {
              "outlinewidth": 0,
              "ticks": ""
             }
            },
            "type": "scatter3d"
           }
          ],
          "scattercarpet": [
           {
            "marker": {
             "colorbar": {
              "outlinewidth": 0,
              "ticks": ""
             }
            },
            "type": "scattercarpet"
           }
          ],
          "scattergeo": [
           {
            "marker": {
             "colorbar": {
              "outlinewidth": 0,
              "ticks": ""
             }
            },
            "type": "scattergeo"
           }
          ],
          "scattergl": [
           {
            "marker": {
             "colorbar": {
              "outlinewidth": 0,
              "ticks": ""
             }
            },
            "type": "scattergl"
           }
          ],
          "scattermapbox": [
           {
            "marker": {
             "colorbar": {
              "outlinewidth": 0,
              "ticks": ""
             }
            },
            "type": "scattermapbox"
           }
          ],
          "scatterpolar": [
           {
            "marker": {
             "colorbar": {
              "outlinewidth": 0,
              "ticks": ""
             }
            },
            "type": "scatterpolar"
           }
          ],
          "scatterpolargl": [
           {
            "marker": {
             "colorbar": {
              "outlinewidth": 0,
              "ticks": ""
             }
            },
            "type": "scatterpolargl"
           }
          ],
          "scatterternary": [
           {
            "marker": {
             "colorbar": {
              "outlinewidth": 0,
              "ticks": ""
             }
            },
            "type": "scatterternary"
           }
          ],
          "surface": [
           {
            "colorbar": {
             "outlinewidth": 0,
             "ticks": ""
            },
            "colorscale": [
             [
              0,
              "#0d0887"
             ],
             [
              0.1111111111111111,
              "#46039f"
             ],
             [
              0.2222222222222222,
              "#7201a8"
             ],
             [
              0.3333333333333333,
              "#9c179e"
             ],
             [
              0.4444444444444444,
              "#bd3786"
             ],
             [
              0.5555555555555556,
              "#d8576b"
             ],
             [
              0.6666666666666666,
              "#ed7953"
             ],
             [
              0.7777777777777778,
              "#fb9f3a"
             ],
             [
              0.8888888888888888,
              "#fdca26"
             ],
             [
              1,
              "#f0f921"
             ]
            ],
            "type": "surface"
           }
          ],
          "table": [
           {
            "cells": {
             "fill": {
              "color": "#EBF0F8"
             },
             "line": {
              "color": "white"
             }
            },
            "header": {
             "fill": {
              "color": "#C8D4E3"
             },
             "line": {
              "color": "white"
             }
            },
            "type": "table"
           }
          ]
         },
         "layout": {
          "annotationdefaults": {
           "arrowcolor": "#2a3f5f",
           "arrowhead": 0,
           "arrowwidth": 1
          },
          "autotypenumbers": "strict",
          "coloraxis": {
           "colorbar": {
            "outlinewidth": 0,
            "ticks": ""
           }
          },
          "colorscale": {
           "diverging": [
            [
             0,
             "#8e0152"
            ],
            [
             0.1,
             "#c51b7d"
            ],
            [
             0.2,
             "#de77ae"
            ],
            [
             0.3,
             "#f1b6da"
            ],
            [
             0.4,
             "#fde0ef"
            ],
            [
             0.5,
             "#f7f7f7"
            ],
            [
             0.6,
             "#e6f5d0"
            ],
            [
             0.7,
             "#b8e186"
            ],
            [
             0.8,
             "#7fbc41"
            ],
            [
             0.9,
             "#4d9221"
            ],
            [
             1,
             "#276419"
            ]
           ],
           "sequential": [
            [
             0,
             "#0d0887"
            ],
            [
             0.1111111111111111,
             "#46039f"
            ],
            [
             0.2222222222222222,
             "#7201a8"
            ],
            [
             0.3333333333333333,
             "#9c179e"
            ],
            [
             0.4444444444444444,
             "#bd3786"
            ],
            [
             0.5555555555555556,
             "#d8576b"
            ],
            [
             0.6666666666666666,
             "#ed7953"
            ],
            [
             0.7777777777777778,
             "#fb9f3a"
            ],
            [
             0.8888888888888888,
             "#fdca26"
            ],
            [
             1,
             "#f0f921"
            ]
           ],
           "sequentialminus": [
            [
             0,
             "#0d0887"
            ],
            [
             0.1111111111111111,
             "#46039f"
            ],
            [
             0.2222222222222222,
             "#7201a8"
            ],
            [
             0.3333333333333333,
             "#9c179e"
            ],
            [
             0.4444444444444444,
             "#bd3786"
            ],
            [
             0.5555555555555556,
             "#d8576b"
            ],
            [
             0.6666666666666666,
             "#ed7953"
            ],
            [
             0.7777777777777778,
             "#fb9f3a"
            ],
            [
             0.8888888888888888,
             "#fdca26"
            ],
            [
             1,
             "#f0f921"
            ]
           ]
          },
          "colorway": [
           "#636efa",
           "#EF553B",
           "#00cc96",
           "#ab63fa",
           "#FFA15A",
           "#19d3f3",
           "#FF6692",
           "#B6E880",
           "#FF97FF",
           "#FECB52"
          ],
          "font": {
           "color": "#2a3f5f"
          },
          "geo": {
           "bgcolor": "white",
           "lakecolor": "white",
           "landcolor": "#E5ECF6",
           "showlakes": true,
           "showland": true,
           "subunitcolor": "white"
          },
          "hoverlabel": {
           "align": "left"
          },
          "hovermode": "closest",
          "mapbox": {
           "style": "light"
          },
          "paper_bgcolor": "white",
          "plot_bgcolor": "#E5ECF6",
          "polar": {
           "angularaxis": {
            "gridcolor": "white",
            "linecolor": "white",
            "ticks": ""
           },
           "bgcolor": "#E5ECF6",
           "radialaxis": {
            "gridcolor": "white",
            "linecolor": "white",
            "ticks": ""
           }
          },
          "scene": {
           "xaxis": {
            "backgroundcolor": "#E5ECF6",
            "gridcolor": "white",
            "gridwidth": 2,
            "linecolor": "white",
            "showbackground": true,
            "ticks": "",
            "zerolinecolor": "white"
           },
           "yaxis": {
            "backgroundcolor": "#E5ECF6",
            "gridcolor": "white",
            "gridwidth": 2,
            "linecolor": "white",
            "showbackground": true,
            "ticks": "",
            "zerolinecolor": "white"
           },
           "zaxis": {
            "backgroundcolor": "#E5ECF6",
            "gridcolor": "white",
            "gridwidth": 2,
            "linecolor": "white",
            "showbackground": true,
            "ticks": "",
            "zerolinecolor": "white"
           }
          },
          "shapedefaults": {
           "line": {
            "color": "#2a3f5f"
           }
          },
          "ternary": {
           "aaxis": {
            "gridcolor": "white",
            "linecolor": "white",
            "ticks": ""
           },
           "baxis": {
            "gridcolor": "white",
            "linecolor": "white",
            "ticks": ""
           },
           "bgcolor": "#E5ECF6",
           "caxis": {
            "gridcolor": "white",
            "linecolor": "white",
            "ticks": ""
           }
          },
          "title": {
           "x": 0.05
          },
          "xaxis": {
           "automargin": true,
           "gridcolor": "white",
           "linecolor": "white",
           "ticks": "",
           "title": {
            "standoff": 15
           },
           "zerolinecolor": "white",
           "zerolinewidth": 2
          },
          "yaxis": {
           "automargin": true,
           "gridcolor": "white",
           "linecolor": "white",
           "ticks": "",
           "title": {
            "standoff": 15
           },
           "zerolinecolor": "white",
           "zerolinewidth": 2
          }
         }
        },
        "xaxis": {
         "anchor": "y",
         "domain": [
          0,
          1
         ],
         "title": {
          "text": "sum of x"
         }
        },
        "yaxis": {
         "anchor": "x",
         "domain": [
          0,
          1
         ],
         "title": {
          "text": "y"
         }
        }
       }
      },
      "text/html": [
       "<div>                            <div id=\"03828efd-5953-42c5-a7e7-3a049eafa883\" class=\"plotly-graph-div\" style=\"height:525px; width:100%;\"></div>            <script type=\"text/javascript\">                require([\"plotly\"], function(Plotly) {                    window.PLOTLYENV=window.PLOTLYENV || {};                                    if (document.getElementById(\"03828efd-5953-42c5-a7e7-3a049eafa883\")) {                    Plotly.newPlot(                        \"03828efd-5953-42c5-a7e7-3a049eafa883\",                        [{\"alignmentgroup\":\"True\",\"bingroup\":\"y\",\"histfunc\":\"sum\",\"hovertemplate\":\"sum of x=%{x}\\u003cbr\\u003ey=%{y}\\u003cextra\\u003e\\u003c\\u002fextra\\u003e\",\"legendgroup\":\"\",\"marker\":{\"color\":\"#636efa\",\"pattern\":{\"shape\":\"\"}},\"name\":\"\",\"offsetgroup\":\"\",\"orientation\":\"h\",\"showlegend\":false,\"x\":[\"4.0945849114507976e-05\",\"0.0002252021701299678\",\"0.0012488483979936035\",\"0.001272733476643765\",\"0.0012761456307366506\",\"0.0025830006483092455\",\"0.007530624082983547\",\"0.008093629508308553\",\"0.015375166342511992\",\"0.015784624833657453\",\"0.016149725321595473\",\"0.03762923533626775\",\"0.04309891834715252\",\"0.050435049646842006\"],\"xaxis\":\"x\",\"y\":[\"race\",\"native-country\",\"sex\",\"education\",\"fnlwgt\",\"workclass\",\"hours-per-week\",\"marital-status\",\"capital-loss\",\"age\",\"occupation\",\"education-num\",\"relationship\",\"capital-gain\"],\"yaxis\":\"y\",\"type\":\"histogram\"}],                        {\"template\":{\"data\":{\"histogram2dcontour\":[{\"type\":\"histogram2dcontour\",\"colorbar\":{\"outlinewidth\":0,\"ticks\":\"\"},\"colorscale\":[[0.0,\"#0d0887\"],[0.1111111111111111,\"#46039f\"],[0.2222222222222222,\"#7201a8\"],[0.3333333333333333,\"#9c179e\"],[0.4444444444444444,\"#bd3786\"],[0.5555555555555556,\"#d8576b\"],[0.6666666666666666,\"#ed7953\"],[0.7777777777777778,\"#fb9f3a\"],[0.8888888888888888,\"#fdca26\"],[1.0,\"#f0f921\"]]}],\"choropleth\":[{\"type\":\"choropleth\",\"colorbar\":{\"outlinewidth\":0,\"ticks\":\"\"}}],\"histogram2d\":[{\"type\":\"histogram2d\",\"colorbar\":{\"outlinewidth\":0,\"ticks\":\"\"},\"colorscale\":[[0.0,\"#0d0887\"],[0.1111111111111111,\"#46039f\"],[0.2222222222222222,\"#7201a8\"],[0.3333333333333333,\"#9c179e\"],[0.4444444444444444,\"#bd3786\"],[0.5555555555555556,\"#d8576b\"],[0.6666666666666666,\"#ed7953\"],[0.7777777777777778,\"#fb9f3a\"],[0.8888888888888888,\"#fdca26\"],[1.0,\"#f0f921\"]]}],\"heatmap\":[{\"type\":\"heatmap\",\"colorbar\":{\"outlinewidth\":0,\"ticks\":\"\"},\"colorscale\":[[0.0,\"#0d0887\"],[0.1111111111111111,\"#46039f\"],[0.2222222222222222,\"#7201a8\"],[0.3333333333333333,\"#9c179e\"],[0.4444444444444444,\"#bd3786\"],[0.5555555555555556,\"#d8576b\"],[0.6666666666666666,\"#ed7953\"],[0.7777777777777778,\"#fb9f3a\"],[0.8888888888888888,\"#fdca26\"],[1.0,\"#f0f921\"]]}],\"heatmapgl\":[{\"type\":\"heatmapgl\",\"colorbar\":{\"outlinewidth\":0,\"ticks\":\"\"},\"colorscale\":[[0.0,\"#0d0887\"],[0.1111111111111111,\"#46039f\"],[0.2222222222222222,\"#7201a8\"],[0.3333333333333333,\"#9c179e\"],[0.4444444444444444,\"#bd3786\"],[0.5555555555555556,\"#d8576b\"],[0.6666666666666666,\"#ed7953\"],[0.7777777777777778,\"#fb9f3a\"],[0.8888888888888888,\"#fdca26\"],[1.0,\"#f0f921\"]]}],\"contourcarpet\":[{\"type\":\"contourcarpet\",\"colorbar\":{\"outlinewidth\":0,\"ticks\":\"\"}}],\"contour\":[{\"type\":\"contour\",\"colorbar\":{\"outlinewidth\":0,\"ticks\":\"\"},\"colorscale\":[[0.0,\"#0d0887\"],[0.1111111111111111,\"#46039f\"],[0.2222222222222222,\"#7201a8\"],[0.3333333333333333,\"#9c179e\"],[0.4444444444444444,\"#bd3786\"],[0.5555555555555556,\"#d8576b\"],[0.6666666666666666,\"#ed7953\"],[0.7777777777777778,\"#fb9f3a\"],[0.8888888888888888,\"#fdca26\"],[1.0,\"#f0f921\"]]}],\"surface\":[{\"type\":\"surface\",\"colorbar\":{\"outlinewidth\":0,\"ticks\":\"\"},\"colorscale\":[[0.0,\"#0d0887\"],[0.1111111111111111,\"#46039f\"],[0.2222222222222222,\"#7201a8\"],[0.3333333333333333,\"#9c179e\"],[0.4444444444444444,\"#bd3786\"],[0.5555555555555556,\"#d8576b\"],[0.6666666666666666,\"#ed7953\"],[0.7777777777777778,\"#fb9f3a\"],[0.8888888888888888,\"#fdca26\"],[1.0,\"#f0f921\"]]}],\"mesh3d\":[{\"type\":\"mesh3d\",\"colorbar\":{\"outlinewidth\":0,\"ticks\":\"\"}}],\"scatter\":[{\"fillpattern\":{\"fillmode\":\"overlay\",\"size\":10,\"solidity\":0.2},\"type\":\"scatter\"}],\"parcoords\":[{\"type\":\"parcoords\",\"line\":{\"colorbar\":{\"outlinewidth\":0,\"ticks\":\"\"}}}],\"scatterpolargl\":[{\"type\":\"scatterpolargl\",\"marker\":{\"colorbar\":{\"outlinewidth\":0,\"ticks\":\"\"}}}],\"bar\":[{\"error_x\":{\"color\":\"#2a3f5f\"},\"error_y\":{\"color\":\"#2a3f5f\"},\"marker\":{\"line\":{\"color\":\"#E5ECF6\",\"width\":0.5},\"pattern\":{\"fillmode\":\"overlay\",\"size\":10,\"solidity\":0.2}},\"type\":\"bar\"}],\"scattergeo\":[{\"type\":\"scattergeo\",\"marker\":{\"colorbar\":{\"outlinewidth\":0,\"ticks\":\"\"}}}],\"scatterpolar\":[{\"type\":\"scatterpolar\",\"marker\":{\"colorbar\":{\"outlinewidth\":0,\"ticks\":\"\"}}}],\"histogram\":[{\"marker\":{\"pattern\":{\"fillmode\":\"overlay\",\"size\":10,\"solidity\":0.2}},\"type\":\"histogram\"}],\"scattergl\":[{\"type\":\"scattergl\",\"marker\":{\"colorbar\":{\"outlinewidth\":0,\"ticks\":\"\"}}}],\"scatter3d\":[{\"type\":\"scatter3d\",\"line\":{\"colorbar\":{\"outlinewidth\":0,\"ticks\":\"\"}},\"marker\":{\"colorbar\":{\"outlinewidth\":0,\"ticks\":\"\"}}}],\"scattermapbox\":[{\"type\":\"scattermapbox\",\"marker\":{\"colorbar\":{\"outlinewidth\":0,\"ticks\":\"\"}}}],\"scatterternary\":[{\"type\":\"scatterternary\",\"marker\":{\"colorbar\":{\"outlinewidth\":0,\"ticks\":\"\"}}}],\"scattercarpet\":[{\"type\":\"scattercarpet\",\"marker\":{\"colorbar\":{\"outlinewidth\":0,\"ticks\":\"\"}}}],\"carpet\":[{\"aaxis\":{\"endlinecolor\":\"#2a3f5f\",\"gridcolor\":\"white\",\"linecolor\":\"white\",\"minorgridcolor\":\"white\",\"startlinecolor\":\"#2a3f5f\"},\"baxis\":{\"endlinecolor\":\"#2a3f5f\",\"gridcolor\":\"white\",\"linecolor\":\"white\",\"minorgridcolor\":\"white\",\"startlinecolor\":\"#2a3f5f\"},\"type\":\"carpet\"}],\"table\":[{\"cells\":{\"fill\":{\"color\":\"#EBF0F8\"},\"line\":{\"color\":\"white\"}},\"header\":{\"fill\":{\"color\":\"#C8D4E3\"},\"line\":{\"color\":\"white\"}},\"type\":\"table\"}],\"barpolar\":[{\"marker\":{\"line\":{\"color\":\"#E5ECF6\",\"width\":0.5},\"pattern\":{\"fillmode\":\"overlay\",\"size\":10,\"solidity\":0.2}},\"type\":\"barpolar\"}],\"pie\":[{\"automargin\":true,\"type\":\"pie\"}]},\"layout\":{\"autotypenumbers\":\"strict\",\"colorway\":[\"#636efa\",\"#EF553B\",\"#00cc96\",\"#ab63fa\",\"#FFA15A\",\"#19d3f3\",\"#FF6692\",\"#B6E880\",\"#FF97FF\",\"#FECB52\"],\"font\":{\"color\":\"#2a3f5f\"},\"hovermode\":\"closest\",\"hoverlabel\":{\"align\":\"left\"},\"paper_bgcolor\":\"white\",\"plot_bgcolor\":\"#E5ECF6\",\"polar\":{\"bgcolor\":\"#E5ECF6\",\"angularaxis\":{\"gridcolor\":\"white\",\"linecolor\":\"white\",\"ticks\":\"\"},\"radialaxis\":{\"gridcolor\":\"white\",\"linecolor\":\"white\",\"ticks\":\"\"}},\"ternary\":{\"bgcolor\":\"#E5ECF6\",\"aaxis\":{\"gridcolor\":\"white\",\"linecolor\":\"white\",\"ticks\":\"\"},\"baxis\":{\"gridcolor\":\"white\",\"linecolor\":\"white\",\"ticks\":\"\"},\"caxis\":{\"gridcolor\":\"white\",\"linecolor\":\"white\",\"ticks\":\"\"}},\"coloraxis\":{\"colorbar\":{\"outlinewidth\":0,\"ticks\":\"\"}},\"colorscale\":{\"sequential\":[[0.0,\"#0d0887\"],[0.1111111111111111,\"#46039f\"],[0.2222222222222222,\"#7201a8\"],[0.3333333333333333,\"#9c179e\"],[0.4444444444444444,\"#bd3786\"],[0.5555555555555556,\"#d8576b\"],[0.6666666666666666,\"#ed7953\"],[0.7777777777777778,\"#fb9f3a\"],[0.8888888888888888,\"#fdca26\"],[1.0,\"#f0f921\"]],\"sequentialminus\":[[0.0,\"#0d0887\"],[0.1111111111111111,\"#46039f\"],[0.2222222222222222,\"#7201a8\"],[0.3333333333333333,\"#9c179e\"],[0.4444444444444444,\"#bd3786\"],[0.5555555555555556,\"#d8576b\"],[0.6666666666666666,\"#ed7953\"],[0.7777777777777778,\"#fb9f3a\"],[0.8888888888888888,\"#fdca26\"],[1.0,\"#f0f921\"]],\"diverging\":[[0,\"#8e0152\"],[0.1,\"#c51b7d\"],[0.2,\"#de77ae\"],[0.3,\"#f1b6da\"],[0.4,\"#fde0ef\"],[0.5,\"#f7f7f7\"],[0.6,\"#e6f5d0\"],[0.7,\"#b8e186\"],[0.8,\"#7fbc41\"],[0.9,\"#4d9221\"],[1,\"#276419\"]]},\"xaxis\":{\"gridcolor\":\"white\",\"linecolor\":\"white\",\"ticks\":\"\",\"title\":{\"standoff\":15},\"zerolinecolor\":\"white\",\"automargin\":true,\"zerolinewidth\":2},\"yaxis\":{\"gridcolor\":\"white\",\"linecolor\":\"white\",\"ticks\":\"\",\"title\":{\"standoff\":15},\"zerolinecolor\":\"white\",\"automargin\":true,\"zerolinewidth\":2},\"scene\":{\"xaxis\":{\"backgroundcolor\":\"#E5ECF6\",\"gridcolor\":\"white\",\"linecolor\":\"white\",\"showbackground\":true,\"ticks\":\"\",\"zerolinecolor\":\"white\",\"gridwidth\":2},\"yaxis\":{\"backgroundcolor\":\"#E5ECF6\",\"gridcolor\":\"white\",\"linecolor\":\"white\",\"showbackground\":true,\"ticks\":\"\",\"zerolinecolor\":\"white\",\"gridwidth\":2},\"zaxis\":{\"backgroundcolor\":\"#E5ECF6\",\"gridcolor\":\"white\",\"linecolor\":\"white\",\"showbackground\":true,\"ticks\":\"\",\"zerolinecolor\":\"white\",\"gridwidth\":2}},\"shapedefaults\":{\"line\":{\"color\":\"#2a3f5f\"}},\"annotationdefaults\":{\"arrowcolor\":\"#2a3f5f\",\"arrowhead\":0,\"arrowwidth\":1},\"geo\":{\"bgcolor\":\"white\",\"landcolor\":\"#E5ECF6\",\"subunitcolor\":\"white\",\"showland\":true,\"showlakes\":true,\"lakecolor\":\"white\"},\"title\":{\"x\":0.05},\"mapbox\":{\"style\":\"light\"}}},\"xaxis\":{\"anchor\":\"y\",\"domain\":[0.0,1.0],\"title\":{\"text\":\"sum of x\"}},\"yaxis\":{\"anchor\":\"x\",\"domain\":[0.0,1.0],\"title\":{\"text\":\"y\"}},\"legend\":{\"tracegroupgap\":0},\"margin\":{\"t\":60},\"barmode\":\"relative\"},                        {\"responsive\": true}                    ).then(function(){\n",
       "                            \n",
       "var gd = document.getElementById('03828efd-5953-42c5-a7e7-3a049eafa883');\n",
       "var x = new MutationObserver(function (mutations, observer) {{\n",
       "        var display = window.getComputedStyle(gd).display;\n",
       "        if (!display || display === 'none') {{\n",
       "            console.log([gd, 'removed!']);\n",
       "            Plotly.purge(gd);\n",
       "            observer.disconnect();\n",
       "        }}\n",
       "}});\n",
       "\n",
       "// Listen for the removal of the full notebook cells\n",
       "var notebookContainer = gd.closest('#notebook-container');\n",
       "if (notebookContainer) {{\n",
       "    x.observe(notebookContainer, {childList: true});\n",
       "}}\n",
       "\n",
       "// Listen for the clearing of the current output cell\n",
       "var outputEl = gd.closest('.output');\n",
       "if (outputEl) {{\n",
       "    x.observe(outputEl, {childList: true});\n",
       "}}\n",
       "\n",
       "                        })                };                });            </script>        </div>"
      ]
     },
     "metadata": {},
     "output_type": "display_data"
    }
   ],
   "source": [
    "px.histogram(y = importances[0], x = importances[1], orientation = 'h')"
   ]
  },
  {
   "cell_type": "markdown",
   "id": "438f074f",
   "metadata": {},
   "source": [
    "#### Библиотека shap"
   ]
  },
  {
   "cell_type": "code",
   "execution_count": null,
   "id": "51a34149",
   "metadata": {},
   "outputs": [],
   "source": [
    "!pip install --upgrade numpy"
   ]
  },
  {
   "cell_type": "code",
   "execution_count": 49,
   "id": "99f415a0",
   "metadata": {},
   "outputs": [
    {
     "name": "stdout",
     "output_type": "stream",
     "text": [
      "Requirement already satisfied: shap in c:\\perflogs\\lib\\site-packages (0.45.0)\n",
      "Requirement already satisfied: numpy in c:\\perflogs\\lib\\site-packages (from shap) (1.24.4)\n",
      "Requirement already satisfied: scipy in c:\\perflogs\\lib\\site-packages (from shap) (1.11.1)\n",
      "Requirement already satisfied: scikit-learn in c:\\perflogs\\lib\\site-packages (from shap) (1.4.1.post1)\n",
      "Requirement already satisfied: pandas in c:\\perflogs\\lib\\site-packages (from shap) (2.0.3)\n",
      "Requirement already satisfied: tqdm>=4.27.0 in c:\\perflogs\\lib\\site-packages (from shap) (4.65.0)\n",
      "Requirement already satisfied: packaging>20.9 in c:\\perflogs\\lib\\site-packages (from shap) (23.1)\n",
      "Requirement already satisfied: slicer==0.0.7 in c:\\perflogs\\lib\\site-packages (from shap) (0.0.7)\n",
      "Requirement already satisfied: numba in c:\\perflogs\\lib\\site-packages (from shap) (0.57.1)\n",
      "Requirement already satisfied: cloudpickle in c:\\perflogs\\lib\\site-packages (from shap) (2.2.1)\n",
      "Requirement already satisfied: colorama in c:\\perflogs\\lib\\site-packages (from tqdm>=4.27.0->shap) (0.4.6)\n",
      "Requirement already satisfied: llvmlite<0.41,>=0.40.0dev0 in c:\\perflogs\\lib\\site-packages (from numba->shap) (0.40.0)\n",
      "Requirement already satisfied: python-dateutil>=2.8.2 in c:\\perflogs\\lib\\site-packages (from pandas->shap) (2.8.2)\n",
      "Requirement already satisfied: pytz>=2020.1 in c:\\perflogs\\lib\\site-packages (from pandas->shap) (2023.3.post1)\n",
      "Requirement already satisfied: tzdata>=2022.1 in c:\\perflogs\\lib\\site-packages (from pandas->shap) (2023.3)\n",
      "Requirement already satisfied: joblib>=1.2.0 in c:\\perflogs\\lib\\site-packages (from scikit-learn->shap) (1.2.0)\n",
      "Requirement already satisfied: threadpoolctl>=2.0.0 in c:\\perflogs\\lib\\site-packages (from scikit-learn->shap) (2.2.0)\n",
      "Requirement already satisfied: six>=1.5 in c:\\perflogs\\lib\\site-packages (from python-dateutil>=2.8.2->pandas->shap) (1.16.0)\n"
     ]
    }
   ],
   "source": [
    "!pip install shap --user"
   ]
  },
  {
   "cell_type": "code",
   "execution_count": null,
   "id": "09cbf983",
   "metadata": {},
   "outputs": [],
   "source": []
  },
  {
   "cell_type": "code",
   "execution_count": 50,
   "id": "5482bca4",
   "metadata": {},
   "outputs": [
    {
     "ename": "ImportError",
     "evalue": "Numba needs NumPy 1.24 or less",
     "output_type": "error",
     "traceback": [
      "\u001b[1;31m---------------------------------------------------------------------------\u001b[0m",
      "\u001b[1;31mImportError\u001b[0m                               Traceback (most recent call last)",
      "Cell \u001b[1;32mIn[50], line 1\u001b[0m\n\u001b[1;32m----> 1\u001b[0m \u001b[38;5;28;01mimport\u001b[39;00m \u001b[38;5;21;01mshap\u001b[39;00m\n",
      "File \u001b[1;32mC:\\PerfLogs\\Lib\\site-packages\\shap\\__init__.py:1\u001b[0m\n\u001b[1;32m----> 1\u001b[0m \u001b[38;5;28;01mfrom\u001b[39;00m \u001b[38;5;21;01m.\u001b[39;00m\u001b[38;5;21;01m_explanation\u001b[39;00m \u001b[38;5;28;01mimport\u001b[39;00m Cohorts, Explanation\n\u001b[0;32m      3\u001b[0m \u001b[38;5;66;03m# explainers\u001b[39;00m\n\u001b[0;32m      4\u001b[0m \u001b[38;5;28;01mfrom\u001b[39;00m \u001b[38;5;21;01m.\u001b[39;00m\u001b[38;5;21;01mexplainers\u001b[39;00m \u001b[38;5;28;01mimport\u001b[39;00m other\n",
      "File \u001b[1;32mC:\\PerfLogs\\Lib\\site-packages\\shap\\_explanation.py:13\u001b[0m\n\u001b[0;32m     10\u001b[0m \u001b[38;5;28;01mimport\u001b[39;00m \u001b[38;5;21;01msklearn\u001b[39;00m\n\u001b[0;32m     11\u001b[0m \u001b[38;5;28;01mfrom\u001b[39;00m \u001b[38;5;21;01mslicer\u001b[39;00m \u001b[38;5;28;01mimport\u001b[39;00m Alias, Obj, Slicer\n\u001b[1;32m---> 13\u001b[0m \u001b[38;5;28;01mfrom\u001b[39;00m \u001b[38;5;21;01m.\u001b[39;00m\u001b[38;5;21;01mutils\u001b[39;00m\u001b[38;5;21;01m.\u001b[39;00m\u001b[38;5;21;01m_exceptions\u001b[39;00m \u001b[38;5;28;01mimport\u001b[39;00m DimensionError\n\u001b[0;32m     14\u001b[0m \u001b[38;5;28;01mfrom\u001b[39;00m \u001b[38;5;21;01m.\u001b[39;00m\u001b[38;5;21;01mutils\u001b[39;00m\u001b[38;5;21;01m.\u001b[39;00m\u001b[38;5;21;01m_general\u001b[39;00m \u001b[38;5;28;01mimport\u001b[39;00m OpChain\n\u001b[0;32m     16\u001b[0m op_chain_root \u001b[38;5;241m=\u001b[39m OpChain(\u001b[38;5;124m\"\u001b[39m\u001b[38;5;124mshap.Explanation\u001b[39m\u001b[38;5;124m\"\u001b[39m)\n",
      "File \u001b[1;32mC:\\PerfLogs\\Lib\\site-packages\\shap\\utils\\__init__.py:1\u001b[0m\n\u001b[1;32m----> 1\u001b[0m \u001b[38;5;28;01mfrom\u001b[39;00m \u001b[38;5;21;01m.\u001b[39;00m\u001b[38;5;21;01m_clustering\u001b[39;00m \u001b[38;5;28;01mimport\u001b[39;00m (\n\u001b[0;32m      2\u001b[0m     delta_minimization_order,\n\u001b[0;32m      3\u001b[0m     hclust,\n\u001b[0;32m      4\u001b[0m     hclust_ordering,\n\u001b[0;32m      5\u001b[0m     partition_tree,\n\u001b[0;32m      6\u001b[0m     partition_tree_shuffle,\n\u001b[0;32m      7\u001b[0m )\n\u001b[0;32m      8\u001b[0m \u001b[38;5;28;01mfrom\u001b[39;00m \u001b[38;5;21;01m.\u001b[39;00m\u001b[38;5;21;01m_general\u001b[39;00m \u001b[38;5;28;01mimport\u001b[39;00m (\n\u001b[0;32m      9\u001b[0m     OpChain,\n\u001b[0;32m     10\u001b[0m     approximate_interactions,\n\u001b[1;32m   (...)\u001b[0m\n\u001b[0;32m     20\u001b[0m     suppress_stderr,\n\u001b[0;32m     21\u001b[0m )\n\u001b[0;32m     22\u001b[0m \u001b[38;5;28;01mfrom\u001b[39;00m \u001b[38;5;21;01m.\u001b[39;00m\u001b[38;5;21;01m_masked_model\u001b[39;00m \u001b[38;5;28;01mimport\u001b[39;00m MaskedModel, make_masks\n",
      "File \u001b[1;32mC:\\PerfLogs\\Lib\\site-packages\\shap\\utils\\_clustering.py:8\u001b[0m\n\u001b[0;32m      6\u001b[0m \u001b[38;5;28;01mimport\u001b[39;00m \u001b[38;5;21;01mscipy\u001b[39;00m\u001b[38;5;21;01m.\u001b[39;00m\u001b[38;5;21;01mspatial\u001b[39;00m\n\u001b[0;32m      7\u001b[0m \u001b[38;5;28;01mimport\u001b[39;00m \u001b[38;5;21;01msklearn\u001b[39;00m\n\u001b[1;32m----> 8\u001b[0m \u001b[38;5;28;01mfrom\u001b[39;00m \u001b[38;5;21;01mnumba\u001b[39;00m \u001b[38;5;28;01mimport\u001b[39;00m njit\n\u001b[0;32m     10\u001b[0m \u001b[38;5;28;01mfrom\u001b[39;00m \u001b[38;5;21;01m.\u001b[39;00m\u001b[38;5;21;01m_show_progress\u001b[39;00m \u001b[38;5;28;01mimport\u001b[39;00m show_progress\n\u001b[0;32m     13\u001b[0m \u001b[38;5;28;01mdef\u001b[39;00m \u001b[38;5;21mpartition_tree\u001b[39m(X, metric\u001b[38;5;241m=\u001b[39m\u001b[38;5;124m\"\u001b[39m\u001b[38;5;124mcorrelation\u001b[39m\u001b[38;5;124m\"\u001b[39m):\n",
      "File \u001b[1;32mC:\\PerfLogs\\Lib\\site-packages\\numba\\__init__.py:55\u001b[0m\n\u001b[0;32m     50\u001b[0m             msg \u001b[38;5;241m=\u001b[39m (\u001b[38;5;124m\"\u001b[39m\u001b[38;5;124mNumba requires SciPy version 1.0 or greater. Got SciPy \u001b[39m\u001b[38;5;124m\"\u001b[39m\n\u001b[0;32m     51\u001b[0m                    \u001b[38;5;124mf\u001b[39m\u001b[38;5;124m\"\u001b[39m\u001b[38;5;132;01m{\u001b[39;00mscipy\u001b[38;5;241m.\u001b[39m__version__\u001b[38;5;132;01m}\u001b[39;00m\u001b[38;5;124m.\u001b[39m\u001b[38;5;124m\"\u001b[39m)\n\u001b[0;32m     52\u001b[0m             \u001b[38;5;28;01mraise\u001b[39;00m \u001b[38;5;167;01mImportError\u001b[39;00m(msg)\n\u001b[1;32m---> 55\u001b[0m _ensure_critical_deps()\n\u001b[0;32m     56\u001b[0m \u001b[38;5;66;03m# END DO NOT MOVE\u001b[39;00m\n\u001b[0;32m     57\u001b[0m \u001b[38;5;66;03m# ---------------------- WARNING WARNING WARNING ----------------------------\u001b[39;00m\n\u001b[0;32m     60\u001b[0m \u001b[38;5;28;01mfrom\u001b[39;00m \u001b[38;5;21;01m.\u001b[39;00m\u001b[38;5;21;01m_version\u001b[39;00m \u001b[38;5;28;01mimport\u001b[39;00m get_versions\n",
      "File \u001b[1;32mC:\\PerfLogs\\Lib\\site-packages\\numba\\__init__.py:42\u001b[0m, in \u001b[0;36m_ensure_critical_deps\u001b[1;34m()\u001b[0m\n\u001b[0;32m     40\u001b[0m     \u001b[38;5;28;01mraise\u001b[39;00m \u001b[38;5;167;01mImportError\u001b[39;00m(msg)\n\u001b[0;32m     41\u001b[0m \u001b[38;5;28;01melif\u001b[39;00m numpy_version \u001b[38;5;241m>\u001b[39m (\u001b[38;5;241m1\u001b[39m, \u001b[38;5;241m24\u001b[39m):\n\u001b[1;32m---> 42\u001b[0m     \u001b[38;5;28;01mraise\u001b[39;00m \u001b[38;5;167;01mImportError\u001b[39;00m(\u001b[38;5;124m\"\u001b[39m\u001b[38;5;124mNumba needs NumPy 1.24 or less\u001b[39m\u001b[38;5;124m\"\u001b[39m)\n\u001b[0;32m     43\u001b[0m \u001b[38;5;28;01mtry\u001b[39;00m:\n\u001b[0;32m     44\u001b[0m     \u001b[38;5;28;01mimport\u001b[39;00m \u001b[38;5;21;01mscipy\u001b[39;00m\n",
      "\u001b[1;31mImportError\u001b[0m: Numba needs NumPy 1.24 or less"
     ]
    }
   ],
   "source": [
    "import shap"
   ]
  },
  {
   "cell_type": "code",
   "execution_count": null,
   "id": "a045babd-34e5-40ec-8b69-b8ee6083d54f",
   "metadata": {},
   "outputs": [],
   "source": [
    "shap.initjs()"
   ]
  },
  {
   "cell_type": "code",
   "execution_count": null,
   "id": "c833bc9f",
   "metadata": {},
   "outputs": [],
   "source": [
    "explainer = shap.TreeExplainer(bst)"
   ]
  },
  {
   "cell_type": "code",
   "execution_count": null,
   "id": "368767f1",
   "metadata": {},
   "outputs": [],
   "source": [
    "shap_values = explainer(X_test)"
   ]
  },
  {
   "cell_type": "code",
   "execution_count": null,
   "id": "6de5b213-7553-4cbf-8453-83b3518408c0",
   "metadata": {},
   "outputs": [],
   "source": [
    "shap.plots.bar(shap_values)"
   ]
  },
  {
   "cell_type": "code",
   "execution_count": null,
   "id": "77da0a8f",
   "metadata": {},
   "outputs": [],
   "source": [
    "shap.summary_plot(shap_values, X_test)"
   ]
  },
  {
   "cell_type": "code",
   "execution_count": null,
   "id": "9be22720-3bce-45e0-832f-d808f3a704c9",
   "metadata": {},
   "outputs": [],
   "source": [
    "shap_values[0]"
   ]
  },
  {
   "cell_type": "code",
   "execution_count": null,
   "id": "16e4a3a2-1dd2-4f46-82ca-12682c64b754",
   "metadata": {},
   "outputs": [],
   "source": [
    "i=3\n",
    "print(bst.predict(X_test)[i],y_test.values[i])\n",
    "shap.waterfall_plot(shap_values[i])\n"
   ]
  },
  {
   "cell_type": "code",
   "execution_count": null,
   "id": "9a7331d7-9f90-4a1e-a280-1ab37a068ba1",
   "metadata": {},
   "outputs": [],
   "source": [
    "shap.force_plot(shap_values[0])"
   ]
  },
  {
   "cell_type": "code",
   "execution_count": null,
   "id": "0331121b",
   "metadata": {},
   "outputs": [],
   "source": [
    "not_equal = [i for i,j in enumerate(zip(bst.predict(X_test),y_test.values)) if j[0]!=j[1]]"
   ]
  },
  {
   "cell_type": "code",
   "execution_count": null,
   "id": "32876268",
   "metadata": {},
   "outputs": [],
   "source": [
    "len(not_equal)"
   ]
  },
  {
   "cell_type": "code",
   "execution_count": null,
   "id": "3fa84688",
   "metadata": {},
   "outputs": [],
   "source": [
    "def update_plot(instanse_index=2):\n",
    "    item = not_equal[instanse_index]\n",
    "    print(y_test.iloc[item])\n",
    "    shap.force_plot(shap_values[item], matplotlib = True)"
   ]
  },
  {
   "cell_type": "code",
   "execution_count": null,
   "id": "64ceab12",
   "metadata": {},
   "outputs": [],
   "source": [
    "from ipywidgets import interact"
   ]
  },
  {
   "cell_type": "code",
   "execution_count": null,
   "id": "738dc1f6",
   "metadata": {},
   "outputs": [],
   "source": [
    "interact(update_plot, instanse_index =(0, len(not_equal),1));"
   ]
  },
  {
   "cell_type": "code",
   "execution_count": null,
   "id": "fac2b0ac-0011-40e4-8b3d-a1f4b532c5d5",
   "metadata": {},
   "outputs": [],
   "source": [
    "shap.unique(explainer.expected_value, explainer.shap_values(X_test)[not_equal], X_test.iloc[not_equal,:])"
   ]
  },
  {
   "cell_type": "code",
   "execution_count": null,
   "id": "c7e56d9c",
   "metadata": {},
   "outputs": [],
   "source": [
    "X_test.head()"
   ]
  },
  {
   "cell_type": "code",
   "execution_count": null,
   "id": "e9469df1",
   "metadata": {},
   "outputs": [],
   "source": [
    "feature_shap_values = shap_values[:,9].values\n",
    "feature_values = X_test['sex'].values"
   ]
  },
  {
   "cell_type": "code",
   "execution_count": null,
   "id": "510a68c7",
   "metadata": {},
   "outputs": [],
   "source": [
    "res = pd.DataFrame([feature_values, feature_shap_values]).T.groupby(0).agg(lambda x: list(x)).to_dict()"
   ]
  },
  {
   "cell_type": "code",
   "execution_count": null,
   "id": "1cd59d35-0be2-413a-9a0c-31efbce2ca15",
   "metadata": {},
   "outputs": [],
   "source": [
    "shap_values_feature = pd.DataFrame({i: pd.Series(j) for i,j in res[1].items()})"
   ]
  },
  {
   "cell_type": "code",
   "execution_count": null,
   "id": "d3061004",
   "metadata": {},
   "outputs": [],
   "source": [
    "px.box(shap_values_feature)"
   ]
  },
  {
   "cell_type": "code",
   "execution_count": null,
   "id": "05c770e5-197e-4bc3-89db-67a0b1da26fd",
   "metadata": {},
   "outputs": [],
   "source": [
    "shap.dependence_plot(\"sex\", shap_values.values, X_test, interaction_index=\"relationship\")"
   ]
  },
  {
   "cell_type": "code",
   "execution_count": null,
   "id": "3b064946-3138-4da7-b49c-6aa75dcc6c89",
   "metadata": {},
   "outputs": [],
   "source": [
    "shap_values_errors = explainer.shap_values(X_test.iloc[not_equal,:])"
   ]
  },
  {
   "cell_type": "code",
   "execution_count": null,
   "id": "18364982-768a-4fc7-ab5a-04a47a4d4827",
   "metadata": {},
   "outputs": [],
   "source": [
    "y_test.iloc[not_equal,:].value_counts()"
   ]
  },
  {
   "cell_type": "code",
   "execution_count": null,
   "id": "fbc0408f-988c-4ae0-9c46-4b744accf862",
   "metadata": {},
   "outputs": [],
   "source": [
    "np.unique(bst.predict(X_test)[not_equal], return_counts=True)"
   ]
  },
  {
   "cell_type": "code",
   "execution_count": null,
   "id": "7d6f4b1e-6eec-4c43-823f-8934a63182a6",
   "metadata": {},
   "outputs": [],
   "source": [
    "shap.force_plot(explainer.expected_value, shap_values_errors, X_test.iloc[not_equal,:])"
   ]
  },
  {
   "cell_type": "markdown",
   "id": "c0508199",
   "metadata": {},
   "source": [
    "## Задание"
   ]
  },
  {
   "cell_type": "markdown",
   "id": "39ba463d",
   "metadata": {},
   "source": [
    "Провести анализ лучшей модели категориального бустинга, построенной для прогнозирования вероятности выполнения погрузки."
   ]
  },
  {
   "cell_type": "code",
   "execution_count": null,
   "id": "de5acbc2",
   "metadata": {},
   "outputs": [],
   "source": []
  },
  {
   "cell_type": "code",
   "execution_count": null,
   "id": "5c761ce7",
   "metadata": {},
   "outputs": [],
   "source": []
  },
  {
   "cell_type": "code",
   "execution_count": null,
   "id": "47cdaf6a",
   "metadata": {},
   "outputs": [],
   "source": []
  },
  {
   "cell_type": "code",
   "execution_count": null,
   "id": "d13ec10e",
   "metadata": {},
   "outputs": [],
   "source": []
  }
 ],
 "metadata": {
  "hide_input": false,
  "kernelspec": {
   "display_name": "Python 3 (ipykernel)",
   "language": "python",
   "name": "python3"
  },
  "language_info": {
   "codemirror_mode": {
    "name": "ipython",
    "version": 3
   },
   "file_extension": ".py",
   "mimetype": "text/x-python",
   "name": "python",
   "nbconvert_exporter": "python",
   "pygments_lexer": "ipython3",
   "version": "3.11.5"
  }
 },
 "nbformat": 4,
 "nbformat_minor": 5
}
